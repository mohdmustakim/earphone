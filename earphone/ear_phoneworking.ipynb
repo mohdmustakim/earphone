{
 "cells": [
  {
   "cell_type": "code",
   "execution_count": 2,
   "metadata": {},
   "outputs": [],
   "source": [
    "import pandas as pd\n",
    "import numpy as np\n",
    "import re\n",
    "import matplotlib.pyplot as plt\n",
    "import seaborn as sns\n",
    "import os"
   ]
  },
  {
   "cell_type": "code",
   "execution_count": 3,
   "metadata": {},
   "outputs": [],
   "source": [
    "os.chdir(\"C:\\\\Users\\\\mohd mustakim\")"
   ]
  },
  {
   "cell_type": "code",
   "execution_count": 4,
   "metadata": {},
   "outputs": [],
   "source": [
    "df=pd.read_csv(\"ear_phone_return.csv\")"
   ]
  },
  {
   "cell_type": "code",
   "execution_count": 5,
   "metadata": {},
   "outputs": [
    {
     "data": {
      "text/html": [
       "<div>\n",
       "<style scoped>\n",
       "    .dataframe tbody tr th:only-of-type {\n",
       "        vertical-align: middle;\n",
       "    }\n",
       "\n",
       "    .dataframe tbody tr th {\n",
       "        vertical-align: top;\n",
       "    }\n",
       "\n",
       "    .dataframe thead th {\n",
       "        text-align: right;\n",
       "    }\n",
       "</style>\n",
       "<table border=\"1\" class=\"dataframe\">\n",
       "  <thead>\n",
       "    <tr style=\"text-align: right;\">\n",
       "      <th></th>\n",
       "      <th>Unnamed: 0</th>\n",
       "      <th>model</th>\n",
       "      <th>colours</th>\n",
       "      <th>ratings</th>\n",
       "      <th>reviews</th>\n",
       "      <th>selling_price(Rs)</th>\n",
       "      <th>actual_price(Rs)</th>\n",
       "      <th>off(%)</th>\n",
       "      <th>brand</th>\n",
       "      <th>type</th>\n",
       "      <th>colour</th>\n",
       "      <th>discount</th>\n",
       "    </tr>\n",
       "  </thead>\n",
       "  <tbody>\n",
       "    <tr>\n",
       "      <th>0</th>\n",
       "      <td>0</td>\n",
       "      <td>boAt Airdopes 491 True Wireless Bluetooth Headset</td>\n",
       "      <td>Spirit Lime, True Wireless</td>\n",
       "      <td>3.6</td>\n",
       "      <td>751</td>\n",
       "      <td>2999</td>\n",
       "      <td>6974</td>\n",
       "      <td>57</td>\n",
       "      <td>boAt</td>\n",
       "      <td>True Wireless</td>\n",
       "      <td>Spirit Lime</td>\n",
       "      <td>3975</td>\n",
       "    </tr>\n",
       "    <tr>\n",
       "      <th>1</th>\n",
       "      <td>1</td>\n",
       "      <td>boAt Airdopes 641 Bluetooth Headset</td>\n",
       "      <td>Black Fusion, True Wireless</td>\n",
       "      <td>4.2</td>\n",
       "      <td>28</td>\n",
       "      <td>2999</td>\n",
       "      <td>6974</td>\n",
       "      <td>57</td>\n",
       "      <td>boAt</td>\n",
       "      <td>True Wireless</td>\n",
       "      <td>Black Fusion</td>\n",
       "      <td>3975</td>\n",
       "    </tr>\n",
       "    <tr>\n",
       "      <th>2</th>\n",
       "      <td>2</td>\n",
       "      <td>OnePlus Bullets Wireless Z Bluetooth Headset</td>\n",
       "      <td>Black, In the Ear</td>\n",
       "      <td>4.4</td>\n",
       "      <td>257701</td>\n",
       "      <td>1999</td>\n",
       "      <td>2173</td>\n",
       "      <td>8</td>\n",
       "      <td>OnePlus</td>\n",
       "      <td>In the Ear</td>\n",
       "      <td>Black</td>\n",
       "      <td>174</td>\n",
       "    </tr>\n",
       "    <tr>\n",
       "      <th>3</th>\n",
       "      <td>3</td>\n",
       "      <td>OnePlus Bullets Wireless Z Bass Edition Blueto...</td>\n",
       "      <td>Reverb Red, In the Ear</td>\n",
       "      <td>4.4</td>\n",
       "      <td>102096</td>\n",
       "      <td>1999</td>\n",
       "      <td>2173</td>\n",
       "      <td>8</td>\n",
       "      <td>OnePlus</td>\n",
       "      <td>In the Ear</td>\n",
       "      <td>Reverb Red</td>\n",
       "      <td>174</td>\n",
       "    </tr>\n",
       "    <tr>\n",
       "      <th>4</th>\n",
       "      <td>4</td>\n",
       "      <td>Mivi Collar Classic with Fast Charging Bluetoo...</td>\n",
       "      <td>Black, In the Ear</td>\n",
       "      <td>4.0</td>\n",
       "      <td>802</td>\n",
       "      <td>999</td>\n",
       "      <td>2498</td>\n",
       "      <td>60</td>\n",
       "      <td>Mivi</td>\n",
       "      <td>In the Ear</td>\n",
       "      <td>Black</td>\n",
       "      <td>1499</td>\n",
       "    </tr>\n",
       "  </tbody>\n",
       "</table>\n",
       "</div>"
      ],
      "text/plain": [
       "   Unnamed: 0                                              model  \\\n",
       "0           0  boAt Airdopes 491 True Wireless Bluetooth Headset   \n",
       "1           1                boAt Airdopes 641 Bluetooth Headset   \n",
       "2           2       OnePlus Bullets Wireless Z Bluetooth Headset   \n",
       "3           3  OnePlus Bullets Wireless Z Bass Edition Blueto...   \n",
       "4           4  Mivi Collar Classic with Fast Charging Bluetoo...   \n",
       "\n",
       "                       colours  ratings  reviews  selling_price(Rs)  \\\n",
       "0   Spirit Lime, True Wireless      3.6      751               2999   \n",
       "1  Black Fusion, True Wireless      4.2       28               2999   \n",
       "2            Black, In the Ear      4.4   257701               1999   \n",
       "3       Reverb Red, In the Ear      4.4   102096               1999   \n",
       "4            Black, In the Ear      4.0      802                999   \n",
       "\n",
       "   actual_price(Rs)  off(%)    brand           type        colour  discount  \n",
       "0              6974      57     boAt  True Wireless   Spirit Lime      3975  \n",
       "1              6974      57     boAt  True Wireless  Black Fusion      3975  \n",
       "2              2173       8  OnePlus     In the Ear         Black       174  \n",
       "3              2173       8  OnePlus     In the Ear    Reverb Red       174  \n",
       "4              2498      60     Mivi     In the Ear         Black      1499  "
      ]
     },
     "execution_count": 5,
     "metadata": {},
     "output_type": "execute_result"
    }
   ],
   "source": [
    "df.head()"
   ]
  },
  {
   "cell_type": "code",
   "execution_count": 6,
   "metadata": {},
   "outputs": [],
   "source": [
    "del df['Unnamed: 0']"
   ]
  },
  {
   "cell_type": "code",
   "execution_count": 7,
   "metadata": {},
   "outputs": [],
   "source": [
    "del df['colours']"
   ]
  },
  {
   "cell_type": "code",
   "execution_count": 13,
   "metadata": {},
   "outputs": [],
   "source": [
    "rows,columns=df.shape"
   ]
  },
  {
   "cell_type": "code",
   "execution_count": 14,
   "metadata": {},
   "outputs": [
    {
     "data": {
      "text/plain": [
       "723"
      ]
     },
     "execution_count": 14,
     "metadata": {},
     "output_type": "execute_result"
    }
   ],
   "source": [
    "rows"
   ]
  },
  {
   "cell_type": "code",
   "execution_count": 15,
   "metadata": {},
   "outputs": [
    {
     "data": {
      "text/plain": [
       "10"
      ]
     },
     "execution_count": 15,
     "metadata": {},
     "output_type": "execute_result"
    }
   ],
   "source": [
    "columns"
   ]
  },
  {
   "cell_type": "code",
   "execution_count": 10,
   "metadata": {},
   "outputs": [
    {
     "data": {
      "text/plain": [
       "Index(['model', 'ratings', 'reviews', 'selling_price(Rs)', 'actual_price(Rs)',\n",
       "       'off(%)', 'brand', 'type', 'colour', 'discount'],\n",
       "      dtype='object')"
      ]
     },
     "execution_count": 10,
     "metadata": {},
     "output_type": "execute_result"
    }
   ],
   "source": [
    "df.columns"
   ]
  },
  {
   "cell_type": "markdown",
   "metadata": {},
   "source": [
    "# Univariate"
   ]
  },
  {
   "cell_type": "markdown",
   "metadata": {},
   "source": [
    "## brands with number of product"
   ]
  },
  {
   "cell_type": "code",
   "execution_count": 279,
   "metadata": {},
   "outputs": [
    {
     "data": {
      "image/png": "[encoded data removed]",
      "text/plain": [
       "<Figure size 432x288 with 1 Axes>"
      ]
     },
     "metadata": {
      "needs_background": "light"
     },
     "output_type": "display_data"
    }
   ],
   "source": [
    "sns.countplot(y='brand',data=df)\n",
    "plt.xticks(rotation=90)\n",
    "plt.xlabel(\"brand\",color='brown',size=15)\n",
    "plt.ylabel(\"number of product\",color='brown',size=15)\n",
    "plt.title(\"brand with number of products\",color='blue')\n",
    "plt.show()"
   ]
  },
  {
   "cell_type": "code",
   "execution_count": 323,
   "metadata": {},
   "outputs": [],
   "source": [
    "a=df[\"brand\"].value_counts().reset_index()"
   ]
  },
  {
   "cell_type": "code",
   "execution_count": 324,
   "metadata": {},
   "outputs": [
    {
     "data": {
      "text/html": [
       "<div>\n",
       "<style scoped>\n",
       "    .dataframe tbody tr th:only-of-type {\n",
       "        vertical-align: middle;\n",
       "    }\n",
       "\n",
       "    .dataframe tbody tr th {\n",
       "        vertical-align: top;\n",
       "    }\n",
       "\n",
       "    .dataframe thead th {\n",
       "        text-align: right;\n",
       "    }\n",
       "</style>\n",
       "<table border=\"1\" class=\"dataframe\">\n",
       "  <thead>\n",
       "    <tr style=\"text-align: right;\">\n",
       "      <th></th>\n",
       "      <th>index</th>\n",
       "      <th>brand</th>\n",
       "    </tr>\n",
       "  </thead>\n",
       "  <tbody>\n",
       "    <tr>\n",
       "      <th>0</th>\n",
       "      <td>boAt</td>\n",
       "      <td>104</td>\n",
       "    </tr>\n",
       "    <tr>\n",
       "      <th>1</th>\n",
       "      <td>ViVO</td>\n",
       "      <td>94</td>\n",
       "    </tr>\n",
       "  </tbody>\n",
       "</table>\n",
       "</div>"
      ],
      "text/plain": [
       "  index  brand\n",
       "0  boAt    104\n",
       "1  ViVO     94"
      ]
     },
     "execution_count": 324,
     "metadata": {},
     "output_type": "execute_result"
    }
   ],
   "source": [
    "a.head(2)"
   ]
  },
  {
   "cell_type": "code",
   "execution_count": 328,
   "metadata": {},
   "outputs": [
    {
     "data": {
      "image/png": "[encoded data removed]",
      "text/plain": [
       "<Figure size 720x432 with 1 Axes>"
      ]
     },
     "metadata": {
      "needs_background": "light"
     },
     "output_type": "display_data"
    }
   ],
   "source": [
    "plt.figure(figsize=(10,6))\n",
    "sns.lineplot(x='index',y='brand',data=a)\n",
    "plt.title(\"brand with number of products\",color='blue')\n",
    "plt.xlabel(\"brand\",color='brown',size=15)\n",
    "plt.ylabel(\"number of product\",color='brown',size=15)\n",
    "plt.xticks(rotation=90)\n",
    "plt.grid(axis='x')\n",
    "plt.show()"
   ]
  },
  {
   "cell_type": "code",
   "execution_count": 327,
   "metadata": {},
   "outputs": [
    {
     "data": {
      "image/png": "[encoded data removed]",
      "text/plain": [
       "<Figure size 432x288 with 1 Axes>"
      ]
     },
     "metadata": {
      "needs_background": "light"
     },
     "output_type": "display_data"
    }
   ],
   "source": [
    "df[\"brand\"].value_counts().plot(kind=\"line\")\n",
    "plt.xticks(rotation=90)\n",
    "plt.title(\"brand with number of products\",color='blue')\n",
    "plt.xlabel(\"brand\",color='brown',size=15)\n",
    "plt.ylabel(\"number of product\",color='brown',size=15)\n",
    "plt.grid(axis='x')\n",
    "plt.show()"
   ]
  },
  {
   "cell_type": "code",
   "execution_count": 30,
   "metadata": {},
   "outputs": [
    {
     "data": {
      "image/png": "[encoded data removed]",
      "text/plain": [
       "<Figure size 432x288 with 1 Axes>"
      ]
     },
     "metadata": {},
     "output_type": "display_data"
    }
   ],
   "source": [
    "df[\"brand\"].value_counts().plot(kind=\"pie\",shadow = True,autopct='%1.2f%%',radius=2)\n",
    "plt.show()\n",
    "#plt.legend(title=\"brand\")"
   ]
  },
  {
   "cell_type": "code",
   "execution_count": 31,
   "metadata": {},
   "outputs": [
    {
     "data": {
      "image/png": "[encoded data removed]",
      "text/plain": [
       "<Figure size 432x288 with 1 Axes>"
      ]
     },
     "metadata": {
      "needs_background": "light"
     },
     "output_type": "display_data"
    }
   ],
   "source": [
    "plt.hist(df[\"brand\"])\n",
    "plt.xticks(rotation=90)\n",
    "plt.show() "
   ]
  },
  {
   "cell_type": "markdown",
   "metadata": {},
   "source": [
    "## ratings with number of products"
   ]
  },
  {
   "cell_type": "code",
   "execution_count": 32,
   "metadata": {},
   "outputs": [
    {
     "data": {
      "text/plain": [
       "<AxesSubplot:>"
      ]
     },
     "execution_count": 32,
     "metadata": {},
     "output_type": "execute_result"
    },
    {
     "data": {
      "image/png": "[encoded data removed]",
      "text/plain": [
       "<Figure size 432x288 with 1 Axes>"
      ]
     },
     "metadata": {
      "needs_background": "light"
     },
     "output_type": "display_data"
    }
   ],
   "source": [
    "df['ratings'].value_counts().plot(kind='bar')"
   ]
  },
  {
   "cell_type": "code",
   "execution_count": 302,
   "metadata": {},
   "outputs": [
    {
     "data": {
      "text/plain": [
       "<AxesSubplot:xlabel='ratings'>"
      ]
     },
     "execution_count": 302,
     "metadata": {},
     "output_type": "execute_result"
    },
    {
     "data": {
      "image/png": "[encoded data removed]",
      "text/plain": [
       "<Figure size 432x288 with 1 Axes>"
      ]
     },
     "metadata": {
      "needs_background": "light"
     },
     "output_type": "display_data"
    }
   ],
   "source": [
    "sns.boxplot(x=df['ratings'])"
   ]
  },
  {
   "cell_type": "code",
   "execution_count": 33,
   "metadata": {},
   "outputs": [
    {
     "data": {
      "text/plain": [
       "<AxesSubplot:>"
      ]
     },
     "execution_count": 33,
     "metadata": {},
     "output_type": "execute_result"
    },
    {
     "data": {
      "image/png": "[encoded data removed]",
      "text/plain": [
       "<Figure size 432x288 with 1 Axes>"
      ]
     },
     "metadata": {
      "needs_background": "light"
     },
     "output_type": "display_data"
    }
   ],
   "source": [
    "df['ratings'].value_counts().plot(kind='line')"
   ]
  },
  {
   "cell_type": "code",
   "execution_count": 34,
   "metadata": {},
   "outputs": [
    {
     "data": {
      "text/plain": [
       "<AxesSubplot:ylabel='ratings'>"
      ]
     },
     "execution_count": 34,
     "metadata": {},
     "output_type": "execute_result"
    },
    {
     "data": {
      "image/png": "[encoded data removed]",
      "text/plain": [
       "<Figure size 432x288 with 1 Axes>"
      ]
     },
     "metadata": {},
     "output_type": "display_data"
    }
   ],
   "source": [
    "df['ratings'].value_counts().plot(kind='pie',radius=2.5)"
   ]
  },
  {
   "cell_type": "code",
   "execution_count": 35,
   "metadata": {},
   "outputs": [
    {
     "data": {
      "image/png": "[encoded data removed]",
      "text/plain": [
       "<Figure size 432x288 with 1 Axes>"
      ]
     },
     "metadata": {
      "needs_background": "light"
     },
     "output_type": "display_data"
    }
   ],
   "source": [
    "plt.hist(df[\"ratings\"])\n",
    "plt.xticks(rotation=90)\n",
    "plt.show() "
   ]
  },
  {
   "cell_type": "markdown",
   "metadata": {},
   "source": [
    "## reviews with number of products"
   ]
  },
  {
   "cell_type": "code",
   "execution_count": 36,
   "metadata": {},
   "outputs": [
    {
     "data": {
      "image/png": "[encoded data removed]",
      "text/plain": [
       "<Figure size 432x288 with 1 Axes>"
      ]
     },
     "metadata": {
      "needs_background": "light"
     },
     "output_type": "display_data"
    }
   ],
   "source": [
    "sns.countplot(x=\"reviews\",data=df,order=df[\"reviews\"].value_counts().index[0:20])\n",
    "plt.xticks(rotation=90)\n",
    "plt.show()"
   ]
  },
  {
   "cell_type": "code",
   "execution_count": 37,
   "metadata": {},
   "outputs": [
    {
     "data": {
      "image/png": "[encoded data removed]",
      "text/plain": [
       "<Figure size 432x288 with 1 Axes>"
      ]
     },
     "metadata": {
      "needs_background": "light"
     },
     "output_type": "display_data"
    }
   ],
   "source": [
    "plt.hist(df[\"reviews\"])\n",
    "plt.xticks(rotation=90)\n",
    "plt.show() "
   ]
  },
  {
   "cell_type": "code",
   "execution_count": 301,
   "metadata": {},
   "outputs": [
    {
     "data": {
      "text/plain": [
       "<AxesSubplot:xlabel='reviews'>"
      ]
     },
     "execution_count": 301,
     "metadata": {},
     "output_type": "execute_result"
    },
    {
     "data": {
      "image/png": "[encoded data removed]",
      "text/plain": [
       "<Figure size 432x288 with 1 Axes>"
      ]
     },
     "metadata": {
      "needs_background": "light"
     },
     "output_type": "display_data"
    }
   ],
   "source": [
    "sns.boxplot(x=df['reviews'],showfliers=False)"
   ]
  },
  {
   "cell_type": "markdown",
   "metadata": {},
   "source": [
    "## price with more number of products"
   ]
  },
  {
   "cell_type": "code",
   "execution_count": 38,
   "metadata": {},
   "outputs": [
    {
     "data": {
      "image/png": "[encoded data removed]",
      "text/plain": [
       "<Figure size 432x288 with 1 Axes>"
      ]
     },
     "metadata": {
      "needs_background": "light"
     },
     "output_type": "display_data"
    }
   ],
   "source": [
    "sns.countplot(y=\"selling_price(Rs)\",data=df,order=df[\"selling_price(Rs)\"].value_counts().index[0:20])\n",
    "plt.xticks(rotation=90)\n",
    "plt.show()\n",
    "#df['selling_price(Rs)'].value_counts().plot(kind=\"bar\")"
   ]
  },
  {
   "cell_type": "code",
   "execution_count": 291,
   "metadata": {},
   "outputs": [
    {
     "data": {
      "text/plain": [
       "<AxesSubplot:xlabel='selling_price(Rs)'>"
      ]
     },
     "execution_count": 291,
     "metadata": {},
     "output_type": "execute_result"
    },
    {
     "data": {
      "image/png": "[encoded data removed]",
      "text/plain": [
       "<Figure size 432x288 with 1 Axes>"
      ]
     },
     "metadata": {
      "needs_background": "light"
     },
     "output_type": "display_data"
    }
   ],
   "source": [
    "sns.boxplot(x='selling_price(Rs)',data=df)"
   ]
  },
  {
   "cell_type": "code",
   "execution_count": 39,
   "metadata": {},
   "outputs": [
    {
     "data": {
      "text/plain": [
       "<AxesSubplot:xlabel='selling_price(Rs)', ylabel='Count'>"
      ]
     },
     "execution_count": 39,
     "metadata": {},
     "output_type": "execute_result"
    },
    {
     "data": {
      "image/png": "[encoded data removed]",
      "text/plain": [
       "<Figure size 432x288 with 1 Axes>"
      ]
     },
     "metadata": {
      "needs_background": "light"
     },
     "output_type": "display_data"
    }
   ],
   "source": [
    "sns.histplot(df['selling_price(Rs)'])"
   ]
  },
  {
   "cell_type": "markdown",
   "metadata": {},
   "source": [
    "## number of products with thier types"
   ]
  },
  {
   "cell_type": "code",
   "execution_count": 297,
   "metadata": {},
   "outputs": [
    {
     "data": {
      "text/plain": [
       "<AxesSubplot:xlabel='count', ylabel='type'>"
      ]
     },
     "execution_count": 297,
     "metadata": {},
     "output_type": "execute_result"
    },
    {
     "data": {
      "image/png": "[encoded data removed]",
      "text/plain": [
       "<Figure size 432x288 with 1 Axes>"
      ]
     },
     "metadata": {
      "needs_background": "light"
     },
     "output_type": "display_data"
    }
   ],
   "source": [
    "sns.countplot(y='type',data=df)"
   ]
  },
  {
   "cell_type": "code",
   "execution_count": 41,
   "metadata": {},
   "outputs": [
    {
     "data": {
      "text/plain": [
       "<AxesSubplot:>"
      ]
     },
     "execution_count": 41,
     "metadata": {},
     "output_type": "execute_result"
    },
    {
     "data": {
      "image/png": "[encoded data removed]",
      "text/plain": [
       "<Figure size 432x288 with 1 Axes>"
      ]
     },
     "metadata": {
      "needs_background": "light"
     },
     "output_type": "display_data"
    }
   ],
   "source": [
    "df[\"discount\"].value_counts().plot(kind='line')"
   ]
  },
  {
   "cell_type": "code",
   "execution_count": 42,
   "metadata": {},
   "outputs": [
    {
     "data": {
      "image/png": "[encoded data removed]",
      "text/plain": [
       "<Figure size 432x288 with 1 Axes>"
      ]
     },
     "metadata": {
      "needs_background": "light"
     },
     "output_type": "display_data"
    }
   ],
   "source": [
    "sns.histplot(df[\"discount\"])\n",
    "plt.show()"
   ]
  },
  {
   "cell_type": "code",
   "execution_count": 162,
   "metadata": {},
   "outputs": [
    {
     "data": {
      "text/plain": [
       "<AxesSubplot:ylabel='discount'>"
      ]
     },
     "execution_count": 162,
     "metadata": {},
     "output_type": "execute_result"
    },
    {
     "data": {
      "image/png": "[encoded data removed]",
      "text/plain": [
       "<Figure size 432x288 with 1 Axes>"
      ]
     },
     "metadata": {
      "needs_background": "light"
     },
     "output_type": "display_data"
    }
   ],
   "source": [
    "sns.boxplot(y=df['discount'],showfliers=True)"
   ]
  },
  {
   "cell_type": "code",
   "execution_count": 160,
   "metadata": {},
   "outputs": [
    {
     "data": {
      "text/plain": [
       "<AxesSubplot:ylabel='actual_price(Rs)'>"
      ]
     },
     "execution_count": 160,
     "metadata": {},
     "output_type": "execute_result"
    },
    {
     "data": {
      "image/png": "[encoded data removed]",
      "text/plain": [
       "<Figure size 432x288 with 1 Axes>"
      ]
     },
     "metadata": {
      "needs_background": "light"
     },
     "output_type": "display_data"
    }
   ],
   "source": [
    "sns.boxplot(y=df['actual_price(Rs)'],showfliers=True)"
   ]
  },
  {
   "cell_type": "code",
   "execution_count": 47,
   "metadata": {},
   "outputs": [
    {
     "data": {
      "text/plain": [
       "7361"
      ]
     },
     "execution_count": 47,
     "metadata": {},
     "output_type": "execute_result"
    }
   ],
   "source": [
    "df[\"discount\"].max()"
   ]
  },
  {
   "cell_type": "markdown",
   "metadata": {},
   "source": [
    "### bivariate"
   ]
  },
  {
   "cell_type": "code",
   "execution_count": 76,
   "metadata": {},
   "outputs": [
    {
     "data": {
      "text/html": [
       "<div>\n",
       "<style scoped>\n",
       "    .dataframe tbody tr th:only-of-type {\n",
       "        vertical-align: middle;\n",
       "    }\n",
       "\n",
       "    .dataframe tbody tr th {\n",
       "        vertical-align: top;\n",
       "    }\n",
       "\n",
       "    .dataframe thead th {\n",
       "        text-align: right;\n",
       "    }\n",
       "</style>\n",
       "<table border=\"1\" class=\"dataframe\">\n",
       "  <thead>\n",
       "    <tr style=\"text-align: right;\">\n",
       "      <th></th>\n",
       "      <th>model</th>\n",
       "      <th>ratings</th>\n",
       "      <th>reviews</th>\n",
       "      <th>selling_price(Rs)</th>\n",
       "      <th>actual_price(Rs)</th>\n",
       "      <th>off(%)</th>\n",
       "      <th>brand</th>\n",
       "      <th>type</th>\n",
       "      <th>colour</th>\n",
       "      <th>discount</th>\n",
       "    </tr>\n",
       "  </thead>\n",
       "  <tbody>\n",
       "    <tr>\n",
       "      <th>0</th>\n",
       "      <td>boAt Airdopes 491 True Wireless Bluetooth Headset</td>\n",
       "      <td>3.6</td>\n",
       "      <td>751</td>\n",
       "      <td>2999</td>\n",
       "      <td>6974</td>\n",
       "      <td>57</td>\n",
       "      <td>boAt</td>\n",
       "      <td>True Wireless</td>\n",
       "      <td>Spirit Lime</td>\n",
       "      <td>3975</td>\n",
       "    </tr>\n",
       "    <tr>\n",
       "      <th>1</th>\n",
       "      <td>boAt Airdopes 641 Bluetooth Headset</td>\n",
       "      <td>4.2</td>\n",
       "      <td>28</td>\n",
       "      <td>2999</td>\n",
       "      <td>6974</td>\n",
       "      <td>57</td>\n",
       "      <td>boAt</td>\n",
       "      <td>True Wireless</td>\n",
       "      <td>Black Fusion</td>\n",
       "      <td>3975</td>\n",
       "    </tr>\n",
       "  </tbody>\n",
       "</table>\n",
       "</div>"
      ],
      "text/plain": [
       "                                               model  ratings  reviews  \\\n",
       "0  boAt Airdopes 491 True Wireless Bluetooth Headset      3.6      751   \n",
       "1                boAt Airdopes 641 Bluetooth Headset      4.2       28   \n",
       "\n",
       "   selling_price(Rs)  actual_price(Rs)  off(%) brand           type  \\\n",
       "0               2999              6974      57  boAt  True Wireless   \n",
       "1               2999              6974      57  boAt  True Wireless   \n",
       "\n",
       "         colour  discount  \n",
       "0   Spirit Lime      3975  \n",
       "1  Black Fusion      3975  "
      ]
     },
     "execution_count": 76,
     "metadata": {},
     "output_type": "execute_result"
    }
   ],
   "source": [
    "df.head(2)"
   ]
  },
  {
   "cell_type": "code",
   "execution_count": 163,
   "metadata": {},
   "outputs": [
    {
     "data": {
      "image/png": "[encoded data removed]",
      "text/plain": [
       "<Figure size 432x288 with 1 Axes>"
      ]
     },
     "metadata": {
      "needs_background": "light"
     },
     "output_type": "display_data"
    }
   ],
   "source": [
    "df.groupby(by=df['brand'])['actual_price(Rs)'].max().plot(kind='bar')\n",
    "plt.show()"
   ]
  },
  {
   "cell_type": "code",
   "execution_count": 164,
   "metadata": {},
   "outputs": [],
   "source": [
    "max_price=df.groupby(by=df['brand'])['actual_price(Rs)'].max().sort_values(ascending=False).reset_index()"
   ]
  },
  {
   "cell_type": "code",
   "execution_count": null,
   "metadata": {},
   "outputs": [],
   "source": [
    "max_price.head(2)"
   ]
  },
  {
   "cell_type": "code",
   "execution_count": 167,
   "metadata": {},
   "outputs": [
    {
     "data": {
      "image/png": "[encoded data removed]",
      "text/plain": [
       "<Figure size 576x432 with 1 Axes>"
      ]
     },
     "metadata": {
      "needs_background": "light"
     },
     "output_type": "display_data"
    }
   ],
   "source": [
    "plt.figure(figsize=(8,6))\n",
    "sns.barplot(y=\"brand\",x=\"actual_price(Rs)\",data=max_price)\n",
    "plt.xticks(rotation=90)\n",
    "plt.title(\"BRAND WITH MAX PRICE\")\n",
    "plt.show()"
   ]
  },
  {
   "cell_type": "code",
   "execution_count": 58,
   "metadata": {},
   "outputs": [],
   "source": [
    "import plotly.graph_objects as go"
   ]
  },
  {
   "cell_type": "code",
   "execution_count": 59,
   "metadata": {},
   "outputs": [
    {
     "ename": "NameError",
     "evalue": "name 'max_price' is not defined",
     "output_type": "error",
     "traceback": [
      "\u001b[1;31m---------------------------------------------------------------------------\u001b[0m",
      "\u001b[1;31mNameError\u001b[0m                                 Traceback (most recent call last)",
      "\u001b[1;32m<ipython-input-59-ab6d62e045fd>\u001b[0m in \u001b[0;36m<module>\u001b[1;34m\u001b[0m\n\u001b[1;32m----> 1\u001b[1;33m \u001b[0mfig\u001b[0m\u001b[1;33m=\u001b[0m\u001b[0mgo\u001b[0m\u001b[1;33m.\u001b[0m\u001b[0mFigure\u001b[0m\u001b[1;33m(\u001b[0m\u001b[0mgo\u001b[0m\u001b[1;33m.\u001b[0m\u001b[0mBar\u001b[0m\u001b[1;33m(\u001b[0m\u001b[0mx\u001b[0m\u001b[1;33m=\u001b[0m\u001b[0mmax_price\u001b[0m\u001b[1;33m[\u001b[0m\u001b[1;34m\"brand\"\u001b[0m\u001b[1;33m]\u001b[0m\u001b[1;33m,\u001b[0m\u001b[0my\u001b[0m\u001b[1;33m=\u001b[0m\u001b[0mmax_price\u001b[0m\u001b[1;33m[\u001b[0m\u001b[1;34m\"actual_price(Rs)\"\u001b[0m\u001b[1;33m]\u001b[0m\u001b[1;33m)\u001b[0m\u001b[1;33m)\u001b[0m\u001b[1;33m\u001b[0m\u001b[1;33m\u001b[0m\u001b[0m\n\u001b[0m\u001b[0;32m      2\u001b[0m \u001b[0mfig\u001b[0m\u001b[1;33m.\u001b[0m\u001b[0mshow\u001b[0m\u001b[1;33m(\u001b[0m\u001b[1;33m)\u001b[0m\u001b[1;33m\u001b[0m\u001b[1;33m\u001b[0m\u001b[0m\n",
      "\u001b[1;31mNameError\u001b[0m: name 'max_price' is not defined"
     ]
    }
   ],
   "source": [
    "fig=go.Figure(go.Bar(x=max_price[\"brand\"],y=max_price[\"actual_price(Rs)\"]))\n",
    "fig.show()"
   ]
  },
  {
   "cell_type": "code",
   "execution_count": null,
   "metadata": {},
   "outputs": [],
   "source": [
    "df.groupby(by=df['brand'])['actual_price(Rs)'].max().plot(kind='pie',radius=2)"
   ]
  },
  {
   "cell_type": "code",
   "execution_count": 168,
   "metadata": {},
   "outputs": [
    {
     "data": {
      "image/png": "[encoded data removed]",
      "text/plain": [
       "<Figure size 432x288 with 1 Axes>"
      ]
     },
     "metadata": {
      "needs_background": "light"
     },
     "output_type": "display_data"
    }
   ],
   "source": [
    "df.groupby(by=df['brand'])['actual_price(Rs)'].min().plot(kind='bar')\n",
    "plt.show()"
   ]
  },
  {
   "cell_type": "code",
   "execution_count": 169,
   "metadata": {},
   "outputs": [],
   "source": [
    "min_price=df.groupby(by=df['brand'])['actual_price(Rs)'].min().sort_values(ascending=False).reset_index()"
   ]
  },
  {
   "cell_type": "code",
   "execution_count": 171,
   "metadata": {},
   "outputs": [
    {
     "data": {
      "image/png": "[encoded data removed]",
      "text/plain": [
       "<Figure size 576x432 with 1 Axes>"
      ]
     },
     "metadata": {
      "needs_background": "light"
     },
     "output_type": "display_data"
    }
   ],
   "source": [
    "plt.figure(figsize=(8,6))\n",
    "sns.barplot(y=\"brand\",x=\"actual_price(Rs)\",data=min_price)\n",
    "plt.xticks(rotation=90)\n",
    "plt.title(\"BRAND WITH MIN PRICE\")\n",
    "plt.show()"
   ]
  },
  {
   "cell_type": "code",
   "execution_count": null,
   "metadata": {},
   "outputs": [],
   "source": [
    "fig=go.Figure(go.Bar(x=min_price[\"brand\"],y=min_price[\"actual_price(Rs)\"]))\n",
    "fig.show()"
   ]
  },
  {
   "cell_type": "code",
   "execution_count": 172,
   "metadata": {},
   "outputs": [
    {
     "data": {
      "image/png": "[encoded data removed]",
      "text/plain": [
       "<Figure size 432x288 with 1 Axes>"
      ]
     },
     "metadata": {
      "needs_background": "light"
     },
     "output_type": "display_data"
    }
   ],
   "source": [
    "df.groupby(by=df['brand'])['actual_price(Rs)'].mean().plot(kind='bar')\n",
    "plt.show()"
   ]
  },
  {
   "cell_type": "code",
   "execution_count": 173,
   "metadata": {},
   "outputs": [],
   "source": [
    "avg_price=df.groupby(by=df['brand'])['actual_price(Rs)'].mean().sort_values(ascending=False).reset_index()"
   ]
  },
  {
   "cell_type": "code",
   "execution_count": 174,
   "metadata": {},
   "outputs": [
    {
     "data": {
      "image/png": "[encoded data removed]",
      "text/plain": [
       "<Figure size 576x432 with 1 Axes>"
      ]
     },
     "metadata": {
      "needs_background": "light"
     },
     "output_type": "display_data"
    }
   ],
   "source": [
    "plt.figure(figsize=(8,6))\n",
    "sns.barplot(y=\"brand\",x=\"actual_price(Rs)\",data=avg_price)\n",
    "plt.xticks(rotation=90)\n",
    "plt.title(\"BRAND WITH AVG PRICE\")\n",
    "plt.show()"
   ]
  },
  {
   "cell_type": "code",
   "execution_count": 60,
   "metadata": {},
   "outputs": [
    {
     "ename": "NameError",
     "evalue": "name 'avg_price' is not defined",
     "output_type": "error",
     "traceback": [
      "\u001b[1;31m---------------------------------------------------------------------------\u001b[0m",
      "\u001b[1;31mNameError\u001b[0m                                 Traceback (most recent call last)",
      "\u001b[1;32m<ipython-input-60-bfe5447328be>\u001b[0m in \u001b[0;36m<module>\u001b[1;34m\u001b[0m\n\u001b[1;32m----> 1\u001b[1;33m \u001b[0mfig\u001b[0m\u001b[1;33m=\u001b[0m\u001b[0mgo\u001b[0m\u001b[1;33m.\u001b[0m\u001b[0mFigure\u001b[0m\u001b[1;33m(\u001b[0m\u001b[0mgo\u001b[0m\u001b[1;33m.\u001b[0m\u001b[0mBar\u001b[0m\u001b[1;33m(\u001b[0m\u001b[0mx\u001b[0m\u001b[1;33m=\u001b[0m\u001b[0mavg_price\u001b[0m\u001b[1;33m[\u001b[0m\u001b[1;34m\"brand\"\u001b[0m\u001b[1;33m]\u001b[0m\u001b[1;33m,\u001b[0m\u001b[0my\u001b[0m\u001b[1;33m=\u001b[0m\u001b[0mavg_price\u001b[0m\u001b[1;33m[\u001b[0m\u001b[1;34m\"actual_price(Rs)\"\u001b[0m\u001b[1;33m]\u001b[0m\u001b[1;33m)\u001b[0m\u001b[1;33m)\u001b[0m\u001b[1;33m\u001b[0m\u001b[1;33m\u001b[0m\u001b[0m\n\u001b[0m\u001b[0;32m      2\u001b[0m \u001b[0mfig\u001b[0m\u001b[1;33m.\u001b[0m\u001b[0mshow\u001b[0m\u001b[1;33m(\u001b[0m\u001b[1;33m)\u001b[0m\u001b[1;33m\u001b[0m\u001b[1;33m\u001b[0m\u001b[0m\n",
      "\u001b[1;31mNameError\u001b[0m: name 'avg_price' is not defined"
     ]
    }
   ],
   "source": [
    "fig=go.Figure(go.Bar(x=avg_price[\"brand\"],y=avg_price[\"actual_price(Rs)\"]))\n",
    "fig.show()"
   ]
  },
  {
   "cell_type": "code",
   "execution_count": 61,
   "metadata": {},
   "outputs": [],
   "source": [
    "grp = df.groupby(\"brand\").agg({\"actual_price(Rs)\":{\"min\", \"max\", \"mean\"}})\n",
    "grp.columns =  [\"_\".join(col) for col in grp.columns]\n",
    "grp = grp.reset_index()"
   ]
  },
  {
   "cell_type": "code",
   "execution_count": 62,
   "metadata": {},
   "outputs": [
    {
     "data": {
      "text/html": [
       "<div>\n",
       "<style scoped>\n",
       "    .dataframe tbody tr th:only-of-type {\n",
       "        vertical-align: middle;\n",
       "    }\n",
       "\n",
       "    .dataframe tbody tr th {\n",
       "        vertical-align: top;\n",
       "    }\n",
       "\n",
       "    .dataframe thead th {\n",
       "        text-align: right;\n",
       "    }\n",
       "</style>\n",
       "<table border=\"1\" class=\"dataframe\">\n",
       "  <thead>\n",
       "    <tr style=\"text-align: right;\">\n",
       "      <th></th>\n",
       "      <th>brand</th>\n",
       "      <th>actual_price(Rs)_mean</th>\n",
       "      <th>actual_price(Rs)_max</th>\n",
       "      <th>actual_price(Rs)_min</th>\n",
       "    </tr>\n",
       "  </thead>\n",
       "  <tbody>\n",
       "    <tr>\n",
       "      <th>0</th>\n",
       "      <td>Boult</td>\n",
       "      <td>4316.444444</td>\n",
       "      <td>8796</td>\n",
       "      <td>997</td>\n",
       "    </tr>\n",
       "    <tr>\n",
       "      <th>1</th>\n",
       "      <td>HRX</td>\n",
       "      <td>2751.000000</td>\n",
       "      <td>4998</td>\n",
       "      <td>591</td>\n",
       "    </tr>\n",
       "    <tr>\n",
       "      <th>2</th>\n",
       "      <td>JBL</td>\n",
       "      <td>3174.800000</td>\n",
       "      <td>7998</td>\n",
       "      <td>998</td>\n",
       "    </tr>\n",
       "    <tr>\n",
       "      <th>3</th>\n",
       "      <td>Mivi</td>\n",
       "      <td>3412.444444</td>\n",
       "      <td>5998</td>\n",
       "      <td>798</td>\n",
       "    </tr>\n",
       "    <tr>\n",
       "      <th>4</th>\n",
       "      <td>OPPO</td>\n",
       "      <td>1155.454545</td>\n",
       "      <td>6943</td>\n",
       "      <td>390</td>\n",
       "    </tr>\n",
       "    <tr>\n",
       "      <th>5</th>\n",
       "      <td>ORAIMO</td>\n",
       "      <td>2089.538462</td>\n",
       "      <td>9198</td>\n",
       "      <td>288</td>\n",
       "    </tr>\n",
       "    <tr>\n",
       "      <th>6</th>\n",
       "      <td>OnePlus</td>\n",
       "      <td>4210.000000</td>\n",
       "      <td>9980</td>\n",
       "      <td>2173</td>\n",
       "    </tr>\n",
       "    <tr>\n",
       "      <th>7</th>\n",
       "      <td>PHILIPS</td>\n",
       "      <td>2521.444444</td>\n",
       "      <td>8867</td>\n",
       "      <td>397</td>\n",
       "    </tr>\n",
       "    <tr>\n",
       "      <th>8</th>\n",
       "      <td>Portronics</td>\n",
       "      <td>1878.971429</td>\n",
       "      <td>3998</td>\n",
       "      <td>395</td>\n",
       "    </tr>\n",
       "    <tr>\n",
       "      <th>9</th>\n",
       "      <td>Redmi</td>\n",
       "      <td>808.720930</td>\n",
       "      <td>2399</td>\n",
       "      <td>498</td>\n",
       "    </tr>\n",
       "    <tr>\n",
       "      <th>10</th>\n",
       "      <td>SONY</td>\n",
       "      <td>2948.000000</td>\n",
       "      <td>7980</td>\n",
       "      <td>883</td>\n",
       "    </tr>\n",
       "    <tr>\n",
       "      <th>11</th>\n",
       "      <td>Skullcandy</td>\n",
       "      <td>3185.308824</td>\n",
       "      <td>9998</td>\n",
       "      <td>796</td>\n",
       "    </tr>\n",
       "    <tr>\n",
       "      <th>12</th>\n",
       "      <td>Sony</td>\n",
       "      <td>854.666667</td>\n",
       "      <td>888</td>\n",
       "      <td>789</td>\n",
       "    </tr>\n",
       "    <tr>\n",
       "      <th>13</th>\n",
       "      <td>ViVO</td>\n",
       "      <td>874.202128</td>\n",
       "      <td>1998</td>\n",
       "      <td>349</td>\n",
       "    </tr>\n",
       "    <tr>\n",
       "      <th>14</th>\n",
       "      <td>boAt</td>\n",
       "      <td>3640.298077</td>\n",
       "      <td>11902</td>\n",
       "      <td>831</td>\n",
       "    </tr>\n",
       "  </tbody>\n",
       "</table>\n",
       "</div>"
      ],
      "text/plain": [
       "         brand  actual_price(Rs)_mean  actual_price(Rs)_max  \\\n",
       "0        Boult            4316.444444                  8796   \n",
       "1          HRX            2751.000000                  4998   \n",
       "2          JBL            3174.800000                  7998   \n",
       "3         Mivi            3412.444444                  5998   \n",
       "4         OPPO            1155.454545                  6943   \n",
       "5       ORAIMO            2089.538462                  9198   \n",
       "6      OnePlus            4210.000000                  9980   \n",
       "7      PHILIPS            2521.444444                  8867   \n",
       "8   Portronics            1878.971429                  3998   \n",
       "9        Redmi             808.720930                  2399   \n",
       "10        SONY            2948.000000                  7980   \n",
       "11  Skullcandy            3185.308824                  9998   \n",
       "12        Sony             854.666667                   888   \n",
       "13        ViVO             874.202128                  1998   \n",
       "14        boAt            3640.298077                 11902   \n",
       "\n",
       "    actual_price(Rs)_min  \n",
       "0                    997  \n",
       "1                    591  \n",
       "2                    998  \n",
       "3                    798  \n",
       "4                    390  \n",
       "5                    288  \n",
       "6                   2173  \n",
       "7                    397  \n",
       "8                    395  \n",
       "9                    498  \n",
       "10                   883  \n",
       "11                   796  \n",
       "12                   789  \n",
       "13                   349  \n",
       "14                   831  "
      ]
     },
     "execution_count": 62,
     "metadata": {},
     "output_type": "execute_result"
    }
   ],
   "source": [
    "grp"
   ]
  },
  {
   "cell_type": "code",
   "execution_count": 65,
   "metadata": {},
   "outputs": [
    {
     "data": {
      "application/vnd.plotly.v1+json": {
       "config": {
        "plotlyServerURL": "https://plot.ly"
       },
       "data": [
        {
         "marker": {
          "color": "yellow",
          "size": 10
         },
         "mode": "markers",
         "showlegend": false,
         "type": "scatter",
         "x": [
          "Boult",
          "HRX",
          "JBL",
          "Mivi",
          "OPPO",
          "ORAIMO",
          "OnePlus",
          "PHILIPS",
          "Portronics",
          "Redmi",
          "SONY",
          "Skullcandy",
          "Sony",
          "ViVO",
          "boAt"
         ],
         "y": [
          997,
          591,
          998,
          798,
          390,
          288,
          2173,
          397,
          395,
          498,
          883,
          796,
          789,
          349,
          831
         ]
        },
        {
         "marker": {
          "color": "blue",
          "size": 20
         },
         "mode": "markers",
         "showlegend": false,
         "type": "scatter",
         "x": [
          "Boult",
          "HRX",
          "JBL",
          "Mivi",
          "OPPO",
          "ORAIMO",
          "OnePlus",
          "PHILIPS",
          "Portronics",
          "Redmi",
          "SONY",
          "Skullcandy",
          "Sony",
          "ViVO",
          "boAt"
         ],
         "y": [
          4316.444444444444,
          2751,
          3174.8,
          3412.4444444444443,
          1155.4545454545455,
          2089.5384615384614,
          4210,
          2521.4444444444443,
          1878.9714285714285,
          808.7209302325581,
          2948,
          3185.3088235294117,
          854.6666666666666,
          874.2021276595744,
          3640.298076923077
         ]
        },
        {
         "marker": {
          "color": "red",
          "size": 10
         },
         "mode": "markers",
         "showlegend": false,
         "type": "scatter",
         "x": [
          "Boult",
          "HRX",
          "JBL",
          "Mivi",
          "OPPO",
          "ORAIMO",
          "OnePlus",
          "PHILIPS",
          "Portronics",
          "Redmi",
          "SONY",
          "Skullcandy",
          "Sony",
          "ViVO",
          "boAt"
         ],
         "y": [
          8796,
          4998,
          7998,
          5998,
          6943,
          9198,
          9980,
          8867,
          3998,
          2399,
          7980,
          9998,
          888,
          1998,
          11902
         ]
        }
       ],
       "layout": {
        "shapes": [
         {
          "line": {
           "color": "blue",
           "width": 2
          },
          "type": "line",
          "x0": "Boult",
          "x1": "Boult",
          "y0": 997,
          "y1": 8796
         },
         {
          "line": {
           "color": "blue",
           "width": 2
          },
          "type": "line",
          "x0": "HRX",
          "x1": "HRX",
          "y0": 591,
          "y1": 4998
         },
         {
          "line": {
           "color": "blue",
           "width": 2
          },
          "type": "line",
          "x0": "JBL",
          "x1": "JBL",
          "y0": 998,
          "y1": 7998
         },
         {
          "line": {
           "color": "blue",
           "width": 2
          },
          "type": "line",
          "x0": "Mivi",
          "x1": "Mivi",
          "y0": 798,
          "y1": 5998
         },
         {
          "line": {
           "color": "blue",
           "width": 2
          },
          "type": "line",
          "x0": "OPPO",
          "x1": "OPPO",
          "y0": 390,
          "y1": 6943
         },
         {
          "line": {
           "color": "blue",
           "width": 2
          },
          "type": "line",
          "x0": "ORAIMO",
          "x1": "ORAIMO",
          "y0": 288,
          "y1": 9198
         },
         {
          "line": {
           "color": "blue",
           "width": 2
          },
          "type": "line",
          "x0": "OnePlus",
          "x1": "OnePlus",
          "y0": 2173,
          "y1": 9980
         },
         {
          "line": {
           "color": "blue",
           "width": 2
          },
          "type": "line",
          "x0": "PHILIPS",
          "x1": "PHILIPS",
          "y0": 397,
          "y1": 8867
         },
         {
          "line": {
           "color": "blue",
           "width": 2
          },
          "type": "line",
          "x0": "Portronics",
          "x1": "Portronics",
          "y0": 395,
          "y1": 3998
         },
         {
          "line": {
           "color": "blue",
           "width": 2
          },
          "type": "line",
          "x0": "Redmi",
          "x1": "Redmi",
          "y0": 498,
          "y1": 2399
         },
         {
          "line": {
           "color": "blue",
           "width": 2
          },
          "type": "line",
          "x0": "SONY",
          "x1": "SONY",
          "y0": 883,
          "y1": 7980
         },
         {
          "line": {
           "color": "blue",
           "width": 2
          },
          "type": "line",
          "x0": "Skullcandy",
          "x1": "Skullcandy",
          "y0": 796,
          "y1": 9998
         },
         {
          "line": {
           "color": "blue",
           "width": 2
          },
          "type": "line",
          "x0": "Sony",
          "x1": "Sony",
          "y0": 789,
          "y1": 888
         },
         {
          "line": {
           "color": "blue",
           "width": 2
          },
          "type": "line",
          "x0": "ViVO",
          "x1": "ViVO",
          "y0": 349,
          "y1": 1998
         },
         {
          "line": {
           "color": "blue",
           "width": 2
          },
          "type": "line",
          "x0": "boAt",
          "x1": "boAt",
          "y0": 831,
          "y1": 11902
         }
        ],
        "template": {
         "data": {
          "bar": [
           {
            "error_x": {
             "color": "#2a3f5f"
            },
            "error_y": {
             "color": "#2a3f5f"
            },
            "marker": {
             "line": {
              "color": "#E5ECF6",
              "width": 0.5
             }
            },
            "type": "bar"
           }
          ],
          "barpolar": [
           {
            "marker": {
             "line": {
              "color": "#E5ECF6",
              "width": 0.5
             }
            },
            "type": "barpolar"
           }
          ],
          "carpet": [
           {
            "aaxis": {
             "endlinecolor": "#2a3f5f",
             "gridcolor": "white",
             "linecolor": "white",
             "minorgridcolor": "white",
             "startlinecolor": "#2a3f5f"
            },
            "baxis": {
             "endlinecolor": "#2a3f5f",
             "gridcolor": "white",
             "linecolor": "white",
             "minorgridcolor": "white",
             "startlinecolor": "#2a3f5f"
            },
            "type": "carpet"
           }
          ],
          "choropleth": [
           {
            "colorbar": {
             "outlinewidth": 0,
             "ticks": ""
            },
            "type": "choropleth"
           }
          ],
          "contour": [
           {
            "colorbar": {
             "outlinewidth": 0,
             "ticks": ""
            },
            "colorscale": [
             [
              0,
              "#0d0887"
             ],
             [
              0.1111111111111111,
              "#46039f"
             ],
             [
              0.2222222222222222,
              "#7201a8"
             ],
             [
              0.3333333333333333,
              "#9c179e"
             ],
             [
              0.4444444444444444,
              "#bd3786"
             ],
             [
              0.5555555555555556,
              "#d8576b"
             ],
             [
              0.6666666666666666,
              "#ed7953"
             ],
             [
              0.7777777777777778,
              "#fb9f3a"
             ],
             [
              0.8888888888888888,
              "#fdca26"
             ],
             [
              1,
              "#f0f921"
             ]
            ],
            "type": "contour"
           }
          ],
          "contourcarpet": [
           {
            "colorbar": {
             "outlinewidth": 0,
             "ticks": ""
            },
            "type": "contourcarpet"
           }
          ],
          "heatmap": [
           {
            "colorbar": {
             "outlinewidth": 0,
             "ticks": ""
            },
            "colorscale": [
             [
              0,
              "#0d0887"
             ],
             [
              0.1111111111111111,
              "#46039f"
             ],
             [
              0.2222222222222222,
              "#7201a8"
             ],
             [
              0.3333333333333333,
              "#9c179e"
             ],
             [
              0.4444444444444444,
              "#bd3786"
             ],
             [
              0.5555555555555556,
              "#d8576b"
             ],
             [
              0.6666666666666666,
              "#ed7953"
             ],
             [
              0.7777777777777778,
              "#fb9f3a"
             ],
             [
              0.8888888888888888,
              "#fdca26"
             ],
             [
              1,
              "#f0f921"
             ]
            ],
            "type": "heatmap"
           }
          ],
          "heatmapgl": [
           {
            "colorbar": {
             "outlinewidth": 0,
             "ticks": ""
            },
            "colorscale": [
             [
              0,
              "#0d0887"
             ],
             [
              0.1111111111111111,
              "#46039f"
             ],
             [
              0.2222222222222222,
              "#7201a8"
             ],
             [
              0.3333333333333333,
              "#9c179e"
             ],
             [
              0.4444444444444444,
              "#bd3786"
             ],
             [
              0.5555555555555556,
              "#d8576b"
             ],
             [
              0.6666666666666666,
              "#ed7953"
             ],
             [
              0.7777777777777778,
              "#fb9f3a"
             ],
             [
              0.8888888888888888,
              "#fdca26"
             ],
             [
              1,
              "#f0f921"
             ]
            ],
            "type": "heatmapgl"
           }
          ],
          "histogram": [
           {
            "marker": {
             "colorbar": {
              "outlinewidth": 0,
              "ticks": ""
             }
            },
            "type": "histogram"
           }
          ],
          "histogram2d": [
           {
            "colorbar": {
             "outlinewidth": 0,
             "ticks": ""
            },
            "colorscale": [
             [
              0,
              "#0d0887"
             ],
             [
              0.1111111111111111,
              "#46039f"
             ],
             [
              0.2222222222222222,
              "#7201a8"
             ],
             [
              0.3333333333333333,
              "#9c179e"
             ],
             [
              0.4444444444444444,
              "#bd3786"
             ],
             [
              0.5555555555555556,
              "#d8576b"
             ],
             [
              0.6666666666666666,
              "#ed7953"
             ],
             [
              0.7777777777777778,
              "#fb9f3a"
             ],
             [
              0.8888888888888888,
              "#fdca26"
             ],
             [
              1,
              "#f0f921"
             ]
            ],
            "type": "histogram2d"
           }
          ],
          "histogram2dcontour": [
           {
            "colorbar": {
             "outlinewidth": 0,
             "ticks": ""
            },
            "colorscale": [
             [
              0,
              "#0d0887"
             ],
             [
              0.1111111111111111,
              "#46039f"
             ],
             [
              0.2222222222222222,
              "#7201a8"
             ],
             [
              0.3333333333333333,
              "#9c179e"
             ],
             [
              0.4444444444444444,
              "#bd3786"
             ],
             [
              0.5555555555555556,
              "#d8576b"
             ],
             [
              0.6666666666666666,
              "#ed7953"
             ],
             [
              0.7777777777777778,
              "#fb9f3a"
             ],
             [
              0.8888888888888888,
              "#fdca26"
             ],
             [
              1,
              "#f0f921"
             ]
            ],
            "type": "histogram2dcontour"
           }
          ],
          "mesh3d": [
           {
            "colorbar": {
             "outlinewidth": 0,
             "ticks": ""
            },
            "type": "mesh3d"
           }
          ],
          "parcoords": [
           {
            "line": {
             "colorbar": {
              "outlinewidth": 0,
              "ticks": ""
             }
            },
            "type": "parcoords"
           }
          ],
          "pie": [
           {
            "automargin": true,
            "type": "pie"
           }
          ],
          "scatter": [
           {
            "marker": {
             "colorbar": {
              "outlinewidth": 0,
              "ticks": ""
             }
            },
            "type": "scatter"
           }
          ],
          "scatter3d": [
           {
            "line": {
             "colorbar": {
              "outlinewidth": 0,
              "ticks": ""
             }
            },
            "marker": {
             "colorbar": {
              "outlinewidth": 0,
              "ticks": ""
             }
            },
            "type": "scatter3d"
           }
          ],
          "scattercarpet": [
           {
            "marker": {
             "colorbar": {
              "outlinewidth": 0,
              "ticks": ""
             }
            },
            "type": "scattercarpet"
           }
          ],
          "scattergeo": [
           {
            "marker": {
             "colorbar": {
              "outlinewidth": 0,
              "ticks": ""
             }
            },
            "type": "scattergeo"
           }
          ],
          "scattergl": [
           {
            "marker": {
             "colorbar": {
              "outlinewidth": 0,
              "ticks": ""
             }
            },
            "type": "scattergl"
           }
          ],
          "scattermapbox": [
           {
            "marker": {
             "colorbar": {
              "outlinewidth": 0,
              "ticks": ""
             }
            },
            "type": "scattermapbox"
           }
          ],
          "scatterpolar": [
           {
            "marker": {
             "colorbar": {
              "outlinewidth": 0,
              "ticks": ""
             }
            },
            "type": "scatterpolar"
           }
          ],
          "scatterpolargl": [
           {
            "marker": {
             "colorbar": {
              "outlinewidth": 0,
              "ticks": ""
             }
            },
            "type": "scatterpolargl"
           }
          ],
          "scatterternary": [
           {
            "marker": {
             "colorbar": {
              "outlinewidth": 0,
              "ticks": ""
             }
            },
            "type": "scatterternary"
           }
          ],
          "surface": [
           {
            "colorbar": {
             "outlinewidth": 0,
             "ticks": ""
            },
            "colorscale": [
             [
              0,
              "#0d0887"
             ],
             [
              0.1111111111111111,
              "#46039f"
             ],
             [
              0.2222222222222222,
              "#7201a8"
             ],
             [
              0.3333333333333333,
              "#9c179e"
             ],
             [
              0.4444444444444444,
              "#bd3786"
             ],
             [
              0.5555555555555556,
              "#d8576b"
             ],
             [
              0.6666666666666666,
              "#ed7953"
             ],
             [
              0.7777777777777778,
              "#fb9f3a"
             ],
             [
              0.8888888888888888,
              "#fdca26"
             ],
             [
              1,
              "#f0f921"
             ]
            ],
            "type": "surface"
           }
          ],
          "table": [
           {
            "cells": {
             "fill": {
              "color": "#EBF0F8"
             },
             "line": {
              "color": "white"
             }
            },
            "header": {
             "fill": {
              "color": "#C8D4E3"
             },
             "line": {
              "color": "white"
             }
            },
            "type": "table"
           }
          ]
         },
         "layout": {
          "annotationdefaults": {
           "arrowcolor": "#2a3f5f",
           "arrowhead": 0,
           "arrowwidth": 1
          },
          "autotypenumbers": "strict",
          "coloraxis": {
           "colorbar": {
            "outlinewidth": 0,
            "ticks": ""
           }
          },
          "colorscale": {
           "diverging": [
            [
             0,
             "#8e0152"
            ],
            [
             0.1,
             "#c51b7d"
            ],
            [
             0.2,
             "#de77ae"
            ],
            [
             0.3,
             "#f1b6da"
            ],
            [
             0.4,
             "#fde0ef"
            ],
            [
             0.5,
             "#f7f7f7"
            ],
            [
             0.6,
             "#e6f5d0"
            ],
            [
             0.7,
             "#b8e186"
            ],
            [
             0.8,
             "#7fbc41"
            ],
            [
             0.9,
             "#4d9221"
            ],
            [
             1,
             "#276419"
            ]
           ],
           "sequential": [
            [
             0,
             "#0d0887"
            ],
            [
             0.1111111111111111,
             "#46039f"
            ],
            [
             0.2222222222222222,
             "#7201a8"
            ],
            [
             0.3333333333333333,
             "#9c179e"
            ],
            [
             0.4444444444444444,
             "#bd3786"
            ],
            [
             0.5555555555555556,
             "#d8576b"
            ],
            [
             0.6666666666666666,
             "#ed7953"
            ],
            [
             0.7777777777777778,
             "#fb9f3a"
            ],
            [
             0.8888888888888888,
             "#fdca26"
            ],
            [
             1,
             "#f0f921"
            ]
           ],
           "sequentialminus": [
            [
             0,
             "#0d0887"
            ],
            [
             0.1111111111111111,
             "#46039f"
            ],
            [
             0.2222222222222222,
             "#7201a8"
            ],
            [
             0.3333333333333333,
             "#9c179e"
            ],
            [
             0.4444444444444444,
             "#bd3786"
            ],
            [
             0.5555555555555556,
             "#d8576b"
            ],
            [
             0.6666666666666666,
             "#ed7953"
            ],
            [
             0.7777777777777778,
             "#fb9f3a"
            ],
            [
             0.8888888888888888,
             "#fdca26"
            ],
            [
             1,
             "#f0f921"
            ]
           ]
          },
          "colorway": [
           "#636efa",
           "#EF553B",
           "#00cc96",
           "#ab63fa",
           "#FFA15A",
           "#19d3f3",
           "#FF6692",
           "#B6E880",
           "#FF97FF",
           "#FECB52"
          ],
          "font": {
           "color": "#2a3f5f"
          },
          "geo": {
           "bgcolor": "white",
           "lakecolor": "white",
           "landcolor": "#E5ECF6",
           "showlakes": true,
           "showland": true,
           "subunitcolor": "white"
          },
          "hoverlabel": {
           "align": "left"
          },
          "hovermode": "closest",
          "mapbox": {
           "style": "light"
          },
          "paper_bgcolor": "white",
          "plot_bgcolor": "#E5ECF6",
          "polar": {
           "angularaxis": {
            "gridcolor": "white",
            "linecolor": "white",
            "ticks": ""
           },
           "bgcolor": "#E5ECF6",
           "radialaxis": {
            "gridcolor": "white",
            "linecolor": "white",
            "ticks": ""
           }
          },
          "scene": {
           "xaxis": {
            "backgroundcolor": "#E5ECF6",
            "gridcolor": "white",
            "gridwidth": 2,
            "linecolor": "white",
            "showbackground": true,
            "ticks": "",
            "zerolinecolor": "white"
           },
           "yaxis": {
            "backgroundcolor": "#E5ECF6",
            "gridcolor": "white",
            "gridwidth": 2,
            "linecolor": "white",
            "showbackground": true,
            "ticks": "",
            "zerolinecolor": "white"
           },
           "zaxis": {
            "backgroundcolor": "#E5ECF6",
            "gridcolor": "white",
            "gridwidth": 2,
            "linecolor": "white",
            "showbackground": true,
            "ticks": "",
            "zerolinecolor": "white"
           }
          },
          "shapedefaults": {
           "line": {
            "color": "#2a3f5f"
           }
          },
          "ternary": {
           "aaxis": {
            "gridcolor": "white",
            "linecolor": "white",
            "ticks": ""
           },
           "baxis": {
            "gridcolor": "white",
            "linecolor": "white",
            "ticks": ""
           },
           "bgcolor": "#E5ECF6",
           "caxis": {
            "gridcolor": "white",
            "linecolor": "white",
            "ticks": ""
           }
          },
          "title": {
           "x": 0.05
          },
          "xaxis": {
           "automargin": true,
           "gridcolor": "white",
           "linecolor": "white",
           "ticks": "",
           "title": {
            "standoff": 15
           },
           "zerolinecolor": "white",
           "zerolinewidth": 2
          },
          "yaxis": {
           "automargin": true,
           "gridcolor": "white",
           "linecolor": "white",
           "ticks": "",
           "title": {
            "standoff": 15
           },
           "zerolinecolor": "white",
           "zerolinewidth": 2
          }
         }
        },
        "title": {
         "text": "Avg-Max-Min Actual_price(Rs)",
         "x": 0.5
        }
       }
      },
      "text/html": [
       "<div>                            <div id=\"67628f9b-a228-4452-a1e2-73fac800389b\" class=\"plotly-graph-div\" style=\"height:525px; width:100%;\"></div>            <script type=\"text/javascript\">                require([\"plotly\"], function(Plotly) {                    window.PLOTLYENV=window.PLOTLYENV || {};                                    if (document.getElementById(\"67628f9b-a228-4452-a1e2-73fac800389b\")) {                    Plotly.newPlot(                        \"67628f9b-a228-4452-a1e2-73fac800389b\",                        [{\"marker\": {\"color\": \"yellow\", \"size\": 10}, \"mode\": \"markers\", \"showlegend\": false, \"type\": \"scatter\", \"x\": [\"Boult\", \"HRX\", \"JBL\", \"Mivi\", \"OPPO\", \"ORAIMO\", \"OnePlus\", \"PHILIPS\", \"Portronics\", \"Redmi\", \"SONY\", \"Skullcandy\", \"Sony\", \"ViVO\", \"boAt\"], \"y\": [997, 591, 998, 798, 390, 288, 2173, 397, 395, 498, 883, 796, 789, 349, 831]}, {\"marker\": {\"color\": \"blue\", \"size\": 20}, \"mode\": \"markers\", \"showlegend\": false, \"type\": \"scatter\", \"x\": [\"Boult\", \"HRX\", \"JBL\", \"Mivi\", \"OPPO\", \"ORAIMO\", \"OnePlus\", \"PHILIPS\", \"Portronics\", \"Redmi\", \"SONY\", \"Skullcandy\", \"Sony\", \"ViVO\", \"boAt\"], \"y\": [4316.444444444444, 2751.0, 3174.8, 3412.4444444444443, 1155.4545454545455, 2089.5384615384614, 4210.0, 2521.4444444444443, 1878.9714285714285, 808.7209302325581, 2948.0, 3185.3088235294117, 854.6666666666666, 874.2021276595744, 3640.298076923077]}, {\"marker\": {\"color\": \"red\", \"size\": 10}, \"mode\": \"markers\", \"showlegend\": false, \"type\": \"scatter\", \"x\": [\"Boult\", \"HRX\", \"JBL\", \"Mivi\", \"OPPO\", \"ORAIMO\", \"OnePlus\", \"PHILIPS\", \"Portronics\", \"Redmi\", \"SONY\", \"Skullcandy\", \"Sony\", \"ViVO\", \"boAt\"], \"y\": [8796, 4998, 7998, 5998, 6943, 9198, 9980, 8867, 3998, 2399, 7980, 9998, 888, 1998, 11902]}],                        {\"shapes\": [{\"line\": {\"color\": \"blue\", \"width\": 2}, \"type\": \"line\", \"x0\": \"Boult\", \"x1\": \"Boult\", \"y0\": 997, \"y1\": 8796}, {\"line\": {\"color\": \"blue\", \"width\": 2}, \"type\": \"line\", \"x0\": \"HRX\", \"x1\": \"HRX\", \"y0\": 591, \"y1\": 4998}, {\"line\": {\"color\": \"blue\", \"width\": 2}, \"type\": \"line\", \"x0\": \"JBL\", \"x1\": \"JBL\", \"y0\": 998, \"y1\": 7998}, {\"line\": {\"color\": \"blue\", \"width\": 2}, \"type\": \"line\", \"x0\": \"Mivi\", \"x1\": \"Mivi\", \"y0\": 798, \"y1\": 5998}, {\"line\": {\"color\": \"blue\", \"width\": 2}, \"type\": \"line\", \"x0\": \"OPPO\", \"x1\": \"OPPO\", \"y0\": 390, \"y1\": 6943}, {\"line\": {\"color\": \"blue\", \"width\": 2}, \"type\": \"line\", \"x0\": \"ORAIMO\", \"x1\": \"ORAIMO\", \"y0\": 288, \"y1\": 9198}, {\"line\": {\"color\": \"blue\", \"width\": 2}, \"type\": \"line\", \"x0\": \"OnePlus\", \"x1\": \"OnePlus\", \"y0\": 2173, \"y1\": 9980}, {\"line\": {\"color\": \"blue\", \"width\": 2}, \"type\": \"line\", \"x0\": \"PHILIPS\", \"x1\": \"PHILIPS\", \"y0\": 397, \"y1\": 8867}, {\"line\": {\"color\": \"blue\", \"width\": 2}, \"type\": \"line\", \"x0\": \"Portronics\", \"x1\": \"Portronics\", \"y0\": 395, \"y1\": 3998}, {\"line\": {\"color\": \"blue\", \"width\": 2}, \"type\": \"line\", \"x0\": \"Redmi\", \"x1\": \"Redmi\", \"y0\": 498, \"y1\": 2399}, {\"line\": {\"color\": \"blue\", \"width\": 2}, \"type\": \"line\", \"x0\": \"SONY\", \"x1\": \"SONY\", \"y0\": 883, \"y1\": 7980}, {\"line\": {\"color\": \"blue\", \"width\": 2}, \"type\": \"line\", \"x0\": \"Skullcandy\", \"x1\": \"Skullcandy\", \"y0\": 796, \"y1\": 9998}, {\"line\": {\"color\": \"blue\", \"width\": 2}, \"type\": \"line\", \"x0\": \"Sony\", \"x1\": \"Sony\", \"y0\": 789, \"y1\": 888}, {\"line\": {\"color\": \"blue\", \"width\": 2}, \"type\": \"line\", \"x0\": \"ViVO\", \"x1\": \"ViVO\", \"y0\": 349, \"y1\": 1998}, {\"line\": {\"color\": \"blue\", \"width\": 2}, \"type\": \"line\", \"x0\": \"boAt\", \"x1\": \"boAt\", \"y0\": 831, \"y1\": 11902}], \"template\": {\"data\": {\"bar\": [{\"error_x\": {\"color\": \"#2a3f5f\"}, \"error_y\": {\"color\": \"#2a3f5f\"}, \"marker\": {\"line\": {\"color\": \"#E5ECF6\", \"width\": 0.5}}, \"type\": \"bar\"}], \"barpolar\": [{\"marker\": {\"line\": {\"color\": \"#E5ECF6\", \"width\": 0.5}}, \"type\": \"barpolar\"}], \"carpet\": [{\"aaxis\": {\"endlinecolor\": \"#2a3f5f\", \"gridcolor\": \"white\", \"linecolor\": \"white\", \"minorgridcolor\": \"white\", \"startlinecolor\": \"#2a3f5f\"}, \"baxis\": {\"endlinecolor\": \"#2a3f5f\", \"gridcolor\": \"white\", \"linecolor\": \"white\", \"minorgridcolor\": \"white\", \"startlinecolor\": \"#2a3f5f\"}, \"type\": \"carpet\"}], \"choropleth\": [{\"colorbar\": {\"outlinewidth\": 0, \"ticks\": \"\"}, \"type\": \"choropleth\"}], \"contour\": [{\"colorbar\": {\"outlinewidth\": 0, \"ticks\": \"\"}, \"colorscale\": [[0.0, \"#0d0887\"], [0.1111111111111111, \"#46039f\"], [0.2222222222222222, \"#7201a8\"], [0.3333333333333333, \"#9c179e\"], [0.4444444444444444, \"#bd3786\"], [0.5555555555555556, \"#d8576b\"], [0.6666666666666666, \"#ed7953\"], [0.7777777777777778, \"#fb9f3a\"], [0.8888888888888888, \"#fdca26\"], [1.0, \"#f0f921\"]], \"type\": \"contour\"}], \"contourcarpet\": [{\"colorbar\": {\"outlinewidth\": 0, \"ticks\": \"\"}, \"type\": \"contourcarpet\"}], \"heatmap\": [{\"colorbar\": {\"outlinewidth\": 0, \"ticks\": \"\"}, \"colorscale\": [[0.0, \"#0d0887\"], [0.1111111111111111, \"#46039f\"], [0.2222222222222222, \"#7201a8\"], [0.3333333333333333, \"#9c179e\"], [0.4444444444444444, \"#bd3786\"], [0.5555555555555556, \"#d8576b\"], [0.6666666666666666, \"#ed7953\"], [0.7777777777777778, \"#fb9f3a\"], [0.8888888888888888, \"#fdca26\"], [1.0, \"#f0f921\"]], \"type\": \"heatmap\"}], \"heatmapgl\": [{\"colorbar\": {\"outlinewidth\": 0, \"ticks\": \"\"}, \"colorscale\": [[0.0, \"#0d0887\"], [0.1111111111111111, \"#46039f\"], [0.2222222222222222, \"#7201a8\"], [0.3333333333333333, \"#9c179e\"], [0.4444444444444444, \"#bd3786\"], [0.5555555555555556, \"#d8576b\"], [0.6666666666666666, \"#ed7953\"], [0.7777777777777778, \"#fb9f3a\"], [0.8888888888888888, \"#fdca26\"], [1.0, \"#f0f921\"]], \"type\": \"heatmapgl\"}], \"histogram\": [{\"marker\": {\"colorbar\": {\"outlinewidth\": 0, \"ticks\": \"\"}}, \"type\": \"histogram\"}], \"histogram2d\": [{\"colorbar\": {\"outlinewidth\": 0, \"ticks\": \"\"}, \"colorscale\": [[0.0, \"#0d0887\"], [0.1111111111111111, \"#46039f\"], [0.2222222222222222, \"#7201a8\"], [0.3333333333333333, \"#9c179e\"], [0.4444444444444444, \"#bd3786\"], [0.5555555555555556, \"#d8576b\"], [0.6666666666666666, \"#ed7953\"], [0.7777777777777778, \"#fb9f3a\"], [0.8888888888888888, \"#fdca26\"], [1.0, \"#f0f921\"]], \"type\": \"histogram2d\"}], \"histogram2dcontour\": [{\"colorbar\": {\"outlinewidth\": 0, \"ticks\": \"\"}, \"colorscale\": [[0.0, \"#0d0887\"], [0.1111111111111111, \"#46039f\"], [0.2222222222222222, \"#7201a8\"], [0.3333333333333333, \"#9c179e\"], [0.4444444444444444, \"#bd3786\"], [0.5555555555555556, \"#d8576b\"], [0.6666666666666666, \"#ed7953\"], [0.7777777777777778, \"#fb9f3a\"], [0.8888888888888888, \"#fdca26\"], [1.0, \"#f0f921\"]], \"type\": \"histogram2dcontour\"}], \"mesh3d\": [{\"colorbar\": {\"outlinewidth\": 0, \"ticks\": \"\"}, \"type\": \"mesh3d\"}], \"parcoords\": [{\"line\": {\"colorbar\": {\"outlinewidth\": 0, \"ticks\": \"\"}}, \"type\": \"parcoords\"}], \"pie\": [{\"automargin\": true, \"type\": \"pie\"}], \"scatter\": [{\"marker\": {\"colorbar\": {\"outlinewidth\": 0, \"ticks\": \"\"}}, \"type\": \"scatter\"}], \"scatter3d\": [{\"line\": {\"colorbar\": {\"outlinewidth\": 0, \"ticks\": \"\"}}, \"marker\": {\"colorbar\": {\"outlinewidth\": 0, \"ticks\": \"\"}}, \"type\": \"scatter3d\"}], \"scattercarpet\": [{\"marker\": {\"colorbar\": {\"outlinewidth\": 0, \"ticks\": \"\"}}, \"type\": \"scattercarpet\"}], \"scattergeo\": [{\"marker\": {\"colorbar\": {\"outlinewidth\": 0, \"ticks\": \"\"}}, \"type\": \"scattergeo\"}], \"scattergl\": [{\"marker\": {\"colorbar\": {\"outlinewidth\": 0, \"ticks\": \"\"}}, \"type\": \"scattergl\"}], \"scattermapbox\": [{\"marker\": {\"colorbar\": {\"outlinewidth\": 0, \"ticks\": \"\"}}, \"type\": \"scattermapbox\"}], \"scatterpolar\": [{\"marker\": {\"colorbar\": {\"outlinewidth\": 0, \"ticks\": \"\"}}, \"type\": \"scatterpolar\"}], \"scatterpolargl\": [{\"marker\": {\"colorbar\": {\"outlinewidth\": 0, \"ticks\": \"\"}}, \"type\": \"scatterpolargl\"}], \"scatterternary\": [{\"marker\": {\"colorbar\": {\"outlinewidth\": 0, \"ticks\": \"\"}}, \"type\": \"scatterternary\"}], \"surface\": [{\"colorbar\": {\"outlinewidth\": 0, \"ticks\": \"\"}, \"colorscale\": [[0.0, \"#0d0887\"], [0.1111111111111111, \"#46039f\"], [0.2222222222222222, \"#7201a8\"], [0.3333333333333333, \"#9c179e\"], [0.4444444444444444, \"#bd3786\"], [0.5555555555555556, \"#d8576b\"], [0.6666666666666666, \"#ed7953\"], [0.7777777777777778, \"#fb9f3a\"], [0.8888888888888888, \"#fdca26\"], [1.0, \"#f0f921\"]], \"type\": \"surface\"}], \"table\": [{\"cells\": {\"fill\": {\"color\": \"#EBF0F8\"}, \"line\": {\"color\": \"white\"}}, \"header\": {\"fill\": {\"color\": \"#C8D4E3\"}, \"line\": {\"color\": \"white\"}}, \"type\": \"table\"}]}, \"layout\": {\"annotationdefaults\": {\"arrowcolor\": \"#2a3f5f\", \"arrowhead\": 0, \"arrowwidth\": 1}, \"autotypenumbers\": \"strict\", \"coloraxis\": {\"colorbar\": {\"outlinewidth\": 0, \"ticks\": \"\"}}, \"colorscale\": {\"diverging\": [[0, \"#8e0152\"], [0.1, \"#c51b7d\"], [0.2, \"#de77ae\"], [0.3, \"#f1b6da\"], [0.4, \"#fde0ef\"], [0.5, \"#f7f7f7\"], [0.6, \"#e6f5d0\"], [0.7, \"#b8e186\"], [0.8, \"#7fbc41\"], [0.9, \"#4d9221\"], [1, \"#276419\"]], \"sequential\": [[0.0, \"#0d0887\"], [0.1111111111111111, \"#46039f\"], [0.2222222222222222, \"#7201a8\"], [0.3333333333333333, \"#9c179e\"], [0.4444444444444444, \"#bd3786\"], [0.5555555555555556, \"#d8576b\"], [0.6666666666666666, \"#ed7953\"], [0.7777777777777778, \"#fb9f3a\"], [0.8888888888888888, \"#fdca26\"], [1.0, \"#f0f921\"]], \"sequentialminus\": [[0.0, \"#0d0887\"], [0.1111111111111111, \"#46039f\"], [0.2222222222222222, \"#7201a8\"], [0.3333333333333333, \"#9c179e\"], [0.4444444444444444, \"#bd3786\"], [0.5555555555555556, \"#d8576b\"], [0.6666666666666666, \"#ed7953\"], [0.7777777777777778, \"#fb9f3a\"], [0.8888888888888888, \"#fdca26\"], [1.0, \"#f0f921\"]]}, \"colorway\": [\"#636efa\", \"#EF553B\", \"#00cc96\", \"#ab63fa\", \"#FFA15A\", \"#19d3f3\", \"#FF6692\", \"#B6E880\", \"#FF97FF\", \"#FECB52\"], \"font\": {\"color\": \"#2a3f5f\"}, \"geo\": {\"bgcolor\": \"white\", \"lakecolor\": \"white\", \"landcolor\": \"#E5ECF6\", \"showlakes\": true, \"showland\": true, \"subunitcolor\": \"white\"}, \"hoverlabel\": {\"align\": \"left\"}, \"hovermode\": \"closest\", \"mapbox\": {\"style\": \"light\"}, \"paper_bgcolor\": \"white\", \"plot_bgcolor\": \"#E5ECF6\", \"polar\": {\"angularaxis\": {\"gridcolor\": \"white\", \"linecolor\": \"white\", \"ticks\": \"\"}, \"bgcolor\": \"#E5ECF6\", \"radialaxis\": {\"gridcolor\": \"white\", \"linecolor\": \"white\", \"ticks\": \"\"}}, \"scene\": {\"xaxis\": {\"backgroundcolor\": \"#E5ECF6\", \"gridcolor\": \"white\", \"gridwidth\": 2, \"linecolor\": \"white\", \"showbackground\": true, \"ticks\": \"\", \"zerolinecolor\": \"white\"}, \"yaxis\": {\"backgroundcolor\": \"#E5ECF6\", \"gridcolor\": \"white\", \"gridwidth\": 2, \"linecolor\": \"white\", \"showbackground\": true, \"ticks\": \"\", \"zerolinecolor\": \"white\"}, \"zaxis\": {\"backgroundcolor\": \"#E5ECF6\", \"gridcolor\": \"white\", \"gridwidth\": 2, \"linecolor\": \"white\", \"showbackground\": true, \"ticks\": \"\", \"zerolinecolor\": \"white\"}}, \"shapedefaults\": {\"line\": {\"color\": \"#2a3f5f\"}}, \"ternary\": {\"aaxis\": {\"gridcolor\": \"white\", \"linecolor\": \"white\", \"ticks\": \"\"}, \"baxis\": {\"gridcolor\": \"white\", \"linecolor\": \"white\", \"ticks\": \"\"}, \"bgcolor\": \"#E5ECF6\", \"caxis\": {\"gridcolor\": \"white\", \"linecolor\": \"white\", \"ticks\": \"\"}}, \"title\": {\"x\": 0.05}, \"xaxis\": {\"automargin\": true, \"gridcolor\": \"white\", \"linecolor\": \"white\", \"ticks\": \"\", \"title\": {\"standoff\": 15}, \"zerolinecolor\": \"white\", \"zerolinewidth\": 2}, \"yaxis\": {\"automargin\": true, \"gridcolor\": \"white\", \"linecolor\": \"white\", \"ticks\": \"\", \"title\": {\"standoff\": 15}, \"zerolinecolor\": \"white\", \"zerolinewidth\": 2}}}, \"title\": {\"text\": \"Avg-Max-Min Actual_price(Rs)\", \"x\": 0.5}},                        {\"responsive\": true}                    ).then(function(){\n",
       "                            \n",
       "var gd = document.getElementById('67628f9b-a228-4452-a1e2-73fac800389b');\n",
       "var x = new MutationObserver(function (mutations, observer) {{\n",
       "        var display = window.getComputedStyle(gd).display;\n",
       "        if (!display || display === 'none') {{\n",
       "            console.log([gd, 'removed!']);\n",
       "            Plotly.purge(gd);\n",
       "            observer.disconnect();\n",
       "        }}\n",
       "}});\n",
       "\n",
       "// Listen for the removal of the full notebook cells\n",
       "var notebookContainer = gd.closest('#notebook-container');\n",
       "if (notebookContainer) {{\n",
       "    x.observe(notebookContainer, {childList: true});\n",
       "}}\n",
       "\n",
       "// Listen for the clearing of the current output cell\n",
       "var outputEl = gd.closest('.output');\n",
       "if (outputEl) {{\n",
       "    x.observe(outputEl, {childList: true});\n",
       "}}\n",
       "\n",
       "                        })                };                });            </script>        </div>"
      ]
     },
     "metadata": {},
     "output_type": "display_data"
    }
   ],
   "source": [
    "fig = go.Figure()\n",
    "# first I add a trace for every x\n",
    "fig.add_trace(go.Scatter(x=grp[\"brand\"],\n",
    "                         y=grp[\"actual_price(Rs)_min\"],\n",
    "                         mode=\"markers\",\n",
    "                         showlegend=False,\n",
    "                         marker=dict(color=\"yellow\",\n",
    "                                     size=10)))\n",
    "\n",
    "fig.add_trace(go.Scatter(x=grp[\"brand\"],\n",
    "                         y=grp[\"actual_price(Rs)_mean\"],\n",
    "                         mode=\"markers\",\n",
    "                         showlegend=False,\n",
    "                         marker=dict(color=\"blue\",\n",
    "                                     size=20)))\n",
    "\n",
    "fig.add_trace(go.Scatter(x=grp[\"brand\"],\n",
    "                         y=grp[\"actual_price(Rs)_max\"],\n",
    "                         mode=\"markers\",\n",
    "                         showlegend=False,\n",
    "                         marker=dict(color=\"red\",\n",
    "                                     size=10)))\n",
    "# then I add a vertical line for \n",
    "# every x where y_min!=y_max\n",
    "for i, row in grp.iterrows():\n",
    "    if row[\"actual_price(Rs)_min\"]!=row[\"actual_price(Rs)_max\"]:\n",
    "        fig.add_shape(\n",
    "            dict(type=\"line\",\n",
    "                 x0=row[\"brand\"],\n",
    "                 x1=row[\"brand\"],\n",
    "                 y0=row[\"actual_price(Rs)_min\"],\n",
    "                 y1=row[\"actual_price(Rs)_max\"],\n",
    "                 line=dict(\n",
    "                   color=\"blue\",\n",
    "                   width=2)\n",
    "                )\n",
    "        )\n",
    "fig.update_layout(title=\"Avg-Max-Min Actual_price(Rs)\", title_x=0.5)\n",
    "fig.show()"
   ]
  },
  {
   "cell_type": "code",
   "execution_count": 156,
   "metadata": {},
   "outputs": [
    {
     "data": {
      "text/html": [
       "<div>\n",
       "<style scoped>\n",
       "    .dataframe tbody tr th:only-of-type {\n",
       "        vertical-align: middle;\n",
       "    }\n",
       "\n",
       "    .dataframe tbody tr th {\n",
       "        vertical-align: top;\n",
       "    }\n",
       "\n",
       "    .dataframe thead th {\n",
       "        text-align: right;\n",
       "    }\n",
       "</style>\n",
       "<table border=\"1\" class=\"dataframe\">\n",
       "  <thead>\n",
       "    <tr style=\"text-align: right;\">\n",
       "      <th></th>\n",
       "      <th>model</th>\n",
       "      <th>colours</th>\n",
       "      <th>ratings</th>\n",
       "      <th>reviews</th>\n",
       "      <th>selling_price(Rs)</th>\n",
       "      <th>actual_price(Rs)</th>\n",
       "      <th>off(%)</th>\n",
       "      <th>brand</th>\n",
       "      <th>type</th>\n",
       "      <th>colour</th>\n",
       "      <th>discount</th>\n",
       "    </tr>\n",
       "  </thead>\n",
       "  <tbody>\n",
       "    <tr>\n",
       "      <th>0</th>\n",
       "      <td>boAt Airdopes 491 True Wireless Bluetooth Headset</td>\n",
       "      <td>Spirit Lime, True Wireless</td>\n",
       "      <td>3.6</td>\n",
       "      <td>751</td>\n",
       "      <td>2999</td>\n",
       "      <td>6974</td>\n",
       "      <td>57</td>\n",
       "      <td>boAt</td>\n",
       "      <td>True Wireless</td>\n",
       "      <td>Spirit Lime</td>\n",
       "      <td>3975</td>\n",
       "    </tr>\n",
       "    <tr>\n",
       "      <th>1</th>\n",
       "      <td>boAt Airdopes 641 Bluetooth Headset</td>\n",
       "      <td>Black Fusion, True Wireless</td>\n",
       "      <td>4.2</td>\n",
       "      <td>28</td>\n",
       "      <td>2999</td>\n",
       "      <td>6974</td>\n",
       "      <td>57</td>\n",
       "      <td>boAt</td>\n",
       "      <td>True Wireless</td>\n",
       "      <td>Black Fusion</td>\n",
       "      <td>3975</td>\n",
       "    </tr>\n",
       "  </tbody>\n",
       "</table>\n",
       "</div>"
      ],
      "text/plain": [
       "                                               model  \\\n",
       "0  boAt Airdopes 491 True Wireless Bluetooth Headset   \n",
       "1                boAt Airdopes 641 Bluetooth Headset   \n",
       "\n",
       "                       colours  ratings  reviews  selling_price(Rs)  \\\n",
       "0   Spirit Lime, True Wireless      3.6      751               2999   \n",
       "1  Black Fusion, True Wireless      4.2       28               2999   \n",
       "\n",
       "   actual_price(Rs)  off(%) brand           type        colour  discount  \n",
       "0              6974      57  boAt  True Wireless   Spirit Lime      3975  \n",
       "1              6974      57  boAt  True Wireless  Black Fusion      3975  "
      ]
     },
     "execution_count": 156,
     "metadata": {},
     "output_type": "execute_result"
    }
   ],
   "source": [
    "df.head(2)"
   ]
  },
  {
   "cell_type": "code",
   "execution_count": 267,
   "metadata": {},
   "outputs": [
    {
     "name": "stderr",
     "output_type": "stream",
     "text": [
      "C:\\Users\\mohd mustakim\\Anaconda3\\lib\\site-packages\\ipykernel_launcher.py:1: FutureWarning:\n",
      "\n",
      "Indexing with multiple keys (implicitly converted to a tuple of keys) will be deprecated, use a list instead.\n",
      "\n"
     ]
    }
   ],
   "source": [
    "type_brand=df.groupby(by=df['model'])['actual_price(Rs)','type','brand'].max().sort_values(ascending=False,by='actual_price(Rs)').head(10)"
   ]
  },
  {
   "cell_type": "code",
   "execution_count": 277,
   "metadata": {},
   "outputs": [
    {
     "data": {
      "image/png": "[encoded data removed]",
      "text/plain": [
       "<Figure size 1080x504 with 1 Axes>"
      ]
     },
     "metadata": {
      "needs_background": "light"
     },
     "output_type": "display_data"
    }
   ],
   "source": [
    "plt.figure(figsize=(15,7))\n",
    "sns.scatterplot(y=\"actual_price(Rs)\",x=\"type\",data=type_brand,hue='brand',style=\"model\",legend=\"full\")\n",
    "plt.xticks(rotation=0)\n",
    "plt.title(\"MODEL AND TYPE WITH MAX PRICE\")\n",
    "plt.show()"
   ]
  },
  {
   "cell_type": "code",
   "execution_count": null,
   "metadata": {},
   "outputs": [],
   "source": [
    "sns.relplot(\n",
    "    data=type_brand, x=\"type\", y=\"actual_price(Rs)\",\n",
    "    col=\"type\", hue=\"type\", style=\"type\",\n",
    "    kind=\"scatter\")"
   ]
  },
  {
   "cell_type": "code",
   "execution_count": 216,
   "metadata": {},
   "outputs": [
    {
     "data": {
      "text/html": [
       "<div>\n",
       "<style scoped>\n",
       "    .dataframe tbody tr th:only-of-type {\n",
       "        vertical-align: middle;\n",
       "    }\n",
       "\n",
       "    .dataframe tbody tr th {\n",
       "        vertical-align: top;\n",
       "    }\n",
       "\n",
       "    .dataframe thead th {\n",
       "        text-align: right;\n",
       "    }\n",
       "</style>\n",
       "<table border=\"1\" class=\"dataframe\">\n",
       "  <thead>\n",
       "    <tr style=\"text-align: right;\">\n",
       "      <th></th>\n",
       "      <th>actual_price(Rs)</th>\n",
       "      <th>type</th>\n",
       "    </tr>\n",
       "    <tr>\n",
       "      <th>model</th>\n",
       "      <th></th>\n",
       "      <th></th>\n",
       "    </tr>\n",
       "  </thead>\n",
       "  <tbody>\n",
       "    <tr>\n",
       "      <th>boAt Airdopes 711 Bluetooth Headset</th>\n",
       "      <td>11902</td>\n",
       "      <td>True Wireless</td>\n",
       "    </tr>\n",
       "    <tr>\n",
       "      <th>Skullcandy Sesh Evo Bluetooth Headset</th>\n",
       "      <td>9998</td>\n",
       "      <td>True Wireless</td>\n",
       "    </tr>\n",
       "    <tr>\n",
       "      <th>OnePlus Buds Bluetooth Headset</th>\n",
       "      <td>9980</td>\n",
       "      <td>True Wireless</td>\n",
       "    </tr>\n",
       "    <tr>\n",
       "      <th>ORAIMO OEB-E99D Bluetooth Headset</th>\n",
       "      <td>9198</td>\n",
       "      <td>True Wireless</td>\n",
       "    </tr>\n",
       "    <tr>\n",
       "      <th>PHILIPS TASH402BK Bluetooth Headset</th>\n",
       "      <td>8867</td>\n",
       "      <td>On the Ear</td>\n",
       "    </tr>\n",
       "  </tbody>\n",
       "</table>\n",
       "</div>"
      ],
      "text/plain": [
       "                                       actual_price(Rs)           type\n",
       "model                                                                 \n",
       "boAt Airdopes 711 Bluetooth Headset               11902  True Wireless\n",
       "Skullcandy Sesh Evo Bluetooth Headset              9998  True Wireless\n",
       "OnePlus Buds Bluetooth Headset                     9980  True Wireless\n",
       "ORAIMO OEB-E99D Bluetooth Headset                  9198  True Wireless\n",
       "PHILIPS TASH402BK Bluetooth Headset                8867     On the Ear"
      ]
     },
     "execution_count": 216,
     "metadata": {},
     "output_type": "execute_result"
    }
   ],
   "source": [
    "type_model.head()"
   ]
  },
  {
   "cell_type": "code",
   "execution_count": null,
   "metadata": {},
   "outputs": [],
   "source": []
  },
  {
   "cell_type": "code",
   "execution_count": 155,
   "metadata": {},
   "outputs": [
    {
     "data": {
      "image/png": "[encoded data removed]",
      "text/plain": [
       "<Figure size 432x288 with 1 Axes>"
      ]
     },
     "metadata": {
      "needs_background": "light"
     },
     "output_type": "display_data"
    }
   ],
   "source": [
    "model_max_price=df.groupby(by=df['model'])['actual_price(Rs)'].max().sort_values(ascending=False)\n",
    "model_max_price.head(20).plot(kind='bar')\n",
    "plt.title('top 20 costly products and their model',color='brown',size=15)\n",
    "plt.show()"
   ]
  },
  {
   "cell_type": "code",
   "execution_count": 153,
   "metadata": {},
   "outputs": [
    {
     "data": {
      "image/png": "[encoded data removed]",
      "text/plain": [
       "<Figure size 432x288 with 1 Axes>"
      ]
     },
     "metadata": {
      "needs_background": "light"
     },
     "output_type": "display_data"
    }
   ],
   "source": [
    "model_min_price=df.groupby(by=df['model'])['actual_price(Rs)'].max().sort_values(ascending=False)\n",
    "model_min_price.tail(20).plot(kind='bar')\n",
    "plt.title('top 20 cheapest products price and model',color='brown',size=15)\n",
    "plt.show()"
   ]
  },
  {
   "cell_type": "code",
   "execution_count": 188,
   "metadata": {},
   "outputs": [
    {
     "data": {
      "image/png": "[encoded data removed]",
      "text/plain": [
       "<Figure size 432x288 with 1 Axes>"
      ]
     },
     "metadata": {
      "needs_background": "light"
     },
     "output_type": "display_data"
    }
   ],
   "source": [
    "model_max_price_reviews=df.groupby(by=df['reviews'])['actual_price(Rs)'].max().sort_values(ascending=False)\n",
    "model_max_price_reviews.head(20).plot(kind='bar')\n",
    "plt.title('top 20 costly products reviews',color='brown',size=20)\n",
    "plt.ylabel('price',color='brown',size=20)\n",
    "plt.xlabel('reviews',color='brown',size=20)\n",
    "plt.show()"
   ]
  },
  {
   "cell_type": "code",
   "execution_count": 187,
   "metadata": {},
   "outputs": [
    {
     "data": {
      "image/png": "[encoded data removed]",
      "text/plain": [
       "<Figure size 432x288 with 1 Axes>"
      ]
     },
     "metadata": {
      "needs_background": "light"
     },
     "output_type": "display_data"
    }
   ],
   "source": [
    "model_max_price_ratings=df.groupby(by=df['ratings'])['actual_price(Rs)'].max().sort_values(ascending=False)\n",
    "model_max_price_ratings.head(20).plot(kind='bar')\n",
    "plt.title('top 20 costly products ratings',color='brown',size=20)\n",
    "plt.ylabel('price',color='brown',size=20)\n",
    "plt.xlabel('ratings',color='brown',size=20)\n",
    "plt.show()"
   ]
  },
  {
   "cell_type": "code",
   "execution_count": 200,
   "metadata": {},
   "outputs": [
    {
     "data": {
      "text/plain": [
       "type\n",
       "True Wireless    11902\n",
       "On the Ear        8867\n",
       "In the Ear        7980\n",
       "Name: actual_price(Rs), dtype: int64"
      ]
     },
     "execution_count": 200,
     "metadata": {},
     "output_type": "execute_result"
    }
   ],
   "source": [
    "df.groupby(by=df['type'])['actual_price(Rs)'].max().sort_values(ascending=False)"
   ]
  },
  {
   "cell_type": "code",
   "execution_count": 202,
   "metadata": {},
   "outputs": [
    {
     "data": {
      "image/png": "[encoded data removed]",
      "text/plain": [
       "<Figure size 432x288 with 1 Axes>"
      ]
     },
     "metadata": {
      "needs_background": "light"
     },
     "output_type": "display_data"
    }
   ],
   "source": [
    "model_max_price_type=df.groupby(by=df['type'])['actual_price(Rs)'].max().sort_values(ascending=False)\n",
    "model_max_price_type.plot(kind='bar')\n",
    "plt.title('products type with max_price',color='brown',size=20)\n",
    "plt.ylabel('max_price',color='brown',size=20)\n",
    "plt.xlabel('type',color='brown',size=20)\n",
    "plt.show()"
   ]
  },
  {
   "cell_type": "code",
   "execution_count": 189,
   "metadata": {},
   "outputs": [
    {
     "data": {
      "text/html": [
       "<div>\n",
       "<style scoped>\n",
       "    .dataframe tbody tr th:only-of-type {\n",
       "        vertical-align: middle;\n",
       "    }\n",
       "\n",
       "    .dataframe tbody tr th {\n",
       "        vertical-align: top;\n",
       "    }\n",
       "\n",
       "    .dataframe thead th {\n",
       "        text-align: right;\n",
       "    }\n",
       "</style>\n",
       "<table border=\"1\" class=\"dataframe\">\n",
       "  <thead>\n",
       "    <tr style=\"text-align: right;\">\n",
       "      <th></th>\n",
       "      <th>model</th>\n",
       "      <th>colours</th>\n",
       "      <th>ratings</th>\n",
       "      <th>reviews</th>\n",
       "      <th>selling_price(Rs)</th>\n",
       "      <th>actual_price(Rs)</th>\n",
       "      <th>off(%)</th>\n",
       "      <th>brand</th>\n",
       "      <th>type</th>\n",
       "      <th>colour</th>\n",
       "      <th>discount</th>\n",
       "    </tr>\n",
       "  </thead>\n",
       "  <tbody>\n",
       "    <tr>\n",
       "      <th>0</th>\n",
       "      <td>boAt Airdopes 491 True Wireless Bluetooth Headset</td>\n",
       "      <td>Spirit Lime, True Wireless</td>\n",
       "      <td>3.6</td>\n",
       "      <td>751</td>\n",
       "      <td>2999</td>\n",
       "      <td>6974</td>\n",
       "      <td>57</td>\n",
       "      <td>boAt</td>\n",
       "      <td>True Wireless</td>\n",
       "      <td>Spirit Lime</td>\n",
       "      <td>3975</td>\n",
       "    </tr>\n",
       "    <tr>\n",
       "      <th>1</th>\n",
       "      <td>boAt Airdopes 641 Bluetooth Headset</td>\n",
       "      <td>Black Fusion, True Wireless</td>\n",
       "      <td>4.2</td>\n",
       "      <td>28</td>\n",
       "      <td>2999</td>\n",
       "      <td>6974</td>\n",
       "      <td>57</td>\n",
       "      <td>boAt</td>\n",
       "      <td>True Wireless</td>\n",
       "      <td>Black Fusion</td>\n",
       "      <td>3975</td>\n",
       "    </tr>\n",
       "  </tbody>\n",
       "</table>\n",
       "</div>"
      ],
      "text/plain": [
       "                                               model  \\\n",
       "0  boAt Airdopes 491 True Wireless Bluetooth Headset   \n",
       "1                boAt Airdopes 641 Bluetooth Headset   \n",
       "\n",
       "                       colours  ratings  reviews  selling_price(Rs)  \\\n",
       "0   Spirit Lime, True Wireless      3.6      751               2999   \n",
       "1  Black Fusion, True Wireless      4.2       28               2999   \n",
       "\n",
       "   actual_price(Rs)  off(%) brand           type        colour  discount  \n",
       "0              6974      57  boAt  True Wireless   Spirit Lime      3975  \n",
       "1              6974      57  boAt  True Wireless  Black Fusion      3975  "
      ]
     },
     "execution_count": 189,
     "metadata": {},
     "output_type": "execute_result"
    }
   ],
   "source": [
    "df.head(2)"
   ]
  },
  {
   "cell_type": "code",
   "execution_count": 198,
   "metadata": {},
   "outputs": [
    {
     "data": {
      "image/png": "[encoded data removed]",
      "text/plain": [
       "<Figure size 432x288 with 1 Axes>"
      ]
     },
     "metadata": {
      "needs_background": "light"
     },
     "output_type": "display_data"
    }
   ],
   "source": [
    "brand_max_discount=df.groupby(by=df['brand'])['discount'].max().sort_values(ascending=False)\n",
    "brand_max_discount.head(20).plot(kind='bar')\n",
    "plt.title('brand with max discounts',color='brown',size=20)\n",
    "plt.ylabel('discount_price',color='brown',size=20)\n",
    "plt.xlabel('brand',color='brown',size=20)\n",
    "plt.show()"
   ]
  },
  {
   "cell_type": "code",
   "execution_count": 16,
   "metadata": {},
   "outputs": [
    {
     "data": {
      "text/html": [
       "<div>\n",
       "<style scoped>\n",
       "    .dataframe tbody tr th:only-of-type {\n",
       "        vertical-align: middle;\n",
       "    }\n",
       "\n",
       "    .dataframe tbody tr th {\n",
       "        vertical-align: top;\n",
       "    }\n",
       "\n",
       "    .dataframe thead th {\n",
       "        text-align: right;\n",
       "    }\n",
       "</style>\n",
       "<table border=\"1\" class=\"dataframe\">\n",
       "  <thead>\n",
       "    <tr style=\"text-align: right;\">\n",
       "      <th></th>\n",
       "      <th>model</th>\n",
       "      <th>ratings</th>\n",
       "      <th>reviews</th>\n",
       "      <th>selling_price(Rs)</th>\n",
       "      <th>actual_price(Rs)</th>\n",
       "      <th>off(%)</th>\n",
       "      <th>brand</th>\n",
       "      <th>type</th>\n",
       "      <th>colour</th>\n",
       "      <th>discount</th>\n",
       "    </tr>\n",
       "  </thead>\n",
       "  <tbody>\n",
       "    <tr>\n",
       "      <th>0</th>\n",
       "      <td>boAt Airdopes 491 True Wireless Bluetooth Headset</td>\n",
       "      <td>3.6</td>\n",
       "      <td>751</td>\n",
       "      <td>2999</td>\n",
       "      <td>6974</td>\n",
       "      <td>57</td>\n",
       "      <td>boAt</td>\n",
       "      <td>True Wireless</td>\n",
       "      <td>Spirit Lime</td>\n",
       "      <td>3975</td>\n",
       "    </tr>\n",
       "    <tr>\n",
       "      <th>1</th>\n",
       "      <td>boAt Airdopes 641 Bluetooth Headset</td>\n",
       "      <td>4.2</td>\n",
       "      <td>28</td>\n",
       "      <td>2999</td>\n",
       "      <td>6974</td>\n",
       "      <td>57</td>\n",
       "      <td>boAt</td>\n",
       "      <td>True Wireless</td>\n",
       "      <td>Black Fusion</td>\n",
       "      <td>3975</td>\n",
       "    </tr>\n",
       "    <tr>\n",
       "      <th>2</th>\n",
       "      <td>OnePlus Bullets Wireless Z Bluetooth Headset</td>\n",
       "      <td>4.4</td>\n",
       "      <td>257701</td>\n",
       "      <td>1999</td>\n",
       "      <td>2173</td>\n",
       "      <td>8</td>\n",
       "      <td>OnePlus</td>\n",
       "      <td>In the Ear</td>\n",
       "      <td>Black</td>\n",
       "      <td>174</td>\n",
       "    </tr>\n",
       "    <tr>\n",
       "      <th>3</th>\n",
       "      <td>OnePlus Bullets Wireless Z Bass Edition Blueto...</td>\n",
       "      <td>4.4</td>\n",
       "      <td>102096</td>\n",
       "      <td>1999</td>\n",
       "      <td>2173</td>\n",
       "      <td>8</td>\n",
       "      <td>OnePlus</td>\n",
       "      <td>In the Ear</td>\n",
       "      <td>Reverb Red</td>\n",
       "      <td>174</td>\n",
       "    </tr>\n",
       "    <tr>\n",
       "      <th>4</th>\n",
       "      <td>Mivi Collar Classic with Fast Charging Bluetoo...</td>\n",
       "      <td>4.0</td>\n",
       "      <td>802</td>\n",
       "      <td>999</td>\n",
       "      <td>2498</td>\n",
       "      <td>60</td>\n",
       "      <td>Mivi</td>\n",
       "      <td>In the Ear</td>\n",
       "      <td>Black</td>\n",
       "      <td>1499</td>\n",
       "    </tr>\n",
       "  </tbody>\n",
       "</table>\n",
       "</div>"
      ],
      "text/plain": [
       "                                               model  ratings  reviews  \\\n",
       "0  boAt Airdopes 491 True Wireless Bluetooth Headset      3.6      751   \n",
       "1                boAt Airdopes 641 Bluetooth Headset      4.2       28   \n",
       "2       OnePlus Bullets Wireless Z Bluetooth Headset      4.4   257701   \n",
       "3  OnePlus Bullets Wireless Z Bass Edition Blueto...      4.4   102096   \n",
       "4  Mivi Collar Classic with Fast Charging Bluetoo...      4.0      802   \n",
       "\n",
       "   selling_price(Rs)  actual_price(Rs)  off(%)    brand           type  \\\n",
       "0               2999              6974      57     boAt  True Wireless   \n",
       "1               2999              6974      57     boAt  True Wireless   \n",
       "2               1999              2173       8  OnePlus     In the Ear   \n",
       "3               1999              2173       8  OnePlus     In the Ear   \n",
       "4                999              2498      60     Mivi     In the Ear   \n",
       "\n",
       "         colour  discount  \n",
       "0   Spirit Lime      3975  \n",
       "1  Black Fusion      3975  \n",
       "2         Black       174  \n",
       "3    Reverb Red       174  \n",
       "4         Black      1499  "
      ]
     },
     "execution_count": 16,
     "metadata": {},
     "output_type": "execute_result"
    }
   ],
   "source": [
    "df.head()"
   ]
  },
  {
   "cell_type": "code",
   "execution_count": 41,
   "metadata": {},
   "outputs": [
    {
     "data": {
      "text/html": [
       "<div>\n",
       "<style scoped>\n",
       "    .dataframe tbody tr th:only-of-type {\n",
       "        vertical-align: middle;\n",
       "    }\n",
       "\n",
       "    .dataframe tbody tr th {\n",
       "        vertical-align: top;\n",
       "    }\n",
       "\n",
       "    .dataframe thead th {\n",
       "        text-align: right;\n",
       "    }\n",
       "</style>\n",
       "<table border=\"1\" class=\"dataframe\">\n",
       "  <thead>\n",
       "    <tr style=\"text-align: right;\">\n",
       "      <th></th>\n",
       "      <th>brand</th>\n",
       "      <th>model</th>\n",
       "    </tr>\n",
       "  </thead>\n",
       "  <tbody>\n",
       "    <tr>\n",
       "      <th>0</th>\n",
       "      <td>boAt</td>\n",
       "      <td>boAt Airdopes 491 True Wireless Bluetooth Headset</td>\n",
       "    </tr>\n",
       "    <tr>\n",
       "      <th>1</th>\n",
       "      <td>boAt</td>\n",
       "      <td>boAt Airdopes 641 Bluetooth Headset</td>\n",
       "    </tr>\n",
       "    <tr>\n",
       "      <th>2</th>\n",
       "      <td>OnePlus</td>\n",
       "      <td>OnePlus Bullets Wireless Z Bluetooth Headset</td>\n",
       "    </tr>\n",
       "    <tr>\n",
       "      <th>3</th>\n",
       "      <td>OnePlus</td>\n",
       "      <td>OnePlus Bullets Wireless Z Bass Edition Blueto...</td>\n",
       "    </tr>\n",
       "    <tr>\n",
       "      <th>4</th>\n",
       "      <td>Mivi</td>\n",
       "      <td>Mivi Collar Classic with Fast Charging Bluetoo...</td>\n",
       "    </tr>\n",
       "    <tr>\n",
       "      <th>...</th>\n",
       "      <td>...</td>\n",
       "      <td>...</td>\n",
       "    </tr>\n",
       "    <tr>\n",
       "      <th>718</th>\n",
       "      <td>Portronics</td>\n",
       "      <td>Portronics Muffs Pro, POR-645 Bluetooth withou...</td>\n",
       "    </tr>\n",
       "    <tr>\n",
       "      <th>719</th>\n",
       "      <td>Skullcandy</td>\n",
       "      <td>Skullcandy S2DUY-L102 Wired Headset</td>\n",
       "    </tr>\n",
       "    <tr>\n",
       "      <th>720</th>\n",
       "      <td>Skullcandy</td>\n",
       "      <td>Skullcandy Jib Plus Active Sport Wireless Blue...</td>\n",
       "    </tr>\n",
       "    <tr>\n",
       "      <th>721</th>\n",
       "      <td>PHILIPS</td>\n",
       "      <td>PHILIPS SHB4305WT Bluetooth Headset</td>\n",
       "    </tr>\n",
       "    <tr>\n",
       "      <th>722</th>\n",
       "      <td>OPPO</td>\n",
       "      <td>OPPO Wireless Bluetooth Headphone With Mic &amp; F...</td>\n",
       "    </tr>\n",
       "  </tbody>\n",
       "</table>\n",
       "<p>723 rows × 2 columns</p>\n",
       "</div>"
      ],
      "text/plain": [
       "          brand                                              model\n",
       "0          boAt  boAt Airdopes 491 True Wireless Bluetooth Headset\n",
       "1          boAt                boAt Airdopes 641 Bluetooth Headset\n",
       "2       OnePlus       OnePlus Bullets Wireless Z Bluetooth Headset\n",
       "3       OnePlus  OnePlus Bullets Wireless Z Bass Edition Blueto...\n",
       "4          Mivi  Mivi Collar Classic with Fast Charging Bluetoo...\n",
       "..          ...                                                ...\n",
       "718  Portronics  Portronics Muffs Pro, POR-645 Bluetooth withou...\n",
       "719  Skullcandy                Skullcandy S2DUY-L102 Wired Headset\n",
       "720  Skullcandy  Skullcandy Jib Plus Active Sport Wireless Blue...\n",
       "721     PHILIPS                PHILIPS SHB4305WT Bluetooth Headset\n",
       "722        OPPO  OPPO Wireless Bluetooth Headphone With Mic & F...\n",
       "\n",
       "[723 rows x 2 columns]"
      ]
     },
     "execution_count": 41,
     "metadata": {},
     "output_type": "execute_result"
    }
   ],
   "source": [
    "df1=df[['brand','model']]\n",
    "df1"
   ]
  },
  {
   "cell_type": "code",
   "execution_count": 49,
   "metadata": {},
   "outputs": [],
   "source": [
    "df1=df1.set_index('brand')"
   ]
  },
  {
   "cell_type": "code",
   "execution_count": 51,
   "metadata": {},
   "outputs": [],
   "source": [
    "g=df1.groupby('brand')"
   ]
  },
  {
   "cell_type": "code",
   "execution_count": 66,
   "metadata": {},
   "outputs": [
    {
     "name": "stdout",
     "output_type": "stream",
     "text": [
      "Boult\n",
      "                                                   model\n",
      "brand                                                   \n",
      "Boult              Boult Audio Bass Bud Q2 Wired Headset\n",
      "Boult  Boult Audio Air Bass Power Buds Bluetooth Headset\n",
      "Boult            Boult Audio BassBuds Loop Wired Headset\n",
      "Boult   Boult Audio Air Bass Free Pods Bluetooth Headset\n",
      "Boult  Boult Audio ProBass Curve Neckband Bluetooth H...\n",
      "Boult      Boult Audio AirBass Combuds Bluetooth Headset\n",
      "Boult   Boult Audio Pro Bass Curve Pro Bluetooth Headset\n",
      "Boult   Boult Audio Air Bass Free Pods Bluetooth Headset\n",
      "Boult  Boult Audio ProBass Curve Neckband Bluetooth H...\n",
      "Boult       Boult Audio ProBass Flow X Bluetooth Headset\n",
      "Boult       Boult Audio ProBass Flow X Bluetooth Headset\n",
      "Boult              Boult Audio Thunder Bluetooth Headset\n",
      "Boult      Boult Audio AirBass Combuds Bluetooth Headset\n",
      "Boult           Boult Audio BassBuds Storm Wired Headset\n",
      "Boult  Boult Audio Air Bass Power Buds Bluetooth Headset\n",
      "Boult          Boult Audio BassBuds StormX Wired Headset\n",
      "Boult      Boult Audio AirBass Probuds Bluetooth Headset\n",
      "Boult           Boult Audio BassBuds Storm Wired Headset\n",
      "Boult     Boult Audio Airbass Truebuds Bluetooth Headset\n",
      "Boult           Boult Audio BassBuds Storm Wired Headset\n",
      "Boult   Boult Audio BassBuds Oak Pure-Wood Wired Headset\n",
      "Boult   Boult Audio Air Bass Muse Buds Bluetooth Headset\n",
      "Boult  Boult Audio ProBass Buster Neckband in-Ear Wir...\n",
      "Boult        Boult Audio Probass Boost Bluetooth Headset\n",
      "Boult      Boult Audio AirBass Probuds Bluetooth Headset\n",
      "Boult     Boult Audio AirBass LiveBuds Bluetooth Headset\n",
      "Boult        Boult Audio ProBass Space Bluetooth Headset\n",
      "Boult                       Boult Audio X1 Wired Headset\n",
      "Boult              Boult Audio BassBuds X2 Wired Headset\n",
      "Boult         Boult Audio ProBass Muse Bluetooth Headset\n",
      "Boult         Boult Audio ProBass Muse Bluetooth Headset\n",
      "Boult                Boult Audio X1-WL Bluetooth Headset\n",
      "Boult     Boult Audio Airbass Truebuds Bluetooth Headset\n",
      "Boult  Boult Audio Air Bass Power Buds Bluetooth Headset\n",
      "Boult              Boult Audio BassBuds X2 Wired Headset\n",
      "Boult                     Boult Audio Loop Wired Headset\n",
      "HRX\n",
      "                                                   model\n",
      "brand                                                   \n",
      "HRX    HRX X-Drops 9G with Quick Touch Technology Blu...\n",
      "HRX    HRX X-Drops 9G with Quick Touch Technology Blu...\n",
      "HRX    HRX X-Wave 7R with Flex Fold Design Technology...\n",
      "HRX                        HRX X-Streak 2Q Wired Headset\n",
      "HRX    HRX X-Wave 14R with Bass Boost Mode Bluetooth ...\n",
      "HRX    HRX X-Wave 11R with Flex Fold Design Technolog...\n",
      "HRX                        HRX X-Streak 5Q Wired Headset\n",
      "HRX    HRX X-Wave 11R with Flex Fold Design Technolog...\n",
      "HRX    HRX X-Drops 6G with 15 Hours Playback Bluetoot...\n",
      "HRX    HRX X-Wave 14R with Bass Boost Mode Bluetooth ...\n",
      "JBL\n",
      "                                              model\n",
      "brand                                              \n",
      "JBL                        JBL C150SI Wired Headset\n",
      "JBL                         JBL C50HI Wired Headset\n",
      "JBL                        JBL C150SI Wired Headset\n",
      "JBL                    JBL T160BT Bluetooth Headset\n",
      "JBL                          JBL T160 Wired Headset\n",
      "...                                             ...\n",
      "JBL                 JBL Live 25BT Bluetooth Headset\n",
      "JBL                  JBL Reflect Mini Wired Headset\n",
      "JBL                JBL Live 220BT Bluetooth Headset\n",
      "JBL               JBL Tune600BTNC Bluetooth Headset\n",
      "JBL    JBL 100% Original t50-hi Wired Wired Headset\n",
      "\n",
      "[90 rows x 1 columns]\n",
      "Mivi\n",
      "                                                   model\n",
      "brand                                                   \n",
      "Mivi   Mivi Collar Classic with Fast Charging Bluetoo...\n",
      "Mivi    Mivi DuoPods M20 True Wireless Bluetooth Headset\n",
      "Mivi   Mivi Collar 2A with Fast Charging Bluetooth He...\n",
      "Mivi    Mivi DuoPods M20 True Wireless Bluetooth Headset\n",
      "Mivi              Mivi Collar Neckband Bluetooth Headset\n",
      "Mivi    Mivi DuoPods M20 True Wireless Bluetooth Headset\n",
      "Mivi              Mivi Collar Neckband Bluetooth Headset\n",
      "Mivi    Mivi DuoPods M20 True Wireless Bluetooth Headset\n",
      "Mivi   Mivi Collar 2A with Fast Charging Bluetooth He...\n",
      "Mivi   Mivi Collar 2A with Fast Charging Bluetooth He...\n",
      "Mivi   Mivi DuoPods M80 True Wireless Bluetooth Heads...\n",
      "Mivi   Mivi DuoPods M80 True Wireless Bluetooth Earbu...\n",
      "Mivi                   Mivi TEDPM40-BK Bluetooth Headset\n",
      "Mivi                     Mivi BE5CL-GN Bluetooth Headset\n",
      "Mivi                  Mivi Duopods M40 Bluetooth Headset\n",
      "Mivi                 Mivi ThunderBeats Bluetooth Headset\n",
      "Mivi   Mivi DuoPods M80 True Wireless Bluetooth Heads...\n",
      "Mivi   Mivi Rock and Roll W1 Wired Earphones with HD ...\n",
      "OPPO\n",
      "                                                   model\n",
      "brand                                                   \n",
      "OPPO                         OPPO Earphone Wired Headset\n",
      "OPPO               OPPO Enco M31 EWN1O Bluetooth Headset\n",
      "OPPO           OPPO combo of 2 earphone012 Wired Headset\n",
      "OPPO                     OPPO Enco W11 Bluetooth Headset\n",
      "OPPO           OPPO EARPHONE WIRED HEADSET Wired Headset\n",
      "...                                                  ...\n",
      "OPPO                     OPPO Earphone 031 Wired Headset\n",
      "OPPO         OPPO 3.5mm-Jack Wired Headset Wired Headset\n",
      "OPPO     OPPO KJHGTYDEFIUB HGYUGKGUT KHGJV Wired Headset\n",
      "OPPO         OPPO LJHUIH KJB J 5491RS VEVE Wired Headset\n",
      "OPPO   OPPO Wireless Bluetooth Headphone With Mic & F...\n",
      "\n",
      "[88 rows x 1 columns]\n",
      "ORAIMO\n",
      "                                                    model\n",
      "brand                                                    \n",
      "ORAIMO                       ORAIMO OEP-E21 Wired Headset\n",
      "ORAIMO  ORAIMO Free Pods 2S TWS True Wireless Half In-...\n",
      "ORAIMO  ORAIMO Neckband Bluetooth Headphones with Mic ...\n",
      "ORAIMO                  ORAIMO OEB-E59D Bluetooth Headset\n",
      "ORAIMO                  ORAIMO OEB-E75D Bluetooth Headset\n",
      "ORAIMO  ORAIMO SHARK 2 (59D) WIRELESS HEADPHONE Blueto...\n",
      "ORAIMO                           ORAIMO E21 Wired Headset\n",
      "ORAIMO                  ORAIMO OEB-E99D Bluetooth Headset\n",
      "ORAIMO  ORAIMO Universal earphone with miv and deep ba...\n",
      "ORAIMO  ORAIMO Sweat-Proof Headphones with Mic Bluetoo...\n",
      "ORAIMO                       ORAIMO OEP-E37 Wired Headset\n",
      "ORAIMO          ORAIMO Oriamo earphone e-21 Wired Headset\n",
      "ORAIMO                          ORAIMO E-21 Wired Headset\n",
      "ORAIMO   ORAIMO ORAMO_E94D_FREEPODS_TWS Bluetooth Headset\n",
      "ORAIMO                      ORAIMO E74D Bluetooth Headset\n",
      "ORAIMO       ORAIMO Necklace 2 OEB-E74D Bluetooth Headset\n",
      "ORAIMO      ORAIMO OEB-H85D Bluetooth without Mic Headset\n",
      "ORAIMO        ORAIMO vortex waired earphone Wired Headset\n",
      "ORAIMO                ORAIMO FREEPODS 2 Bluetooth Headset\n",
      "ORAIMO  ORAIMO oep-E10 Pure Bass & in-Ear Wired Earpho...\n",
      "ORAIMO           ORAIMO necklace 2 e74d Bluetooth Headset\n",
      "ORAIMO                  ORAIMO OEB E98D Bluetooth Headset\n",
      "ORAIMO  ORAIMO 2 oep-e21 legendary sound with mic Wire...\n",
      "ORAIMO                     ORAIMO VOEX E-23 Wired Headset\n",
      "ORAIMO  ORAIMO Universal earphone with mic and deep ba...\n",
      "ORAIMO                       ORAIMO OEP-E21 Wired Headset\n",
      "OnePlus\n",
      "                                                     model\n",
      "brand                                                     \n",
      "OnePlus       OnePlus Bullets Wireless Z Bluetooth Headset\n",
      "OnePlus  OnePlus Bullets Wireless Z Bass Edition Blueto...\n",
      "OnePlus  OnePlus Bullets Wireless Z Bass Edition Blueto...\n",
      "OnePlus                   OnePlus Buds Z Bluetooth Headset\n",
      "OnePlus       OnePlus Bullets Wireless Z Bluetooth Headset\n",
      "OnePlus                   OnePlus Buds Z Bluetooth Headset\n",
      "OnePlus                   OnePlus Buds Z Bluetooth Headset\n",
      "OnePlus                   OnePlus Buds Z Bluetooth Headset\n",
      "OnePlus                     OnePlus Buds Bluetooth Headset\n",
      "OnePlus                     OnePlus Buds Bluetooth Headset\n",
      "PHILIPS\n",
      "                                                     model\n",
      "brand                                                     \n",
      "PHILIPS  PHILIPS TAT1215BK (TWS) with IPX4 Splash-Proof...\n",
      "PHILIPS                 PHILIPS SHE1505BK/94 Wired Headset\n",
      "PHILIPS  PHILIPS TAUT102BK True Wireless(TWS) with Voic...\n",
      "PHILIPS  PHILIPS UpBeat TAUH202BK Wireless Bluetooth He...\n",
      "PHILIPS  PHILIPS TAT4205BK (TWS) with IPX5 Splash-Proof...\n",
      "PHILIPS         PHILIPS Upbeat TAN2215BK Bluetooth Headset\n",
      "PHILIPS                 PHILIPS SHE1405BK/94 Wired Headset\n",
      "PHILIPS                      PHILIPS SHE4305 Wired Headset\n",
      "PHILIPS                 PHILIPS SHE4305WT/00 Wired Headset\n",
      "PHILIPS  PHILIPS SHK2000BL/00 Bluetooth without Mic Hea...\n",
      "PHILIPS                PHILIPS SHB1805BK Bluetooth Headset\n",
      "PHILIPS                PHILIPS SHB4305BK Bluetooth Headset\n",
      "PHILIPS  PHILIPS SHB2505BK True Wireless(TWS) with Voic...\n",
      "PHILIPS               PHILIPS SHB1805 BK Bluetooth Headset\n",
      "PHILIPS            PHILIPS SHE1505 Pack of 2 Wired Headset\n",
      "PHILIPS                 PHILIPS SHE1405WT/94 Wired Headset\n",
      "PHILIPS                    PHILIPS PRO6305BK Wired Headset\n",
      "PHILIPS                PHILIPS TAUN102BK Bluetooth Headset\n",
      "PHILIPS      PHILIPS 100% Original SHE3555RD Wired Headset\n",
      "PHILIPS                 PHILIPS SHE2305WT/00 Wired Headset\n",
      "PHILIPS             PHILIPS TAUH202BK/00 Bluetooth Headset\n",
      "PHILIPS        PHILIPS SHK2000BL Wired without Mic Headset\n",
      "PHILIPS                    PHILIPS SHE3555WT Wired Headset\n",
      "PHILIPS                PHILIPS TASH402BK Bluetooth Headset\n",
      "PHILIPS                 PHILIPS SHE2405WT/00 Wired Headset\n",
      "PHILIPS      PHILIPS 100% Original SHE3555WT Wired Headset\n",
      "PHILIPS                PHILIPS Bass+ SHE4305 Wired Headset\n",
      "PHILIPS                 PHILIPS SHE3705BK/00 Wired Headset\n",
      "PHILIPS                    PHILIPS SHE1405BK Wired Headset\n",
      "PHILIPS            PHILIPS SHE1505 Pack of 5 Wired Headset\n",
      "PHILIPS  PHILIPS SHE2305BK IN EARPHONE WITH MIC Wired H...\n",
      "PHILIPS          PHILIPS TX2 Bluetooth without Mic Headset\n",
      "PHILIPS             PHILIPS TAH4205BK/00 Bluetooth Headset\n",
      "PHILIPS                    PHILIPS SHE3555RD Wired Headset\n",
      "PHILIPS  PHILIPS Unisex In-Ear Headphones Bluetooth Hea...\n",
      "PHILIPS                PHILIPS SHB4305WT Bluetooth Headset\n",
      "Portronics\n",
      "                                                        model\n",
      "brand                                                        \n",
      "Portronics         Portronics Harmonics 222 Bluetooth Headset\n",
      "Portronics  Portronics Harmonics 222 / POR 1045 Bluetooth ...\n",
      "Portronics         Portronics Harmonics 216 Bluetooth Headset\n",
      "Portronics  Portronics Harmonics Twins 22 Smart TWS Earpod...\n",
      "Portronics         Portronics Harmonics 216 Bluetooth Headset\n",
      "Portronics         Portronics Harmonics 230 Bluetooth Headset\n",
      "Portronics        Portronics POR-678 Conch Beta Wired Headset\n",
      "Portronics  Portronics POR-927 Harmonics 200 Wireless Ster...\n",
      "Portronics  Portronics Harmonics Twins 33, POR-1175 Blueto...\n",
      "Portronics  Portronics POR-1102 Harmonics Klip 4 Retractab...\n",
      "Portronics  Portronics POR-1050 Harmonics Twins II True Wi...\n",
      "Portronics  Portronics POR-325 Harmonics Twins Mini Blueto...\n",
      "Portronics           Portronics Harmonics X Bluetooth Headset\n",
      "Portronics      Portronics POR-1146 Conch Delta Wired Headset\n",
      "Portronics  Portronics Harmonics One Sports Bluetooth Headset\n",
      "Portronics      Portronics POR-1155 Conch Delta Wired Headset\n",
      "Portronics               Portronics POR-325 Bluetooth Headset\n",
      "Portronics       Portronics POR-1160 Conch Gama Wired Headset\n",
      "Portronics           Portronics Harmonics X Bluetooth Headset\n",
      "Portronics  Portronics POR-1156 Harmonics 224 Bluetooth He...\n",
      "Portronics           Portronics POR-175 212 Bluetooth Headset\n",
      "Portronics  Portronics Harmonics One Sports Bluetooth Headset\n",
      "Portronics       Portronics CONCH GAMA POR 1025 Wired Headset\n",
      "Portronics       Portronics POR-1193 Conch Gama Wired Headset\n",
      "Portronics  Portronics Harmonics One Sports Bluetooth Headset\n",
      "Portronics  Portronics Harmonics 216 POR-1204 Bluetooth He...\n",
      "Portronics  Portronics por-1146 universal mobile earphone ...\n",
      "Portronics       Portronics POR-004 Muffs R Bluetooth Headset\n",
      "Portronics              Portronics POR 1050 Bluetooth Headset\n",
      "Portronics  Portronics Conch Delta POR-1146 in-Ear Wired E...\n",
      "Portronics             Portronics Phoni 3 Retro Wired Headset\n",
      "Portronics      Portronics Muffs M Pro 1074 Bluetooth Headset\n",
      "Portronics                 Portronics Conch 202 Wired Headset\n",
      "Portronics  Portronics DELTA IN EAR EARPHONE POR 1146 Wire...\n",
      "Portronics  Portronics Muffs Pro, POR-645 Bluetooth withou...\n",
      "Redmi\n",
      "                                                   model\n",
      "brand                                                   \n",
      "Redmi      Redmi by Mi Hi-Resolution Audio Wired Headset\n",
      "Redmi         REDMI SonicBass Neckband Bluetooth Headset\n",
      "Redmi      Redmi by Mi Hi-Resolution Audio Wired Headset\n",
      "Redmi                  REDMI Earbuds S Bluetooth Headset\n",
      "Redmi                  REDMI Earbuds S Bluetooth Headset\n",
      "Redmi  REDMI High Definition Bass Stereo Sound HHGGV ...\n",
      "Redmi                       REDMI YDJC01JY Wired Headset\n",
      "Redmi  REDMI Original High Bass Sound stereo Headphon...\n",
      "Redmi  REDMI Original High Bass Sound stereo00 Headph...\n",
      "Redmi  REDMI Original High Bass Sound sterecyfyco Hea...\n",
      "Redmi  REDMI Basic Wired Headset with Mic 01SDFDFGGDF...\n",
      "Redmi  REDMI Basic Wired Headset with Mic 01 Wired He...\n",
      "Redmi  REDMI High Definition Bass Stereo Sound HGFGGV...\n",
      "Redmi  REDMI Basic Wired Headset with Mic 01XDDJ Wire...\n",
      "Redmi  REDMI High Definition Bass Stereo 0454 Wired H...\n",
      "Redmi  REDMI High Definition Bass Stereo Sound HHFGFG...\n",
      "Redmi  REDMI Basic Wired Headset with Mic 01DDFW Wire...\n",
      "Redmi  REDMI Sportclub Bluetooth Headset with Mic 033...\n",
      "Redmi  REDMI Basic Wired Headset with Mic RSDDF Wired...\n",
      "Redmi  REDMI High Definition Bass Stereo Sound G6 Wir...\n",
      "Redmi  REDMI Basic Wired Headset with Mic 01DFGGTDYFG...\n",
      "Redmi  REDMI High Definition Bass Stereo Sound UJDF W...\n",
      "Redmi                 REDMI Dual Driver 02 Wired Headset\n",
      "Redmi                 REDMI Dual Driver 08 Wired Headset\n",
      "Redmi  REDMI Basic Wired Headset with Mic 01DF2CF Wir...\n",
      "Redmi  REDMI High Definition Bass Stereo Sound HHGBVG...\n",
      "Redmi  REDMI High Definition Bass Stereo Sound G6GFFG...\n",
      "Redmi                 REDMI Dual Driver 06 Wired Headset\n",
      "Redmi  REDMI Basic Wired Headset with Mic 01DFGGDFTDY...\n",
      "Redmi                REDMI Dual Driver 012 Wired Headset\n",
      "Redmi  REDMI Basic Wired Headset with Mic 01DF2DFFCFF...\n",
      "Redmi  REDMI Sportclub Bluetooth Headset with Mic 025...\n",
      "Redmi  REDMI Basic Wired Headset with Mic 012CF Wired...\n",
      "Redmi  REDMI Sportclub Bluetooth Headset with Mic 023...\n",
      "Redmi  REDMI High Definition Bass Stereo Sound HGFG W...\n",
      "Redmi  REDMI Basic Wired Headset with Mic 01DTYTDJ Wi...\n",
      "Redmi  REDMI Basic Wired Headset with Mic 01SDFDFGGDF...\n",
      "Redmi  REDMI Basic Wired Headset with Mic 01DF2CFFW W...\n",
      "Redmi  REDMI Basic Wired Headset with Mic 01DFGTYTDJ ...\n",
      "Redmi  REDMI High Definition Bass Stereo 04G5 Wired H...\n",
      "Redmi  REDMI High Definition Bass Stereo Sound Wired ...\n",
      "Redmi  REDMI High Definition Bass Stereo 045 Wired He...\n",
      "Redmi                REDMI Dual Driver 016 Wired Headset\n",
      "SONY\n",
      "                                                   model\n",
      "brand                                                   \n",
      "SONY                         SONY C400 Bluetooth Headset\n",
      "SONY   SONY WH-CH510 Google Assistant enabled Bluetoo...\n",
      "SONY                      SONY WI-C310 Bluetooth Headset\n",
      "SONY               SONY ZX110A Wired without Mic Headset\n",
      "SONY                            SONY 310AP Wired Headset\n",
      "...                                                  ...\n",
      "SONY                SONY MDR-EX15AP_Violet Wired Headset\n",
      "SONY         SONY zx110lpblack Wired without Mic Headset\n",
      "SONY   SONY XB55 without Mic (Black) Wired without Mi...\n",
      "SONY            SONY XB550AP / MDR-XB550AP Wired Headset\n",
      "SONY                          SONY XB510AS Wired Headset\n",
      "\n",
      "[62 rows x 1 columns]\n",
      "Skullcandy\n",
      "                                                        model\n",
      "brand                                                        \n",
      "Skullcandy                  Skullcandy Ink'd Headset with mic\n",
      "Skullcandy                  Skullcandy Ink'd Headset with mic\n",
      "Skullcandy                    Skullcandy Jib Headset with mic\n",
      "Skullcandy                  Skullcandy Ink'd Headset with mic\n",
      "Skullcandy              Skullcandy Sesh Evo Bluetooth Headset\n",
      "...                                                       ...\n",
      "Skullcandy                Skullcandy S2DUL-J416 Wired Headset\n",
      "Skullcandy                Skullcandy Ink'd Plus Wired Headset\n",
      "Skullcandy  Skullcandy Jib Plus Active Sport Wireless Blue...\n",
      "Skullcandy                Skullcandy S2DUY-L102 Wired Headset\n",
      "Skullcandy  Skullcandy Jib Plus Active Sport Wireless Blue...\n",
      "\n",
      "[68 rows x 1 columns]\n",
      "Sony\n",
      "                                                  model\n",
      "brand                                                  \n",
      "Sony   Sony MDR-AS210 Open-Ear Active Sports Headphones\n",
      "Sony   Sony MDR-AS210 Open-Ear Active Sports Headphones\n",
      "Sony                 Sony MDR-EX15AP In-the-ear Headset\n",
      "ViVO\n",
      "                                                   model\n",
      "brand                                                   \n",
      "ViVO   ViVO High Bass Earphones Noise Isolating White...\n",
      "ViVO                       ViVO VOLDWH3312 Wired Headset\n",
      "ViVO        ViVO NEW TOP EARPHONE WITH MIC Wired Headset\n",
      "ViVO   ViVO High Bass Earphones Noise Isolating 1101 ...\n",
      "ViVO        ViVO 730 Wireless Neckband Bluetooth Headset\n",
      "...                                                  ...\n",
      "ViVO   ViVO new stylist earphone with mic Wired Heads...\n",
      "ViVO                              ViVO r60 Wired Headset\n",
      "ViVO               ViVO VIJHGFYVB YUGEYFHE Wired Headset\n",
      "ViVO                           ViVO v erph Wired Headset\n",
      "ViVO     ViVO tab ear sport gadgetking Bluetooth Headset\n",
      "\n",
      "[94 rows x 1 columns]\n",
      "boAt\n",
      "                                                   model\n",
      "brand                                                   \n",
      "boAt   boAt Airdopes 491 True Wireless Bluetooth Headset\n",
      "boAt                 boAt Airdopes 641 Bluetooth Headset\n",
      "boAt   boAt Rockerz 235v2 with ASAP charging Version ...\n",
      "boAt                 boAt Airdopes 131 Bluetooth Headset\n",
      "boAt   boAt Rockerz 235v2 with ASAP charging Version ...\n",
      "...                                                  ...\n",
      "boAt                  boAt Rockerz 240 Bluetooth Headset\n",
      "boAt                 boAt Airdopes 131 Bluetooth Headset\n",
      "boAt                 boAt Airdopes 461 Bluetooth Headset\n",
      "boAt                 boAt Airdopes 711 Bluetooth Headset\n",
      "boAt                 boAt Airdopes 461 Bluetooth Headset\n",
      "\n",
      "[104 rows x 1 columns]\n"
     ]
    }
   ],
   "source": [
    "for brand,model in g:\n",
    "    print(brand)\n",
    "    print(model)"
   ]
  },
  {
   "cell_type": "code",
   "execution_count": 68,
   "metadata": {},
   "outputs": [
    {
     "data": {
      "text/html": [
       "<div>\n",
       "<style scoped>\n",
       "    .dataframe tbody tr th:only-of-type {\n",
       "        vertical-align: middle;\n",
       "    }\n",
       "\n",
       "    .dataframe tbody tr th {\n",
       "        vertical-align: top;\n",
       "    }\n",
       "\n",
       "    .dataframe thead th {\n",
       "        text-align: right;\n",
       "    }\n",
       "</style>\n",
       "<table border=\"1\" class=\"dataframe\">\n",
       "  <thead>\n",
       "    <tr style=\"text-align: right;\">\n",
       "      <th></th>\n",
       "      <th>model</th>\n",
       "      <th>ratings</th>\n",
       "      <th>reviews</th>\n",
       "      <th>selling_price(Rs)</th>\n",
       "      <th>actual_price(Rs)</th>\n",
       "      <th>off(%)</th>\n",
       "      <th>brand</th>\n",
       "      <th>type</th>\n",
       "      <th>colour</th>\n",
       "      <th>discount</th>\n",
       "    </tr>\n",
       "  </thead>\n",
       "  <tbody>\n",
       "    <tr>\n",
       "      <th>0</th>\n",
       "      <td>boAt Airdopes 491 True Wireless Bluetooth Headset</td>\n",
       "      <td>3.6</td>\n",
       "      <td>751</td>\n",
       "      <td>2999</td>\n",
       "      <td>6974</td>\n",
       "      <td>57</td>\n",
       "      <td>boAt</td>\n",
       "      <td>True Wireless</td>\n",
       "      <td>Spirit Lime</td>\n",
       "      <td>3975</td>\n",
       "    </tr>\n",
       "    <tr>\n",
       "      <th>1</th>\n",
       "      <td>boAt Airdopes 641 Bluetooth Headset</td>\n",
       "      <td>4.2</td>\n",
       "      <td>28</td>\n",
       "      <td>2999</td>\n",
       "      <td>6974</td>\n",
       "      <td>57</td>\n",
       "      <td>boAt</td>\n",
       "      <td>True Wireless</td>\n",
       "      <td>Black Fusion</td>\n",
       "      <td>3975</td>\n",
       "    </tr>\n",
       "  </tbody>\n",
       "</table>\n",
       "</div>"
      ],
      "text/plain": [
       "                                               model  ratings  reviews  \\\n",
       "0  boAt Airdopes 491 True Wireless Bluetooth Headset      3.6      751   \n",
       "1                boAt Airdopes 641 Bluetooth Headset      4.2       28   \n",
       "\n",
       "   selling_price(Rs)  actual_price(Rs)  off(%) brand           type  \\\n",
       "0               2999              6974      57  boAt  True Wireless   \n",
       "1               2999              6974      57  boAt  True Wireless   \n",
       "\n",
       "         colour  discount  \n",
       "0   Spirit Lime      3975  \n",
       "1  Black Fusion      3975  "
      ]
     },
     "execution_count": 68,
     "metadata": {},
     "output_type": "execute_result"
    }
   ],
   "source": [
    "df.head(2)"
   ]
  },
  {
   "cell_type": "code",
   "execution_count": 73,
   "metadata": {},
   "outputs": [],
   "source": [
    "i=df.groupby(df.model)['brand']"
   ]
  },
  {
   "cell_type": "code",
   "execution_count": 74,
   "metadata": {},
   "outputs": [
    {
     "name": "stdout",
     "output_type": "stream",
     "text": [
      "Boult Audio Air Bass Free Pods Bluetooth Headset\n",
      "43    Boult\n",
      "56    Boult\n",
      "Name: brand, dtype: object\n",
      "Boult Audio Air Bass Muse Buds Bluetooth Headset\n",
      "165    Boult\n",
      "Name: brand, dtype: object\n",
      "Boult Audio Air Bass Power Buds Bluetooth Headset\n",
      "23     Boult\n",
      "110    Boult\n",
      "322    Boult\n",
      "Name: brand, dtype: object\n",
      "Boult Audio AirBass Combuds Bluetooth Headset\n",
      "51    Boult\n",
      "78    Boult\n",
      "Name: brand, dtype: object\n",
      "Boult Audio AirBass LiveBuds Bluetooth Headset\n",
      "211    Boult\n",
      "Name: brand, dtype: object\n",
      "Boult Audio AirBass Probuds Bluetooth Headset\n",
      "118    Boult\n",
      "202    Boult\n",
      "Name: brand, dtype: object\n",
      "Boult Audio Airbass Truebuds Bluetooth Headset\n",
      "136    Boult\n",
      "307    Boult\n",
      "Name: brand, dtype: object\n",
      "Boult Audio Bass Bud Q2 Wired Headset\n",
      "21    Boult\n",
      "Name: brand, dtype: object\n",
      "Boult Audio BassBuds Loop Wired Headset\n",
      "31    Boult\n",
      "Name: brand, dtype: object\n",
      "Boult Audio BassBuds Oak Pure-Wood Wired Headset\n",
      "153    Boult\n",
      "Name: brand, dtype: object\n",
      "Boult Audio BassBuds Storm Wired Headset\n",
      "98     Boult\n",
      "127    Boult\n",
      "142    Boult\n",
      "Name: brand, dtype: object\n",
      "Boult Audio BassBuds StormX Wired Headset\n",
      "115    Boult\n",
      "Name: brand, dtype: object\n",
      "Boult Audio BassBuds X2 Wired Headset\n",
      "241    Boult\n",
      "334    Boult\n",
      "Name: brand, dtype: object\n",
      "Boult Audio Loop Wired Headset\n",
      "371    Boult\n",
      "Name: brand, dtype: object\n",
      "Boult Audio Pro Bass Curve Pro Bluetooth Headset\n",
      "53    Boult\n",
      "Name: brand, dtype: object\n",
      "Boult Audio ProBass Buster Neckband in-Ear Wireless Blu...\n",
      "171    Boult\n",
      "Name: brand, dtype: object\n",
      "Boult Audio ProBass Curve Neckband Bluetooth Headset\n",
      "46    Boult\n",
      "61    Boult\n",
      "Name: brand, dtype: object\n",
      "Boult Audio ProBass Flow X Bluetooth Headset\n",
      "66    Boult\n",
      "67    Boult\n",
      "Name: brand, dtype: object\n",
      "Boult Audio ProBass Muse Bluetooth Headset\n",
      "247    Boult\n",
      "255    Boult\n",
      "Name: brand, dtype: object\n",
      "Boult Audio ProBass Space Bluetooth Headset\n",
      "219    Boult\n",
      "Name: brand, dtype: object\n",
      "Boult Audio Probass Boost Bluetooth Headset\n",
      "187    Boult\n",
      "Name: brand, dtype: object\n",
      "Boult Audio Thunder Bluetooth Headset\n",
      "72    Boult\n",
      "Name: brand, dtype: object\n",
      "Boult Audio X1 Wired Headset\n",
      "229    Boult\n",
      "Name: brand, dtype: object\n",
      "Boult Audio X1-WL Bluetooth Headset\n",
      "301    Boult\n",
      "Name: brand, dtype: object\n",
      "HRX X-Drops 6G with 15 Hours Playback Bluetooth Headset\n",
      "397    HRX\n",
      "Name: brand, dtype: object\n",
      "HRX X-Drops 9G with Quick Touch Technology Bluetooth He...\n",
      "147    HRX\n",
      "166    HRX\n",
      "Name: brand, dtype: object\n",
      "HRX X-Streak 2Q Wired Headset\n",
      "190    HRX\n",
      "Name: brand, dtype: object\n",
      "HRX X-Streak 5Q Wired Headset\n",
      "281    HRX\n",
      "Name: brand, dtype: object\n",
      "HRX X-Wave 11R with Flex Fold Design Technology Bluetoo...\n",
      "263    HRX\n",
      "338    HRX\n",
      "Name: brand, dtype: object\n",
      "HRX X-Wave 14R with Bass Boost Mode Bluetooth Headset\n",
      "238    HRX\n",
      "498    HRX\n",
      "Name: brand, dtype: object\n",
      "HRX X-Wave 7R with Flex Fold Design Technology Bluetoot...\n",
      "173    HRX\n",
      "Name: brand, dtype: object\n",
      "JBL 100% Original t50-hi Wired Wired Headset\n",
      "714    JBL\n",
      "Name: brand, dtype: object\n",
      "JBL C150SI Wired Headset\n",
      "37     JBL\n",
      "76     JBL\n",
      "126    JBL\n",
      "Name: brand, dtype: object\n",
      "JBL C50HI Wired Headset\n",
      "55     JBL\n",
      "140    JBL\n",
      "Name: brand, dtype: object\n",
      "JBL E15 Wired Headset\n",
      "549    JBL\n",
      "Name: brand, dtype: object\n",
      "JBL E25BT Bluetooth Headset\n",
      "374    JBL\n",
      "516    JBL\n",
      "Name: brand, dtype: object\n",
      "JBL Endurance Dive Bluetooth Headset\n",
      "578    JBL\n",
      "Name: brand, dtype: object\n",
      "JBL Endurance Jump Bluetooth Headset\n",
      "392    JBL\n",
      "450    JBL\n",
      "481    JBL\n",
      "Name: brand, dtype: object\n",
      "JBL Endurance Run Wired Headset\n",
      "162    JBL\n",
      "244    JBL\n",
      "289    JBL\n",
      "359    JBL\n",
      "Name: brand, dtype: object\n",
      "JBL Endurance RunBT IPX5 Sports Bluetooth Headset\n",
      "216    JBL\n",
      "226    JBL\n",
      "Name: brand, dtype: object\n",
      "JBL Endurance Sprint Bluetooth Headset\n",
      "550    JBL\n",
      "562    JBL\n",
      "Name: brand, dtype: object\n",
      "JBL JBLLIVE200BTRED Bluetooth Headset\n",
      "379    JBL\n",
      "Name: brand, dtype: object\n",
      "JBL JBLT210GRY Wired Headset\n",
      "490    JBL\n",
      "Name: brand, dtype: object\n",
      "JBL JBLT500BTWHT Bluetooth Headset\n",
      "363    JBL\n",
      "Name: brand, dtype: object\n",
      "JBL LIVE100 Wired Headset\n",
      "530    JBL\n",
      "Name: brand, dtype: object\n",
      "JBL LIVE200BT Wireless In-Ear Neckband Bluetooth Headse...\n",
      "207    JBL\n",
      "387    JBL\n",
      "424    JBL\n",
      "Name: brand, dtype: object\n",
      "JBL Live 100BT Bluetooth Headset\n",
      "435    JBL\n",
      "573    JBL\n",
      "Name: brand, dtype: object\n",
      "JBL Live 220BT Bluetooth Headset\n",
      "455    JBL\n",
      "673    JBL\n",
      "Name: brand, dtype: object\n",
      "JBL Live 25BT Bluetooth Headset\n",
      "362    JBL\n",
      "419    JBL\n",
      "621    JBL\n",
      "Name: brand, dtype: object\n",
      "JBL Original T50HI Black Wired Headset\n",
      "290    JBL\n",
      "Name: brand, dtype: object\n",
      "JBL Quantum 100 Wired Gaming Headset\n",
      "213    JBL\n",
      "231    JBL\n",
      "Name: brand, dtype: object\n",
      "JBL Quantum 200 Wired Gaming Headset\n",
      "297    JBL\n",
      "Name: brand, dtype: object\n",
      "JBL Quantum 300 Wired Gaming Headset\n",
      "300    JBL\n",
      "Name: brand, dtype: object\n",
      "JBL Quantum 50 Wired Gaming Headset\n",
      "232    JBL\n",
      "283    JBL\n",
      "526    JBL\n",
      "Name: brand, dtype: object\n",
      "JBL Reflect Mini Wired Headset\n",
      "640    JBL\n",
      "Name: brand, dtype: object\n",
      "JBL T100TWS Bluetooth Headset\n",
      "267    JBL\n",
      "287    JBL\n",
      "Name: brand, dtype: object\n",
      "JBL T110 Pure Bass Wired Headset\n",
      "256    JBL\n",
      "Name: brand, dtype: object\n",
      "JBL T110BT Bluetooth Headset\n",
      "333    JBL\n",
      "436    JBL\n",
      "539    JBL\n",
      "Name: brand, dtype: object\n",
      "JBL T160 Wired Headset\n",
      "107    JBL\n",
      "111    JBL\n",
      "Name: brand, dtype: object\n",
      "JBL T160BT Bluetooth Headset\n",
      "106    JBL\n",
      "Name: brand, dtype: object\n",
      "JBL T165BT Bluetooth Headset\n",
      "237    JBL\n",
      "396    JBL\n",
      "405    JBL\n",
      "408    JBL\n",
      "415    JBL\n",
      "487    JBL\n",
      "Name: brand, dtype: object\n",
      "JBL T205 Wired Headset\n",
      "349    JBL\n",
      "453    JBL\n",
      "506    JBL\n",
      "Name: brand, dtype: object\n",
      "JBL T205BT Bluetooth Headset\n",
      "176    JBL\n",
      "182    JBL\n",
      "Name: brand, dtype: object\n",
      "JBL T210 Wired Headset\n",
      "195    JBL\n",
      "511    JBL\n",
      "Name: brand, dtype: object\n",
      "JBL T210 Wired without Mic Headset\n",
      "358    JBL\n",
      "Name: brand, dtype: object\n",
      "JBL T450BT Extra Bass Bluetooth Headset\n",
      "174    JBL\n",
      "270    JBL\n",
      "Name: brand, dtype: object\n",
      "JBL T500 Bluetooth Headset\n",
      "286    JBL\n",
      "492    JBL\n",
      "Name: brand, dtype: object\n",
      "JBL T500BT Bluetooth Headset\n",
      "180    JBL\n",
      "214    JBL\n",
      "Name: brand, dtype: object\n",
      "JBL T50HI Wired Headset\n",
      "258    JBL\n",
      "304    JBL\n",
      "388    JBL\n",
      "Name: brand, dtype: object\n",
      "JBL Tune 110 Wired Headset\n",
      "160    JBL\n",
      "360    JBL\n",
      "443    JBL\n",
      "Name: brand, dtype: object\n",
      "JBL Tune 115BT Bluetooth Headset\n",
      "412    JBL\n",
      "420    JBL\n",
      "581    JBL\n",
      "Name: brand, dtype: object\n",
      "JBL Tune 125BT Bluetooth Headset\n",
      "152    JBL\n",
      "274    JBL\n",
      "319    JBL\n",
      "482    JBL\n",
      "Name: brand, dtype: object\n",
      "JBL Tune 700BT Bluetooth Headset\n",
      "345    JBL\n",
      "351    JBL\n",
      "551    JBL\n",
      "Name: brand, dtype: object\n",
      "JBL Tune600BTNC Bluetooth Headset\n",
      "689    JBL\n",
      "Name: brand, dtype: object\n",
      "Mivi BE5CL-GN Bluetooth Headset\n",
      "269    Mivi\n",
      "Name: brand, dtype: object\n",
      "Mivi Collar 2A with Fast Charging Bluetooth Headset\n",
      "57     Mivi\n",
      "181    Mivi\n",
      "184    Mivi\n",
      "Name: brand, dtype: object\n",
      "Mivi Collar Classic with Fast Charging Bluetooth Headse...\n",
      "4    Mivi\n",
      "Name: brand, dtype: object\n",
      "Mivi Collar Neckband Bluetooth Headset\n",
      "75     Mivi\n",
      "114    Mivi\n",
      "Name: brand, dtype: object\n",
      "Mivi DuoPods M20 True Wireless Bluetooth Headset\n",
      "32     Mivi\n",
      "73     Mivi\n",
      "77     Mivi\n",
      "144    Mivi\n",
      "Name: brand, dtype: object\n",
      "Mivi DuoPods M80 True Wireless Bluetooth Earbuds with Q...\n",
      "252    Mivi\n",
      "Name: brand, dtype: object\n",
      "Mivi DuoPods M80 True Wireless Bluetooth Headset with a...\n",
      "194    Mivi\n",
      "312    Mivi\n",
      "Name: brand, dtype: object\n",
      "Mivi Duopods M40 Bluetooth Headset\n",
      "272    Mivi\n",
      "Name: brand, dtype: object\n",
      "Mivi Rock and Roll W1 Wired Earphones with HD Sound and...\n",
      "337    Mivi\n",
      "Name: brand, dtype: object\n",
      "Mivi TEDPM40-BK Bluetooth Headset\n",
      "260    Mivi\n",
      "Name: brand, dtype: object\n",
      "Mivi ThunderBeats Bluetooth Headset\n",
      "292    Mivi\n",
      "Name: brand, dtype: object\n",
      "OPPO 0012 Wired Headset\n",
      "630    OPPO\n",
      "Name: brand, dtype: object\n",
      "OPPO 2 Wired Headset Wired Headset\n",
      "346    OPPO\n",
      "Name: brand, dtype: object\n",
      "OPPO 3.5mm-Jack Wired Headset\n",
      "200    OPPO\n",
      "Name: brand, dtype: object\n",
      "OPPO 3.5mm-Jack Wired Headset Earphone Wired Headset\n",
      "607    OPPO\n",
      "Name: brand, dtype: object\n",
      "OPPO 3.5mm-Jack Wired Headset Wired Headset\n",
      "704    OPPO\n",
      "Name: brand, dtype: object\n",
      "OPPO BEST SOUND EARPHONE WITH MIC Wired Headset\n",
      "285    OPPO\n",
      "Name: brand, dtype: object\n",
      "OPPO Buds 2 Wired Headset 0054154 Wired Headset\n",
      "218    OPPO\n",
      "Name: brand, dtype: object\n",
      "OPPO COMBO EARPHONE (PACK OF 2) 3.5 MM WIRED HEADSET Wi...\n",
      "265    OPPO\n",
      "Name: brand, dtype: object\n",
      "OPPO COMBO EARPHONE (PACK OF 2) 3.5MM WIRED HEADSET Wir...\n",
      "473    OPPO\n",
      "Name: brand, dtype: object\n",
      "OPPO D8752 Wired, Wired Headset\n",
      "460    OPPO\n",
      "Name: brand, dtype: object\n",
      "OPPO DEEP BASS EARPHONE COMPATIBLE WITH ALL MOBILE PHON...\n",
      "150    OPPO\n",
      "Name: brand, dtype: object\n",
      "OPPO Deep Bass Original Wired Headphone Wired Headset\n",
      "179    OPPO\n",
      "Name: brand, dtype: object\n",
      "OPPO EAR PHONE R 11-B Wired without Mic Headset\n",
      "610    OPPO\n",
      "Name: brand, dtype: object\n",
      "OPPO EARPHONE ALL MOBILE PHONES Wired Headset Wired wit...\n",
      "586    OPPO\n",
      "Name: brand, dtype: object\n",
      "OPPO EARPHONE COMPATIBLE WITH ALL MODELS Wired Headset\n",
      "303    OPPO\n",
      "504    OPPO\n",
      "Name: brand, dtype: object\n",
      "OPPO EARPHONE OTG ( IN THE EAR ) Wired Headset\n",
      "589    OPPO\n",
      "Name: brand, dtype: object\n",
      "OPPO EARPHONE SKS 01 Wired Headset\n",
      "601    OPPO\n",
      "Name: brand, dtype: object\n",
      "OPPO EARPHONE WIRED HEADSET Wired Headset\n",
      "82    OPPO\n",
      "Name: brand, dtype: object\n",
      "OPPO EARPHONE WIRED HEADSET Wired Headset Wired Headset\n",
      "370    OPPO\n",
      "Name: brand, dtype: object\n",
      "OPPO EARPHONE WITH Wired Headset\n",
      "618    OPPO\n",
      "Name: brand, dtype: object\n",
      "OPPO EARPHONE WITH Wired Headset ( True Wireless) Wired...\n",
      "612    OPPO\n",
      "Name: brand, dtype: object\n",
      "OPPO EARPHONE-003 MODEL WIRED HEADSET WITH MIC Wired He...\n",
      "367    OPPO\n",
      "Name: brand, dtype: object\n",
      "OPPO EXTRA BAZZ EARPHONE FOR ALL MOBILE Wired Headset W...\n",
      "257    OPPO\n",
      "Name: brand, dtype: object\n",
      "OPPO Ear Wired Earphones with Mic(white) Wired Headset\n",
      "354    OPPO\n",
      "Name: brand, dtype: object\n",
      "OPPO Earph-002 Wired Headset\n",
      "613    OPPO\n",
      "Name: brand, dtype: object\n",
      "OPPO Earph-003 Wired Headset\n",
      "495    OPPO\n",
      "Name: brand, dtype: object\n",
      "OPPO Earph-004 Wired Headset\n",
      "429    OPPO\n",
      "Name: brand, dtype: object\n",
      "OPPO Earph-006 Wired Headset\n",
      "631    OPPO\n",
      "Name: brand, dtype: object\n",
      "OPPO Earph-013 Wired Headset\n",
      "389    OPPO\n",
      "Name: brand, dtype: object\n",
      "OPPO Earphone 0001 (White, In the Ear) Wired Headset\n",
      "645    OPPO\n",
      "Name: brand, dtype: object\n",
      "OPPO Earphone 031 Wired Headset\n",
      "703    OPPO\n",
      "Name: brand, dtype: object\n",
      "OPPO Earphone Headphone Wired Headset\n",
      "105    OPPO\n",
      "Name: brand, dtype: object\n",
      "OPPO Earphone Wired Headset\n",
      "20    OPPO\n",
      "Name: brand, dtype: object\n",
      "OPPO Earphone with Powerful Super Bass Wired Headset Wi...\n",
      "329    OPPO\n",
      "Name: brand, dtype: object\n",
      "OPPO Earphonemic Wired Headset\n",
      "595    OPPO\n",
      "Name: brand, dtype: object\n",
      "OPPO Earphones Wired Headset\n",
      "588    OPPO\n",
      "Name: brand, dtype: object\n",
      "OPPO Earphones Wired Headset with Mic Wired Headset Wir...\n",
      "657    OPPO\n",
      "Name: brand, dtype: object\n",
      "OPPO Enco M31 EWN1O Bluetooth Headset\n",
      "38    OPPO\n",
      "Name: brand, dtype: object\n",
      "OPPO Enco W11 Bluetooth Headset\n",
      "81    OPPO\n",
      "Name: brand, dtype: object\n",
      "OPPO Enco W31 ETI11 / ETI112 Bluetooth Headset\n",
      "221    OPPO\n",
      "243    OPPO\n",
      "Name: brand, dtype: object\n",
      "OPPO Enco W51 with Active Noise Cancellation Bluetooth ...\n",
      "233    OPPO\n",
      "310    OPPO\n",
      "Name: brand, dtype: object\n",
      "OPPO HD_InEar Wired Headset\n",
      "440    OPPO\n",
      "Name: brand, dtype: object\n",
      "OPPO HIGH BASS HEADPHONE 0Z41ukiut Wired Headset\n",
      "99    OPPO\n",
      "Name: brand, dtype: object\n",
      "OPPO Handsfree_InEar Wired Headset\n",
      "438    OPPO\n",
      "Name: brand, dtype: object\n",
      "OPPO JMD Headphone Wired Headset\n",
      "649    OPPO\n",
      "Name: brand, dtype: object\n",
      "OPPO KJHGTYDEFIUB HGYUGKGUT KHGJV Wired Headset\n",
      "709    OPPO\n",
      "Name: brand, dtype: object\n",
      "OPPO LJHUIH KJB J 5491RS VEVE Wired Headset\n",
      "711    OPPO\n",
      "Name: brand, dtype: object\n",
      "OPPO MH-124 MODEL WOOFER HEADPHONES Wired Headset\n",
      "501    OPPO\n",
      "Name: brand, dtype: object\n",
      "OPPO MH-133 EARPHONE WITH MIC Wired Headset\n",
      "448    OPPO\n",
      "Name: brand, dtype: object\n",
      "OPPO MH-133 MODEL EARPHONE WITH MIC Wired Headset\n",
      "510    OPPO\n",
      "Name: brand, dtype: object\n",
      "OPPO MH-135 MODEL EARPHONE Wired Headset\n"
     ]
    },
    {
     "name": "stdout",
     "output_type": "stream",
     "text": [
      "561    OPPO\n",
      "Name: brand, dtype: object\n",
      "OPPO MH-139 MODEL WITH MIC PACK OF 2 Wired Headset\n",
      "220    OPPO\n",
      "Name: brand, dtype: object\n",
      "OPPO MODEL 009 WIRED HEADSET Wired Headset\n",
      "191    OPPO\n",
      "Name: brand, dtype: object\n",
      "OPPO New stylist Bluetooth Headset\n",
      "575    OPPO\n",
      "Name: brand, dtype: object\n",
      "OPPO OG Earphone Headphone Wired Headset\n",
      "566    OPPO\n",
      "Name: brand, dtype: object\n",
      "OPPO OPPOA5S Wired, Wired Headset\n",
      "585    OPPO\n",
      "Name: brand, dtype: object\n",
      "OPPO ORIGINAL 3.5MM COMBO PACK EARPHONE Wired Headset\n",
      "356    OPPO\n",
      "Name: brand, dtype: object\n",
      "OPPO ORIGINAL MH135 white wired Wired Headset\n",
      "447    OPPO\n",
      "Name: brand, dtype: object\n",
      "OPPO OpoCearphone Wired Headset\n",
      "350    OPPO\n",
      "Name: brand, dtype: object\n",
      "OPPO Originol- Earphone-Headphone Wired Headset\n",
      "295    OPPO\n",
      "Name: brand, dtype: object\n",
      "OPPO POGn Wired Headset\n",
      "430    OPPO\n",
      "Name: brand, dtype: object\n",
      "OPPO R 91 g Wired Headset\n",
      "580    OPPO\n",
      "Name: brand, dtype: object\n",
      "OPPO R11 WIRED EARPHONE FOR ALL SMART PHONES Wired Head...\n",
      "623    OPPO\n",
      "Name: brand, dtype: object\n",
      "OPPO R11 WIRED HEADSET PACK OF 2 Wired Headset\n",
      "635    OPPO\n",
      "Name: brand, dtype: object\n",
      "OPPO R9 WIRED HEADSET PACK OF 2 Wired Headset\n",
      "352    OPPO\n",
      "Name: brand, dtype: object\n",
      "OPPO R9- All Mobile Wired Headset\n",
      "543    OPPO\n",
      "Name: brand, dtype: object\n",
      "OPPO ROCCK EXTRA BAZZ EARPHONE FOR ALL MOBILE Wired Hea...\n",
      "433    OPPO\n",
      "Name: brand, dtype: object\n",
      "OPPO Rock Extra Bass in-Ear Sound Headphones with Mic 3...\n",
      "422    OPPO\n",
      "Name: brand, dtype: object\n",
      "OPPO SPORTS SOUND STEREO Bluetooth Headset\n",
      "547    OPPO\n",
      "Name: brand, dtype: object\n",
      "OPPO Sportclub Bluetooth Headset with Mic Bluetooth Hea...\n",
      "557    OPPO\n",
      "Name: brand, dtype: object\n",
      "OPPO Stereo Handsfree Wired Headset\n",
      "642    OPPO\n",
      "Name: brand, dtype: object\n",
      "OPPO Stereo_InEar Wired Headset\n",
      "485    OPPO\n",
      "Name: brand, dtype: object\n",
      "OPPO Stylist Bluetooth Headset\n",
      "326    OPPO\n",
      "Name: brand, dtype: object\n",
      "OPPO VHHH Wired Headset\n",
      "636    OPPO\n",
      "Name: brand, dtype: object\n",
      "OPPO VJGDYFGJKL;HG Wired Headset\n",
      "590    OPPO\n",
      "Name: brand, dtype: object\n",
      "OPPO Wired Headphone Wired Headset\n",
      "627    OPPO\n",
      "Name: brand, dtype: object\n",
      "OPPO Wireless Bluetooth Headphone With Mic & Fm Functio...\n",
      "722    OPPO\n",
      "Name: brand, dtype: object\n",
      "OPPO With Deep Bass Original Wired Headphone Wired Head...\n",
      "321    OPPO\n",
      "Name: brand, dtype: object\n",
      "OPPO XE680 Earphone Wired Headset\n",
      "617    OPPO\n",
      "Name: brand, dtype: object\n",
      "OPPO buds r-155 wired Wired Headset Wired Headset\n",
      "648    OPPO\n",
      "Name: brand, dtype: object\n",
      "OPPO combo of 2 earphone Wired Headset\n",
      "170    OPPO\n",
      "Name: brand, dtype: object\n",
      "OPPO combo of 2 earphone012 Wired Headset\n",
      "60    OPPO\n",
      "Name: brand, dtype: object\n",
      "OPPO jmd Wired Headset\n",
      "616    OPPO\n",
      "Name: brand, dtype: object\n",
      "OPPO q02 high bass earphone Wired Headset Wired Headset\n",
      "661    OPPO\n",
      "Name: brand, dtype: object\n",
      "OPPO r 5905 otg Wired Headset\n",
      "629    OPPO\n",
      "Name: brand, dtype: object\n",
      "ORAIMO 2 oep-e21 legendary sound with mic Wired Headset\n",
      "666    ORAIMO\n",
      "Name: brand, dtype: object\n",
      "ORAIMO E-21 Wired Headset\n",
      "464    ORAIMO\n",
      "Name: brand, dtype: object\n",
      "ORAIMO E21 Wired Headset\n",
      "368    ORAIMO\n",
      "Name: brand, dtype: object\n",
      "ORAIMO E74D Bluetooth Headset\n",
      "484    ORAIMO\n",
      "Name: brand, dtype: object\n",
      "ORAIMO FREEPODS 2 Bluetooth Headset\n",
      "532    ORAIMO\n",
      "Name: brand, dtype: object\n",
      "ORAIMO Free Pods 2S TWS True Wireless Half In-Ear Earbu...\n",
      "264    ORAIMO\n",
      "Name: brand, dtype: object\n",
      "ORAIMO Neckband Bluetooth Headphones with Mic Bluetooth...\n",
      "271    ORAIMO\n",
      "Name: brand, dtype: object\n",
      "ORAIMO Necklace 2 OEB-E74D Bluetooth Headset\n",
      "499    ORAIMO\n",
      "Name: brand, dtype: object\n",
      "ORAIMO OEB E98D Bluetooth Headset\n",
      "654    ORAIMO\n",
      "Name: brand, dtype: object\n",
      "ORAIMO OEB-E59D Bluetooth Headset\n",
      "299    ORAIMO\n",
      "Name: brand, dtype: object\n",
      "ORAIMO OEB-E75D Bluetooth Headset\n",
      "332    ORAIMO\n",
      "Name: brand, dtype: object\n",
      "ORAIMO OEB-E99D Bluetooth Headset\n",
      "382    ORAIMO\n",
      "Name: brand, dtype: object\n",
      "ORAIMO OEB-H85D Bluetooth without Mic Headset\n",
      "507    ORAIMO\n",
      "Name: brand, dtype: object\n",
      "ORAIMO OEP-E21 Wired Headset\n",
      "197    ORAIMO\n",
      "699    ORAIMO\n",
      "Name: brand, dtype: object\n",
      "ORAIMO OEP-E37 Wired Headset\n",
      "410    ORAIMO\n",
      "Name: brand, dtype: object\n",
      "ORAIMO ORAMO_E94D_FREEPODS_TWS Bluetooth Headset\n",
      "465    ORAIMO\n",
      "Name: brand, dtype: object\n",
      "ORAIMO Oriamo earphone e-21 Wired Headset\n",
      "439    ORAIMO\n",
      "Name: brand, dtype: object\n",
      "ORAIMO SHARK 2 (59D) WIRELESS HEADPHONE Bluetooth Heads...\n",
      "340    ORAIMO\n",
      "Name: brand, dtype: object\n",
      "ORAIMO Sweat-Proof Headphones with Mic Bluetooth Headse...\n",
      "403    ORAIMO\n",
      "Name: brand, dtype: object\n",
      "ORAIMO Universal earphone with mic and deep bass Wired ...\n",
      "697    ORAIMO\n",
      "Name: brand, dtype: object\n",
      "ORAIMO Universal earphone with miv and deep bass Wired ...\n",
      "401    ORAIMO\n",
      "Name: brand, dtype: object\n",
      "ORAIMO VOEX E-23 Wired Headset\n",
      "695    ORAIMO\n",
      "Name: brand, dtype: object\n",
      "ORAIMO necklace 2 e74d Bluetooth Headset\n",
      "647    ORAIMO\n",
      "Name: brand, dtype: object\n",
      "ORAIMO oep-E10 Pure Bass & in-Ear Wired Earphones with ...\n",
      "554    ORAIMO\n",
      "Name: brand, dtype: object\n",
      "ORAIMO vortex waired earphone Wired Headset\n",
      "528    ORAIMO\n",
      "Name: brand, dtype: object\n",
      "OnePlus Buds Bluetooth Headset\n",
      "120    OnePlus\n",
      "177    OnePlus\n",
      "Name: brand, dtype: object\n",
      "OnePlus Buds Z Bluetooth Headset\n",
      "19     OnePlus\n",
      "44     OnePlus\n",
      "100    OnePlus\n",
      "119    OnePlus\n",
      "Name: brand, dtype: object\n",
      "OnePlus Bullets Wireless Z Bass Edition Bluetooth Heads...\n",
      "3     OnePlus\n",
      "12    OnePlus\n",
      "Name: brand, dtype: object\n",
      "OnePlus Bullets Wireless Z Bluetooth Headset\n",
      "2     OnePlus\n",
      "24    OnePlus\n",
      "Name: brand, dtype: object\n",
      "PHILIPS 100% Original SHE3555RD Wired Headset\n",
      "477    PHILIPS\n",
      "Name: brand, dtype: object\n",
      "PHILIPS 100% Original SHE3555WT Wired Headset\n",
      "564    PHILIPS\n",
      "Name: brand, dtype: object\n",
      "PHILIPS Bass+ SHE4305 Wired Headset\n",
      "591    PHILIPS\n",
      "Name: brand, dtype: object\n",
      "PHILIPS PRO6305BK Wired Headset\n",
      "457    PHILIPS\n",
      "Name: brand, dtype: object\n",
      "PHILIPS SHB1805 BK Bluetooth Headset\n",
      "445    PHILIPS\n",
      "Name: brand, dtype: object\n",
      "PHILIPS SHB1805BK Bluetooth Headset\n",
      "400    PHILIPS\n",
      "Name: brand, dtype: object\n",
      "PHILIPS SHB2505BK True Wireless(TWS) with Voice Assista...\n",
      "431    PHILIPS\n",
      "Name: brand, dtype: object\n",
      "PHILIPS SHB4305BK Bluetooth Headset\n",
      "414    PHILIPS\n",
      "Name: brand, dtype: object\n",
      "PHILIPS SHB4305WT Bluetooth Headset\n",
      "721    PHILIPS\n",
      "Name: brand, dtype: object\n",
      "PHILIPS SHE1405BK Wired Headset\n",
      "609    PHILIPS\n",
      "Name: brand, dtype: object\n",
      "PHILIPS SHE1405BK/94 Wired Headset\n",
      "311    PHILIPS\n",
      "Name: brand, dtype: object\n",
      "PHILIPS SHE1405WT/94 Wired Headset\n",
      "451    PHILIPS\n",
      "Name: brand, dtype: object\n",
      "PHILIPS SHE1505 Pack of 2 Wired Headset\n",
      "449    PHILIPS\n",
      "Name: brand, dtype: object\n",
      "PHILIPS SHE1505 Pack of 5 Wired Headset\n",
      "619    PHILIPS\n",
      "Name: brand, dtype: object\n",
      "PHILIPS SHE1505BK/94 Wired Headset\n",
      "129    PHILIPS\n",
      "Name: brand, dtype: object\n",
      "PHILIPS SHE2305BK IN EARPHONE WITH MIC Wired Headset\n",
      "665    PHILIPS\n",
      "Name: brand, dtype: object\n",
      "PHILIPS SHE2305WT/00 Wired Headset\n",
      "478    PHILIPS\n",
      "Name: brand, dtype: object\n",
      "PHILIPS SHE2405WT/00 Wired Headset\n",
      "563    PHILIPS\n",
      "Name: brand, dtype: object\n",
      "PHILIPS SHE3555RD Wired Headset\n",
      "696    PHILIPS\n",
      "Name: brand, dtype: object\n",
      "PHILIPS SHE3555WT Wired Headset\n",
      "542    PHILIPS\n",
      "Name: brand, dtype: object\n",
      "PHILIPS SHE3705BK/00 Wired Headset\n",
      "594    PHILIPS\n",
      "Name: brand, dtype: object\n",
      "PHILIPS SHE4305 Wired Headset\n",
      "364    PHILIPS\n",
      "Name: brand, dtype: object\n",
      "PHILIPS SHE4305WT/00 Wired Headset\n",
      "383    PHILIPS\n",
      "Name: brand, dtype: object\n",
      "PHILIPS SHK2000BL Wired without Mic Headset\n",
      "529    PHILIPS\n",
      "Name: brand, dtype: object\n",
      "PHILIPS SHK2000BL/00 Bluetooth without Mic Headset\n",
      "395    PHILIPS\n",
      "Name: brand, dtype: object\n",
      "PHILIPS TAH4205BK/00 Bluetooth Headset\n",
      "676    PHILIPS\n",
      "Name: brand, dtype: object\n",
      "PHILIPS TASH402BK Bluetooth Headset\n",
      "544    PHILIPS\n",
      "Name: brand, dtype: object\n",
      "PHILIPS TAT1215BK (TWS) with IPX4 Splash-Proof Design B...\n",
      "128    PHILIPS\n",
      "Name: brand, dtype: object\n",
      "PHILIPS TAT4205BK (TWS) with IPX5 Splash-Proof Design B...\n",
      "282    PHILIPS\n",
      "Name: brand, dtype: object\n",
      "PHILIPS TAUH202BK/00 Bluetooth Headset\n",
      "502    PHILIPS\n",
      "Name: brand, dtype: object\n",
      "PHILIPS TAUN102BK Bluetooth Headset\n",
      "463    PHILIPS\n",
      "Name: brand, dtype: object\n",
      "PHILIPS TAUT102BK True Wireless(TWS) with Voice Assista...\n",
      "159    PHILIPS\n",
      "Name: brand, dtype: object\n",
      "PHILIPS TX2 Bluetooth without Mic Headset\n",
      "668    PHILIPS\n",
      "Name: brand, dtype: object\n",
      "PHILIPS Unisex In-Ear Headphones Bluetooth Headset\n",
      "712    PHILIPS\n",
      "Name: brand, dtype: object\n",
      "PHILIPS UpBeat TAUH202BK Wireless Bluetooth Headset\n",
      "239    PHILIPS\n",
      "Name: brand, dtype: object\n",
      "PHILIPS Upbeat TAN2215BK Bluetooth Headset\n",
      "291    PHILIPS\n",
      "Name: brand, dtype: object\n",
      "Portronics CONCH GAMA POR 1025 Wired Headset\n",
      "538    Portronics\n",
      "Name: brand, dtype: object\n",
      "Portronics Conch 202 Wired Headset\n",
      "707    Portronics\n",
      "Name: brand, dtype: object\n",
      "Portronics Conch Delta POR-1146 in-Ear Wired Earphone W...\n",
      "624    Portronics\n",
      "Name: brand, dtype: object\n",
      "Portronics DELTA IN EAR EARPHONE POR 1146 Wired Headset\n",
      "708    Portronics\n",
      "Name: brand, dtype: object\n",
      "Portronics Harmonics 216 Bluetooth Headset\n",
      "168    Portronics\n",
      "188    Portronics\n",
      "Name: brand, dtype: object\n",
      "Portronics Harmonics 216 POR-1204 Bluetooth Headset\n",
      "570    Portronics\n",
      "Name: brand, dtype: object\n",
      "Portronics Harmonics 222 / POR 1045 Bluetooth Headset\n",
      "103    Portronics\n",
      "Name: brand, dtype: object\n",
      "Portronics Harmonics 222 Bluetooth Headset\n",
      "97    Portronics\n",
      "Name: brand, dtype: object\n",
      "Portronics Harmonics 230 Bluetooth Headset\n",
      "204    Portronics\n",
      "Name: brand, dtype: object\n",
      "Portronics Harmonics One Sports Bluetooth Headset\n",
      "417    Portronics\n",
      "536    Portronics\n",
      "541    Portronics\n",
      "Name: brand, dtype: object\n",
      "Portronics Harmonics Twins 22 Smart TWS Earpods Bluetoo...\n",
      "169    Portronics\n",
      "Name: brand, dtype: object\n",
      "Portronics Harmonics Twins 33, POR-1175 Bluetooth Heads...\n",
      "234    Portronics\n",
      "Name: brand, dtype: object\n",
      "Portronics Harmonics X Bluetooth Headset\n",
      "365    Portronics\n",
      "489    Portronics\n",
      "Name: brand, dtype: object\n",
      "Portronics Muffs M Pro 1074 Bluetooth Headset\n",
      "706    Portronics\n",
      "Name: brand, dtype: object\n",
      "Portronics Muffs Pro, POR-645 Bluetooth without Mic Hea...\n",
      "718    Portronics\n",
      "Name: brand, dtype: object\n",
      "Portronics POR 1050 Bluetooth Headset\n",
      "608    Portronics\n",
      "Name: brand, dtype: object\n",
      "Portronics POR-004 Muffs R Bluetooth Headset\n",
      "583    Portronics\n",
      "Name: brand, dtype: object\n",
      "Portronics POR-1050 Harmonics Twins II True Wireless Bl...\n",
      "314    Portronics\n",
      "Name: brand, dtype: object\n",
      "Portronics POR-1102 Harmonics Klip 4 Retractable Blueto...\n",
      "280    Portronics\n",
      "Name: brand, dtype: object\n",
      "Portronics POR-1146 Conch Delta Wired Headset\n",
      "386    Portronics\n",
      "Name: brand, dtype: object\n",
      "Portronics POR-1155 Conch Delta Wired Headset\n",
      "425    Portronics\n",
      "Name: brand, dtype: object\n",
      "Portronics POR-1156 Harmonics 224 Bluetooth Headset\n",
      "491    Portronics\n",
      "Name: brand, dtype: object\n",
      "Portronics POR-1160 Conch Gama Wired Headset\n",
      "472    Portronics\n",
      "Name: brand, dtype: object\n",
      "Portronics POR-1193 Conch Gama Wired Headset\n",
      "540    Portronics\n",
      "Name: brand, dtype: object\n",
      "Portronics POR-175 212 Bluetooth Headset\n",
      "524    Portronics\n",
      "Name: brand, dtype: object\n",
      "Portronics POR-325 Bluetooth Headset\n",
      "470    Portronics\n",
      "Name: brand, dtype: object\n",
      "Portronics POR-325 Harmonics Twins Mini Bluetooth Heads...\n",
      "316    Portronics\n",
      "Name: brand, dtype: object\n",
      "Portronics POR-678 Conch Beta Wired Headset\n",
      "206    Portronics\n",
      "Name: brand, dtype: object\n",
      "Portronics POR-927 Harmonics 200 Wireless Stereo Blueto...\n",
      "209    Portronics\n",
      "Name: brand, dtype: object\n",
      "Portronics Phoni 3 Retro Wired Headset\n",
      "655    Portronics\n",
      "Name: brand, dtype: object\n",
      "Portronics por-1146 universal mobile earphone with mic ...\n",
      "571    Portronics\n",
      "Name: brand, dtype: object\n",
      "REDMI Basic Wired Headset with Mic 01 Wired Headset\n",
      "402    Redmi\n",
      "Name: brand, dtype: object\n",
      "REDMI Basic Wired Headset with Mic 012CF Wired Headset\n",
      "653    Redmi\n",
      "Name: brand, dtype: object\n",
      "REDMI Basic Wired Headset with Mic 01DDFW Wired Headset\n",
      "515    Redmi\n",
      "Name: brand, dtype: object\n",
      "REDMI Basic Wired Headset with Mic 01DF2CF Wired Headse...\n",
      "614    Redmi\n",
      "Name: brand, dtype: object\n",
      "REDMI Basic Wired Headset with Mic 01DF2CFFW Wired Head...\n",
      "677    Redmi\n",
      "Name: brand, dtype: object\n",
      "REDMI Basic Wired Headset with Mic 01DF2DFFCFFW Wired H...\n",
      "646    Redmi\n",
      "Name: brand, dtype: object\n",
      "REDMI Basic Wired Headset with Mic 01DFGGDFTDYFGTDJ Wir...\n",
      "638    Redmi\n",
      "Name: brand, dtype: object\n",
      "REDMI Basic Wired Headset with Mic 01DFGGTDYFGTDJ Wired...\n",
      "577    Redmi\n",
      "Name: brand, dtype: object\n",
      "REDMI Basic Wired Headset with Mic 01DFGTYTDJ Wired Hea...\n",
      "678    Redmi\n",
      "Name: brand, dtype: object\n",
      "REDMI Basic Wired Headset with Mic 01DTYTDJ Wired Heads...\n",
      "667    Redmi\n",
      "Name: brand, dtype: object\n",
      "REDMI Basic Wired Headset with Mic 01SDFDFGGDFTDYFGTDJ ...\n",
      "377    Redmi\n",
      "669    Redmi\n",
      "Name: brand, dtype: object\n",
      "REDMI Basic Wired Headset with Mic 01XDDJ Wired Headset\n",
      "469    Redmi\n",
      "Name: brand, dtype: object\n",
      "REDMI Basic Wired Headset with Mic RSDDF Wired Headset\n",
      "555    Redmi\n",
      "Name: brand, dtype: object\n",
      "REDMI Dual Driver 012 Wired Headset\n",
      "639    Redmi\n",
      "Name: brand, dtype: object\n",
      "REDMI Dual Driver 016 Wired Headset\n",
      "716    Redmi\n",
      "Name: brand, dtype: object\n",
      "REDMI Dual Driver 02 Wired Headset\n",
      "604    Redmi\n",
      "Name: brand, dtype: object\n",
      "REDMI Dual Driver 06 Wired Headset\n",
      "637    Redmi\n",
      "Name: brand, dtype: object\n",
      "REDMI Dual Driver 08 Wired Headset\n",
      "605    Redmi\n",
      "Name: brand, dtype: object\n",
      "REDMI Earbuds S Bluetooth Headset\n",
      "108    Redmi\n",
      "122    Redmi\n",
      "Name: brand, dtype: object\n",
      "REDMI High Definition Bass Stereo 045 Wired Headset\n",
      "687    Redmi\n",
      "Name: brand, dtype: object\n",
      "REDMI High Definition Bass Stereo 0454 Wired Headset\n",
      "480    Redmi\n",
      "Name: brand, dtype: object\n",
      "REDMI High Definition Bass Stereo 04G5 Wired Headset\n",
      "683    Redmi\n",
      "Name: brand, dtype: object\n",
      "REDMI High Definition Bass Stereo Sound G6 Wired Headse...\n",
      "567    Redmi\n",
      "Name: brand, dtype: object\n",
      "REDMI High Definition Bass Stereo Sound G6GFFG Wired He...\n",
      "632    Redmi\n",
      "Name: brand, dtype: object\n",
      "REDMI High Definition Bass Stereo Sound HGFG Wired Head...\n",
      "663    Redmi\n",
      "Name: brand, dtype: object\n",
      "REDMI High Definition Bass Stereo Sound HGFGGV Wired He...\n",
      "462    Redmi\n",
      "Name: brand, dtype: object\n",
      "REDMI High Definition Bass Stereo Sound HHFGFGV Wired H...\n",
      "486    Redmi\n",
      "Name: brand, dtype: object\n",
      "REDMI High Definition Bass Stereo Sound HHGBVGV Wired H...\n",
      "626    Redmi\n",
      "Name: brand, dtype: object\n",
      "REDMI High Definition Bass Stereo Sound HHGGV Wired Hea...\n",
      "155    Redmi\n",
      "Name: brand, dtype: object\n",
      "REDMI High Definition Bass Stereo Sound UJDF Wired Head...\n",
      "602    Redmi\n",
      "Name: brand, dtype: object\n",
      "REDMI High Definition Bass Stereo Sound Wired Headset\n",
      "686    Redmi\n",
      "Name: brand, dtype: object\n",
      "REDMI Original High Bass Sound sterecyfyco Headphone 02...\n",
      "366    Redmi\n",
      "Name: brand, dtype: object\n",
      "REDMI Original High Bass Sound stereo Headphone 02 Wire...\n",
      "224    Redmi\n",
      "Name: brand, dtype: object\n",
      "REDMI Original High Bass Sound stereo00 Headphone Wired...\n",
      "348    Redmi\n",
      "Name: brand, dtype: object\n",
      "REDMI SonicBass Neckband Bluetooth Headset\n",
      "68    Redmi\n",
      "Name: brand, dtype: object\n",
      "REDMI Sportclub Bluetooth Headset with Mic 023 Wired He...\n",
      "658    Redmi\n",
      "Name: brand, dtype: object\n",
      "REDMI Sportclub Bluetooth Headset with Mic 025 Wired He...\n",
      "651    Redmi\n",
      "Name: brand, dtype: object\n",
      "REDMI Sportclub Bluetooth Headset with Mic 033 Wired He...\n"
     ]
    },
    {
     "name": "stdout",
     "output_type": "stream",
     "text": [
      "546    Redmi\n",
      "Name: brand, dtype: object\n",
      "REDMI YDJC01JY Wired Headset\n",
      "217    Redmi\n",
      "Name: brand, dtype: object\n",
      "Redmi by Mi Hi-Resolution Audio Wired Headset\n",
      "54    Redmi\n",
      "95    Redmi\n",
      "Name: brand, dtype: object\n",
      "SONY 310AP Wired Headset\n",
      "70     SONY\n",
      "88     SONY\n",
      "124    SONY\n",
      "Name: brand, dtype: object\n",
      "SONY AS210AP SPORTS Wired Headset\n",
      "240    SONY\n",
      "Name: brand, dtype: object\n",
      "SONY C400 Bluetooth Headset\n",
      "29     SONY\n",
      "104    SONY\n",
      "259    SONY\n",
      "323    SONY\n",
      "357    SONY\n",
      "Name: brand, dtype: object\n",
      "SONY C400BluetoothBlack Bluetooth Headset\n",
      "545    SONY\n",
      "Name: brand, dtype: object\n",
      "SONY EX14AP Wired Headset\n",
      "123    SONY\n",
      "132    SONY\n",
      "Name: brand, dtype: object\n",
      "SONY EX155 Wired Headset\n",
      "246    SONY\n",
      "251    SONY\n",
      "Name: brand, dtype: object\n",
      "SONY EX155AP Wired Headset\n",
      "245    SONY\n",
      "423    SONY\n",
      "Name: brand, dtype: object\n",
      "SONY EX15AP Wired Headset\n",
      "235    SONY\n",
      "355    SONY\n",
      "Name: brand, dtype: object\n",
      "SONY EX15AP Wired without Mic Headset\n",
      "298    SONY\n",
      "483    SONY\n",
      "Name: brand, dtype: object\n",
      "SONY EX15LP Wired without Mic Headset\n",
      "459    SONY\n",
      "Name: brand, dtype: object\n",
      "SONY EX255AP Wired Headset\n",
      "201    SONY\n",
      "309    SONY\n",
      "Name: brand, dtype: object\n",
      "SONY MDR-EX15AP_Violet Wired Headset\n",
      "553    SONY\n",
      "Name: brand, dtype: object\n",
      "SONY MDR-XB450AP_Red Wired Headset\n",
      "341    SONY\n",
      "Name: brand, dtype: object\n",
      "SONY MDR-ZX110 Wired without Mic Headset\n",
      "531    SONY\n",
      "Name: brand, dtype: object\n",
      "SONY MDR-ZX110-AP Wired Headset\n",
      "442    SONY\n",
      "Name: brand, dtype: object\n",
      "SONY MDR-ZX110/WC(in) Wired without Mic Headset\n",
      "537    SONY\n",
      "Name: brand, dtype: object\n",
      "SONY MDR-ZX110APW Wired Headset\n",
      "508    SONY\n",
      "Name: brand, dtype: object\n",
      "SONY MDR-ZX110APWCIN Wired Headset\n",
      "527    SONY\n",
      "Name: brand, dtype: object\n",
      "SONY WH-CH510 Google Assistant enabled Bluetooth Headse...\n",
      "33     SONY\n",
      "130    SONY\n",
      "167    SONY\n",
      "Name: brand, dtype: object\n",
      "SONY WI-C200 Bluetooth Headset\n",
      "203    SONY\n",
      "Name: brand, dtype: object\n",
      "SONY WI-C310 Bluetooth Headset\n",
      "39     SONY\n",
      "227    SONY\n",
      "376    SONY\n",
      "Name: brand, dtype: object\n",
      "SONY WI-SP510 Bluetooth Headset\n",
      "242    SONY\n",
      "250    SONY\n",
      "Name: brand, dtype: object\n",
      "SONY WI-XB400 Bluetooth Headset\n",
      "305    SONY\n",
      "Name: brand, dtype: object\n",
      "SONY WI-XB400 Extra Bass Wireless Stereo Headset Blueto...\n",
      "199    SONY\n",
      "230    SONY\n",
      "Name: brand, dtype: object\n",
      "SONY XB450 Wired without Mic Headset\n",
      "384    SONY\n",
      "517    SONY\n",
      "Name: brand, dtype: object\n",
      "SONY XB450AP Wired Headset\n",
      "208    SONY\n",
      "325    SONY\n",
      "Name: brand, dtype: object\n",
      "SONY XB510 Wired Headset\n",
      "427    SONY\n",
      "Name: brand, dtype: object\n",
      "SONY XB510AS Wired Headset\n",
      "467    SONY\n",
      "525    SONY\n",
      "694    SONY\n",
      "Name: brand, dtype: object\n",
      "SONY XB55 without Mic (Black) Wired without Mic Headset\n",
      "600    SONY\n",
      "Name: brand, dtype: object\n",
      "SONY XB550AP / MDR-XB550AP Wired Headset\n",
      "407    SONY\n",
      "659    SONY\n",
      "Name: brand, dtype: object\n",
      "SONY XB55AP Wired Headset\n",
      "183    SONY\n",
      "198    SONY\n",
      "391    SONY\n",
      "Name: brand, dtype: object\n",
      "SONY XB75 Wired Headset\n",
      "385    SONY\n",
      "Name: brand, dtype: object\n",
      "SONY ZX110 Wired without Mic Headset\n",
      "390    SONY\n",
      "Name: brand, dtype: object\n",
      "SONY ZX110A Wired without Mic Headset\n",
      "41    SONY\n",
      "Name: brand, dtype: object\n",
      "SONY ZX110AP Wired Headset\n",
      "421    SONY\n",
      "Name: brand, dtype: object\n",
      "SONY mdr155apblack Wired Headset\n",
      "446    SONY\n",
      "Name: brand, dtype: object\n",
      "SONY zx110lpblack Wired without Mic Headset\n",
      "599    SONY\n",
      "Name: brand, dtype: object\n",
      "Skullcandy Anti Headphone\n",
      "399    Skullcandy\n",
      "406    Skullcandy\n",
      "505    Skullcandy\n",
      "Name: brand, dtype: object\n",
      "Skullcandy Cassette Wireless Bluetooth Headset\n",
      "522    Skullcandy\n",
      "592    Skullcandy\n",
      "Name: brand, dtype: object\n",
      "Skullcandy Cassette Wireless Bluetooth without Mic Head...\n",
      "500    Skullcandy\n",
      "Name: brand, dtype: object\n",
      "Skullcandy Chops Flex Headset with Mic\n",
      "559    Skullcandy\n",
      "560    Skullcandy\n",
      "670    Skullcandy\n",
      "Name: brand, dtype: object\n",
      "Skullcandy Grind Bluetooth Headset with Mic\n",
      "572    Skullcandy\n",
      "Name: brand, dtype: object\n",
      "Skullcandy Ink'd Bluetooth Headset with Mic\n",
      "343    Skullcandy\n",
      "Name: brand, dtype: object\n",
      "Skullcandy Ink'd Headset with mic\n",
      "189    Skullcandy\n",
      "222    Skullcandy\n",
      "236    Skullcandy\n",
      "302    Skullcandy\n",
      "468    Skullcandy\n",
      "Name: brand, dtype: object\n",
      "Skullcandy Ink'd Plus Wired Headset\n",
      "328    Skullcandy\n",
      "675    Skullcandy\n",
      "691    Skullcandy\n",
      "Name: brand, dtype: object\n",
      "Skullcandy Ink'd Plus Wireless Bluetooth Headset\n",
      "514    Skullcandy\n",
      "533    Skullcandy\n",
      "548    Skullcandy\n",
      "Name: brand, dtype: object\n",
      "Skullcandy Jib Headset with mic\n",
      "228    Skullcandy\n",
      "327    Skullcandy\n",
      "372    Skullcandy\n",
      "437    Skullcandy\n",
      "444    Skullcandy\n",
      "520    Skullcandy\n",
      "556    Skullcandy\n",
      "576    Skullcandy\n",
      "Name: brand, dtype: object\n",
      "Skullcandy Jib Plus Active Sport Wireless Bluetooth Hea...\n",
      "404    Skullcandy\n",
      "698    Skullcandy\n",
      "720    Skullcandy\n",
      "Name: brand, dtype: object\n",
      "Skullcandy Jib Plus Wireless Bluetooth Headset\n",
      "369    Skullcandy\n",
      "644    Skullcandy\n",
      "Name: brand, dtype: object\n",
      "Skullcandy Jib Wired Headphone\n",
      "413    Skullcandy\n",
      "418    Skullcandy\n",
      "597    Skullcandy\n",
      "643    Skullcandy\n",
      "Name: brand, dtype: object\n",
      "Skullcandy JibTrue Wireless Bluetooth Headset\n",
      "503    Skullcandy\n",
      "620    Skullcandy\n",
      "Name: brand, dtype: object\n",
      "Skullcandy Riff BT Bluetooth Headset\n",
      "497    Skullcandy\n",
      "521    Skullcandy\n",
      "Name: brand, dtype: object\n",
      "Skullcandy S2DUL-J319 Wired Headset\n",
      "330    Skullcandy\n",
      "Name: brand, dtype: object\n",
      "Skullcandy S2DUL-J335 Wired Headset\n",
      "347    Skullcandy\n",
      "Name: brand, dtype: object\n",
      "Skullcandy S2DUL-J416 Wired Headset\n",
      "680    Skullcandy\n",
      "Name: brand, dtype: object\n",
      "Skullcandy S2DUL-J846 Wired Headset\n",
      "474    Skullcandy\n",
      "Name: brand, dtype: object\n",
      "Skullcandy S2DUY-L102 JIB Wired Headset\n",
      "320    Skullcandy\n",
      "Name: brand, dtype: object\n",
      "Skullcandy S2DUY-L102 Wired Headset\n",
      "719    Skullcandy\n",
      "Name: brand, dtype: object\n",
      "Skullcandy S2IKDY-010 Wired Headset\n",
      "671    Skullcandy\n",
      "Name: brand, dtype: object\n",
      "Skullcandy S2JPW-M003 Bluetooth Headset\n",
      "294    Skullcandy\n",
      "Name: brand, dtype: object\n",
      "Skullcandy S2JPW-M010 Bluetooth Headset\n",
      "494    Skullcandy\n",
      "Name: brand, dtype: object\n",
      "Skullcandy S2JPW-M101 Bluetooth Headset\n",
      "456    Skullcandy\n",
      "Name: brand, dtype: object\n",
      "Skullcandy S2JPW-N743 Bluetooth Headset\n",
      "598    Skullcandy\n",
      "Name: brand, dtype: object\n",
      "Skullcandy Sesh Evo Bluetooth Headset\n",
      "293    Skullcandy\n",
      "428    Skullcandy\n",
      "476    Skullcandy\n",
      "523    Skullcandy\n",
      "Name: brand, dtype: object\n",
      "Skullcandy Sesh S2TDW-M003 True Wireless Bluetooth Head...\n",
      "452    Skullcandy\n",
      "Name: brand, dtype: object\n",
      "Skullcandy Sesh S2TDW-M704 Bluetooth Headset\n",
      "493    Skullcandy\n",
      "Name: brand, dtype: object\n",
      "Skullcandy Sesh S2TDW-M723 Bluetooth Headset\n",
      "674    Skullcandy\n",
      "Name: brand, dtype: object\n",
      "Skullcandy Smokin' Buds 2 Bluetooth Headset with Mic\n",
      "394    Skullcandy\n",
      "Name: brand, dtype: object\n",
      "Skullcandy Spoke Bluetooth Headset\n",
      "308    Skullcandy\n",
      "Name: brand, dtype: object\n",
      "Skullcandy Stim Headset with mic\n",
      "496    Skullcandy\n",
      "584    Skullcandy\n",
      "679    Skullcandy\n",
      "Name: brand, dtype: object\n",
      "Skullcandy Uproar Bluetooth Headset with Mic\n",
      "324    Skullcandy\n",
      "335    Skullcandy\n",
      "Name: brand, dtype: object\n",
      "Sony MDR-AS210 Open-Ear Active Sports Headphones\n",
      "215    Sony\n",
      "268    Sony\n",
      "Name: brand, dtype: object\n",
      "Sony MDR-EX15AP In-the-ear Headset\n",
      "513    Sony\n",
      "Name: brand, dtype: object\n",
      "ViVO 1 Wired Headset\n",
      "454    ViVO\n",
      "Name: brand, dtype: object\n",
      "ViVO 21 Wired Headset\n",
      "509    ViVO\n",
      "Name: brand, dtype: object\n",
      "ViVO 3 Wired Headset\n",
      "248    ViVO\n",
      "Name: brand, dtype: object\n",
      "ViVO 730 Wireless Neckband Bluetooth Headset\n",
      "157    ViVO\n",
      "Name: brand, dtype: object\n",
      "ViVO B8752 Wired Headset\n",
      "411    ViVO\n",
      "Name: brand, dtype: object\n",
      "ViVO BEST EARPIS FOR RED PIS LOVER Bluetooth Headset\n",
      "432    ViVO\n",
      "Name: brand, dtype: object\n",
      "ViVO Bass Headset with good sound cliarity Wired Headse...\n",
      "313    ViVO\n",
      "690    ViVO\n",
      "Name: brand, dtype: object\n",
      "ViVO Best Bass bluetooth Bluetooth Headset\n",
      "336    ViVO\n",
      "Name: brand, dtype: object\n",
      "ViVO Best Selling Earphone With Best Quality Wired Head...\n",
      "625    ViVO\n",
      "Name: brand, dtype: object\n",
      "ViVO Black Golden stylist earphone with mic Wired Heads...\n",
      "416    ViVO\n",
      "Name: brand, dtype: object\n",
      "ViVO Black Sport Bluetooth Headset\n",
      "652    ViVO\n",
      "Name: brand, dtype: object\n",
      "ViVO Combo of 2 earph 012 Wired Headset\n",
      "163    ViVO\n",
      "Name: brand, dtype: object\n",
      "ViVO Combo of 2 earph 012 Wired Headset Wired Headset\n",
      "409    ViVO\n",
      "Name: brand, dtype: object\n",
      "ViVO Combo of earph+pouch Wired Headset\n",
      "361    ViVO\n",
      "Name: brand, dtype: object\n",
      "ViVO Deep Bass Wired Earphone with Mic Wired Headset Wi...\n",
      "574    ViVO\n",
      "Name: brand, dtype: object\n",
      "ViVO EARPHONE SKS 301 Wired Headset\n",
      "253    ViVO\n",
      "Name: brand, dtype: object\n",
      "ViVO EARPHONE Y20' NOTE9 S1 Wired Headset\n",
      "342    ViVO\n",
      "Name: brand, dtype: object\n",
      "ViVO EARPHONE high Wired Headset\n",
      "688    ViVO\n",
      "Name: brand, dtype: object\n",
      "ViVO EARPONE COMPATIBLE WITH ALL MODELS Wired Headset ....\n",
      "380    ViVO\n",
      "Name: brand, dtype: object\n",
      "ViVO Ear Universal Headphone wIth Mic Wired Headset\n",
      "375    ViVO\n",
      "Name: brand, dtype: object\n",
      "ViVO Earphone Wired Headset\n",
      "700    ViVO\n",
      "Name: brand, dtype: object\n",
      "ViVO Earphone with Mic & Remote Control Volume Button W...\n",
      "479    ViVO\n",
      "Name: brand, dtype: object\n",
      "ViVO Earphones Wired Headset\n",
      "692    ViVO\n",
      "Name: brand, dtype: object\n",
      "ViVO Fashion Hands-Free Stereo Earphones Wired Headset\n",
      "398    ViVO\n",
      "Name: brand, dtype: object\n",
      "ViVO Golden Stylist earphone with mic Wired Headset\n",
      "596    ViVO\n",
      "Name: brand, dtype: object\n",
      "ViVO Golden high cable wire controllable earbuds Wired ...\n",
      "681    ViVO\n",
      "Name: brand, dtype: object\n",
      "ViVO HANDSFREE_20 Wired Headset\n",
      "193    ViVO\n",
      "Name: brand, dtype: object\n",
      "ViVO HBGYGB IUYG KUJ Wired Headset\n",
      "565    ViVO\n",
      "Name: brand, dtype: object\n",
      "ViVO High Bass Earphones Noise Isolating 007 Wired Head...\n",
      "306    ViVO\n",
      "Name: brand, dtype: object\n",
      "ViVO High Bass Earphones Noise Isolating 03 Wired Heads...\n",
      "441    ViVO\n",
      "Name: brand, dtype: object\n",
      "ViVO High Bass Earphones Noise Isolating 05 Wired Heads...\n",
      "569    ViVO\n",
      "Name: brand, dtype: object\n",
      "ViVO High Bass Earphones Noise Isolating 1101 Wired Hea...\n",
      "134    ViVO\n",
      "664    ViVO\n",
      "Name: brand, dtype: object\n",
      "ViVO High Bass Earphones Noise Isolating White 1103 Wir...\n",
      "18     ViVO\n",
      "660    ViVO\n",
      "Name: brand, dtype: object\n",
      "ViVO High Bass Earphones Noise Isolating Wired Headset\n",
      "192    ViVO\n",
      "535    ViVO\n",
      "Name: brand, dtype: object\n",
      "ViVO High Bass Earphones Noise Isolating Wired Headset ...\n",
      "628    ViVO\n",
      "Name: brand, dtype: object\n",
      "ViVO JHUIH UOHOE U Wired Headset\n",
      "693    ViVO\n",
      "Name: brand, dtype: object\n",
      "ViVO MIXX5576 Wired Headset\n",
      "488    ViVO\n",
      "Name: brand, dtype: object\n",
      "ViVO NEW SPORT Bluetooth Headset\n",
      "593    ViVO\n",
      "Name: brand, dtype: object\n",
      "ViVO NEW STYLIST BLACK GOLDEN EARPHONE FOR EVERYONE Wir...\n",
      "458    ViVO\n",
      "Name: brand, dtype: object\n",
      "ViVO NEW STYLIST BLACK LOVE Wired Headset\n",
      "378    ViVO\n",
      "Name: brand, dtype: object\n",
      "ViVO NEW TOP EARPHONE WITH MIC Wired Headset\n",
      "71    ViVO\n",
      "Name: brand, dtype: object\n",
      "ViVO NEW TOP EARPHONE WITHE MIC Wired Headset\n",
      "519    ViVO\n",
      "Name: brand, dtype: object\n",
      "ViVO Natural Sound System with mic Wired Headset\n",
      "178    ViVO\n",
      "Name: brand, dtype: object\n",
      "ViVO New Arrival Mini Bluetooth headphone Bluetooth Hea...\n",
      "331    ViVO\n",
      "Name: brand, dtype: object\n",
      "ViVO New stylist Bluetooth Headset\n",
      "276    ViVO\n",
      "Name: brand, dtype: object\n",
      "ViVO Orginal Earphone OEM With mic Wired Headset\n",
      "434    ViVO\n",
      "Name: brand, dtype: object\n",
      "ViVO Phone Wireless Bluetooth In-Ear Headphones Bluetoo...\n",
      "273    ViVO\n",
      "Name: brand, dtype: object\n",
      "ViVO ROCK EARPHONE high BASS Wired Headset\n",
      "475    ViVO\n",
      "Name: brand, dtype: object\n",
      "ViVO Rock Extra Bass in-Ear Sound Headphones with Mic 3...\n",
      "288    ViVO\n",
      "Name: brand, dtype: object\n",
      "ViVO STYLIST BLACK GOLDEN EARPHONE FOR EVERYONE Wired w...\n",
      "344    ViVO\n",
      "Name: brand, dtype: object\n",
      "ViVO Sportclub Bluetooth Headset\n",
      "466    ViVO\n",
      "Name: brand, dtype: object\n",
      "ViVO Sportclub Bluetooth Headset with Mic Wired Headset\n",
      "662    ViVO\n",
      "Name: brand, dtype: object\n",
      "ViVO Stylish Earphones like earpods Wired Headset\n",
      "611    ViVO\n",
      "Name: brand, dtype: object\n",
      "ViVO Stylist Bluetooth Headset\n",
      "534    ViVO\n",
      "Name: brand, dtype: object\n",
      "ViVO Stylist Earphone with mic (white) Wired Headset\n",
      "353    ViVO\n",
      "Name: brand, dtype: object\n",
      "ViVO V Earph-102 Wired Headset\n",
      "512    ViVO\n",
      "Name: brand, dtype: object\n",
      "ViVO V Earph-103 Wired Headset\n",
      "471    ViVO\n",
      "Name: brand, dtype: object\n",
      "ViVO V Earph-104 Wired Headset\n",
      "568    ViVO\n",
      "Name: brand, dtype: object\n",
      "ViVO VIJHGFYVB YUGEYFHE Wired Headset\n",
      "705    ViVO\n",
      "Name: brand, dtype: object\n",
      "ViVO VOLDWH3312 Wired Headset\n",
      "63    ViVO\n",
      "Name: brand, dtype: object\n",
      "ViVO ViVONB Wired Headset\n",
      "603    ViVO\n",
      "Name: brand, dtype: object\n",
      "ViVO White C-Type Earph Vi010 Wired Headset\n",
      "684    ViVO\n",
      "Name: brand, dtype: object\n",
      "ViVO White_Buds Wired Headset\n",
      "223    ViVO\n",
      "Name: brand, dtype: object\n",
      "ViVO Wireless Bluetooth Headphones With Mic & FM Functi...\n",
      "650    ViVO\n",
      "Name: brand, dtype: object\n",
      "ViVO XE 680 High Bass Sound stereo Wired Headset\n",
      "225    ViVO\n",
      "Name: brand, dtype: object\n",
      "ViVO alternet sport thinkfull gadgetking Bluetooth Head...\n",
      "656    ViVO\n",
      "Name: brand, dtype: object\n",
      "ViVO astrim ear sport gadgetking Bluetooth Headset\n",
      "672    ViVO\n",
      "Name: brand, dtype: object\n",
      "ViVO best selling top attitude earphonne with mic Wired...\n",
      "284    ViVO\n",
      "587    ViVO\n",
      "Name: brand, dtype: object\n",
      "ViVO best stylist earphone with mic Wired Headset\n",
      "393    ViVO\n",
      "Name: brand, dtype: object\n",
      "ViVO caly deep bass earphone Wired Headset\n",
      "641    ViVO\n",
      "Name: brand, dtype: object\n",
      "ViVO eep Bass & Hi-Fi Clear Sound Wired Headset with Mi...\n",
      "582    ViVO\n",
      "Name: brand, dtype: object\n",
      "ViVO follsibiol ear sport gadgetking Bluetooth Headset\n",
      "633    ViVO\n",
      "Name: brand, dtype: object\n",
      "ViVO highbass_A Wired Headset\n",
      "606    ViVO\n",
      "Name: brand, dtype: object\n",
      "ViVO instert ear sport gadgetking Bluetooth Headset\n",
      "634    ViVO\n",
      "Name: brand, dtype: object\n",
      "ViVO jhu jihuigyu hgyugqsxbugulhlgbda0255 Wired Headset\n",
      "615    ViVO\n",
      "Name: brand, dtype: object\n",
      "ViVO new stylist earphone with mic Wired Headset (White...\n",
      "701    ViVO\n",
      "Name: brand, dtype: object\n",
      "ViVO new stylist headphone with super quality Wired Hea...\n",
      "175    ViVO\n",
      "Name: brand, dtype: object\n",
      "ViVO original xe680 white wired Wired Headset\n",
      "315    ViVO\n",
      "Name: brand, dtype: object\n",
      "ViVO r60 Wired Headset\n",
      "702    ViVO\n",
      "Name: brand, dtype: object\n",
      "ViVO rocck star smartBuy Bass Wired Headset With Mic Wi...\n",
      "558    ViVO\n",
      "Name: brand, dtype: object\n",
      "ViVO rock Bass Headset with mic pis Wired Headset Wired...\n",
      "579    ViVO\n",
      "Name: brand, dtype: object\n",
      "ViVO rock High Bass Earphones Noise Isolating 1101 Wire...\n",
      "158    ViVO\n",
      "Name: brand, dtype: object\n",
      "ViVO rock best selling earpis Wired Headset\n",
      "518    ViVO\n",
      "Name: brand, dtype: object\n",
      "ViVO smartBuy rock Bass Headset with Wired Headset\n",
      "461    ViVO\n",
      "Name: brand, dtype: object\n",
      "ViVO sporty sport gadgetking Bluetooth Headset\n",
      "622    ViVO\n",
      "Name: brand, dtype: object\n",
      "ViVO tab ear sport gadgetking Bluetooth Headset\n",
      "713    ViVO\n",
      "Name: brand, dtype: object\n",
      "ViVO universal earphone Wired Headset\n",
      "296    ViVO\n",
      "Name: brand, dtype: object\n",
      "ViVO v erph Wired Headset\n",
      "710    ViVO\n",
      "Name: brand, dtype: object\n",
      "ViVO y51L Wired Headset\n",
      "426    ViVO\n",
      "Name: brand, dtype: object\n",
      "boAt 100 Wireless Bluetooth Headset\n",
      "318    boAt\n",
      "Name: brand, dtype: object\n",
      "boAt 103 Wireless Bluetooth Headset\n",
      "22     boAt\n",
      "87     boAt\n",
      "205    boAt\n",
      "Name: brand, dtype: object\n",
      "boAt Airdopes 131 Bluetooth Headset\n",
      "6      boAt\n",
      "14     boAt\n",
      "682    boAt\n",
      "Name: brand, dtype: object\n",
      "boAt Airdopes 201 Earbuds Bluetooth Headset\n",
      "185    boAt\n",
      "275    boAt\n",
      "278    boAt\n",
      "339    boAt\n",
      "Name: brand, dtype: object\n",
      "boAt Airdopes 281v2 Bluetooth Headset\n",
      "92     boAt\n",
      "143    boAt\n",
      "Name: brand, dtype: object\n",
      "boAt Airdopes 381 Bluetooth Headset\n",
      "277    boAt\n",
      "Name: brand, dtype: object\n",
      "boAt Airdopes 381 with ASAP charge Bluetooth Headset\n",
      "34     boAt\n",
      "48     boAt\n",
      "74     boAt\n",
      "86     boAt\n",
      "89     boAt\n",
      "116    boAt\n",
      "131    boAt\n",
      "139    boAt\n",
      "164    boAt\n",
      "Name: brand, dtype: object\n",
      "boAt Airdopes 402 Bluetooth Headset\n",
      "36    boAt\n",
      "49    boAt\n",
      "52    boAt\n",
      "94    boAt\n",
      "Name: brand, dtype: object\n",
      "boAt Airdopes 412 Bluetooth Headset\n",
      "254    boAt\n",
      "Name: brand, dtype: object\n",
      "boAt Airdopes 431 Bluetooth Headset\n",
      "79     boAt\n",
      "154    boAt\n",
      "Name: brand, dtype: object\n",
      "boAt Airdopes 461 Bluetooth Headset\n"
     ]
    },
    {
     "name": "stdout",
     "output_type": "stream",
     "text": [
      "685    boAt\n",
      "717    boAt\n",
      "Name: brand, dtype: object\n",
      "boAt Airdopes 491 True Wireless Bluetooth Headset\n",
      "0     boAt\n",
      "80    boAt\n",
      "Name: brand, dtype: object\n",
      "boAt Airdopes 501 Bluetooth Headset\n",
      "381    boAt\n",
      "Name: brand, dtype: object\n",
      "boAt Airdopes 631 Bluetooth Headset\n",
      "279    boAt\n",
      "Name: brand, dtype: object\n",
      "boAt Airdopes 641 Bluetooth Headset\n",
      "1     boAt\n",
      "13    boAt\n",
      "84    boAt\n",
      "90    boAt\n",
      "Name: brand, dtype: object\n",
      "boAt Airdopes 711 Bluetooth Headset\n",
      "715    boAt\n",
      "Name: brand, dtype: object\n",
      "boAt BassHeads 100 Chennai Super Kings Edition Wired He...\n",
      "148    boAt\n",
      "Name: brand, dtype: object\n",
      "boAt BassHeads 100 Wired Headset\n",
      "11    boAt\n",
      "30    boAt\n",
      "40    boAt\n",
      "59    boAt\n",
      "Name: brand, dtype: object\n",
      "boAt BassHeads 172 Wired Headset\n",
      "141    boAt\n",
      "Name: brand, dtype: object\n",
      "boAt BassHeads 182 Wired Headset\n",
      "85     boAt\n",
      "121    boAt\n",
      "Name: brand, dtype: object\n",
      "boAt BassHeads 220 Super Extra Bass Wired Headset\n",
      "28     boAt\n",
      "62     boAt\n",
      "109    boAt\n",
      "113    boAt\n",
      "Name: brand, dtype: object\n",
      "boAt BassHeads 220 Wired Headset\n",
      "58    boAt\n",
      "Name: brand, dtype: object\n",
      "boAt BassHeads 900 Super Extra Bass Wired Headset\n",
      "96    boAt\n",
      "Name: brand, dtype: object\n",
      "boAt BassHeads 900 Wired Headset\n",
      "9    boAt\n",
      "Name: brand, dtype: object\n",
      "boAt Bassheads 100 MI Edition Wired Headset\n",
      "172    boAt\n",
      "Name: brand, dtype: object\n",
      "boAt Bassheads 103 Black Wired Headset\n",
      "10    boAt\n",
      "Name: brand, dtype: object\n",
      "boAt Bassheads 103 Blue Wired Headset\n",
      "17    boAt\n",
      "Name: brand, dtype: object\n",
      "boAt Bassheads 242 Wired Headset\n",
      "15    boAt\n",
      "42    boAt\n",
      "47    boAt\n",
      "65    boAt\n",
      "69    boAt\n",
      "Name: brand, dtype: object\n",
      "boAt Rockerz 195 Bluetooth Headset\n",
      "91     boAt\n",
      "151    boAt\n",
      "Name: brand, dtype: object\n",
      "boAt Rockerz 235v2 Bluetooth Headset\n",
      "26    boAt\n",
      "Name: brand, dtype: object\n",
      "boAt Rockerz 235v2 with ASAP charging Version 5.0 Bluet...\n",
      "5     boAt\n",
      "7     boAt\n",
      "27    boAt\n",
      "Name: brand, dtype: object\n",
      "boAt Rockerz 240 Bluetooth Headset\n",
      "262    boAt\n",
      "552    boAt\n",
      "Name: brand, dtype: object\n",
      "boAt Rockerz 255 Bluetooth Headset\n",
      "93     boAt\n",
      "125    boAt\n",
      "138    boAt\n",
      "149    boAt\n",
      "Name: brand, dtype: object\n",
      "boAt Rockerz 255F Bluetooth Headset\n",
      "25    boAt\n",
      "64    boAt\n",
      "Name: brand, dtype: object\n",
      "boAt Rockerz 255F Pro with Fast Charging Bluetooth Head...\n",
      "35     boAt\n",
      "83     boAt\n",
      "156    boAt\n",
      "Name: brand, dtype: object\n",
      "boAt Rockerz 261 Bluetooth Headset\n",
      "145    boAt\n",
      "196    boAt\n",
      "Name: brand, dtype: object\n",
      "boAt Rockerz 275v2 Bluetooth Headset\n",
      "373    boAt\n",
      "Name: brand, dtype: object\n",
      "boAt Rockerz 305v2 Bluetooth Headset\n",
      "249    boAt\n",
      "Name: brand, dtype: object\n",
      "boAt Rockerz 315 SVA with Google Assistant Bluetooth He...\n",
      "261    boAt\n",
      "Name: brand, dtype: object\n",
      "boAt Rockerz 335 Bluetooth Headset\n",
      "8     boAt\n",
      "16    boAt\n",
      "45    boAt\n",
      "Name: brand, dtype: object\n",
      "boAt Rockerz 370 Bluetooth Headset\n",
      "102    boAt\n",
      "137    boAt\n",
      "210    boAt\n",
      "Name: brand, dtype: object\n",
      "boAt Rockerz 400 Bluetooth Headset\n",
      "112    boAt\n",
      "Name: brand, dtype: object\n",
      "boAt Rockerz 400 Super Extra Bass Bluetooth Headset\n",
      "146    boAt\n",
      "Name: brand, dtype: object\n",
      "boAt Rockerz 450 Bluetooth Headset\n",
      "101    boAt\n",
      "Name: brand, dtype: object\n",
      "boAt Rockerz 450 Pro Bluetooth Headset\n",
      "117    boAt\n",
      "135    boAt\n",
      "317    boAt\n",
      "Name: brand, dtype: object\n",
      "boAt Rockerz 510 Super Extra Bass Bluetooth Headset\n",
      "50     boAt\n",
      "133    boAt\n",
      "186    boAt\n",
      "Name: brand, dtype: object\n",
      "boAt Rockerz 560 Bluetooth Headset\n",
      "266    boAt\n",
      "Name: brand, dtype: object\n",
      "boAt Rockerz 600 HD Sound Bluetooth Headset\n",
      "161    boAt\n",
      "212    boAt\n",
      "Name: brand, dtype: object\n"
     ]
    }
   ],
   "source": [
    "for brand,model_df in i:\n",
    "    print(brand)\n",
    "    print(model_df)"
   ]
  },
  {
   "cell_type": "code",
   "execution_count": null,
   "metadata": {},
   "outputs": [],
   "source": []
  }
 ],
 "metadata": {
  "kernelspec": {
   "display_name": "Python 3",
   "language": "python",
   "name": "python3"
  },
  "language_info": {
   "codemirror_mode": {
    "name": "ipython",
    "version": 3
   },
   "file_extension": ".py",
   "mimetype": "text/x-python",
   "name": "python",
   "nbconvert_exporter": "python",
   "pygments_lexer": "ipython3",
   "version": "3.8.5"
  }
 },
 "nbformat": 4,
 "nbformat_minor": 2
}
